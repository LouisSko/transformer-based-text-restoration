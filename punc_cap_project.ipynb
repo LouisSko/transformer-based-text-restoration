{
 "cells": [
  {
   "cell_type": "code",
   "execution_count": 1,
   "metadata": {
    "colab": {
     "base_uri": "https://localhost:8080/"
    },
    "executionInfo": {
     "elapsed": 34549,
     "status": "ok",
     "timestamp": 1704963057714,
     "user": {
      "displayName": "Louissko",
      "userId": "00337720139601541087"
     },
     "user_tz": -180
    },
    "id": "oI4J7nWlk4BX",
    "outputId": "a82d6263-0fb3-49cd-c5c1-1faec9915c75"
   },
   "outputs": [
    {
     "name": "stdout",
     "output_type": "stream",
     "text": [
      "Collecting sentencepiece\n",
      "  Downloading sentencepiece-0.1.99-cp310-cp310-manylinux_2_17_x86_64.manylinux2014_x86_64.whl (1.3 MB)\n",
      "\u001b[2K     \u001b[90m━━━━━━━━━━━━━━━━━━━━━━━━━━━━━━━━━━━━━━━━\u001b[0m \u001b[32m1.3/1.3 MB\u001b[0m \u001b[31m4.7 MB/s\u001b[0m eta \u001b[36m0:00:00\u001b[0m\n",
      "\u001b[?25hInstalling collected packages: sentencepiece\n",
      "Successfully installed sentencepiece-0.1.99\n",
      "Mounted at /content/gdrive\n"
     ]
    }
   ],
   "source": [
    "%load_ext autoreload\n",
    "%autoreload 2\n",
    "%reload_ext autoreload\n",
    "\n",
    "!pip install sentencepiece\n",
    "import torch\n",
    "import torch.nn as nn\n",
    "from transformers import RobertaTokenizer\n",
    "from torch.utils.data import DataLoader, TensorDataset\n",
    "import numpy as np\n",
    "import pandas as pd\n",
    "from tqdm import tqdm\n",
    "import torch.nn.functional as F\n",
    "from sklearn import metrics\n",
    "import os\n",
    "import matplotlib.pyplot as plt\n",
    "import re\n",
    "import pickle\n",
    "from google.colab import drive\n",
    "import sys\n",
    "\n",
    "drive.mount('/content/gdrive')\n",
    "sys.path.append('/content/gdrive/MyDrive/nlp-punctuation/punctuation-project')\n",
    "device = torch.device(\"cuda\" if torch.cuda.is_available() else \"cpu\")\n",
    "\n",
    "from model import Model, load_weights\n",
    "from solver import Solver, define_parser, initialize_model_and_components\n",
    "from prepare_data import DatasetText, DatasetTextProcessor, custom_collate_fn\n",
    "from read_data import create_data_book, load_text_data"
   ]
  },
  {
   "cell_type": "markdown",
   "metadata": {
    "collapsed": false,
    "id": "M8sFIytSk4Bb",
    "jupyter": {
     "outputs_hidden": false
    }
   },
   "source": [
    "# Prepare data"
   ]
  },
  {
   "cell_type": "code",
   "execution_count": 2,
   "metadata": {
    "executionInfo": {
     "elapsed": 1,
     "status": "ok",
     "timestamp": 1704963057714,
     "user": {
      "displayName": "Louissko",
      "userId": "00337720139601541087"
     },
     "user_tz": -180
    },
    "id": "MjL8uWUHmjYD"
   },
   "outputs": [],
   "source": [
    "parser = define_parser()\n",
    "\n",
    "# Simulate command-line arguments in a notebook\n",
    "args = parser.parse_args([\n",
    "\n",
    "    # loading and preparing data\n",
    "    \"--books_dir\", \"/content/gdrive/MyDrive/nlp-punctuation/punctuation-project/gutenberg_data/txt\",\n",
    "    \"--save_data_dir\", \"/content/gdrive/MyDrive/nlp-punctuation/punctuation-project/gutenberg_data\",\n",
    "    \"--num_workers\", \"8\",\n",
    "    \"--train_size\", \"300000\",\n",
    "    \"--valid_size\", \"30000\",\n",
    "    \"--test_size\", \"30000\",\n",
    "\n",
    "    # training model\n",
    "    \"--epochs\", \"1\",\n",
    "    \"--batch_size_train\", \"16\",\n",
    "    \"--batch_size_test\", \"64\",\n",
    "    \"--log_steps\", \"1000\",\n",
    "    \"--classes\", \".,:!?\",\n",
    "    \"--lr\", \"0.000005\",\n",
    "    \"--save_training_dir\", \"/content/gdrive/MyDrive/nlp-punctuation/punctuation-project/deberta-v3-base\",\n",
    "    \"--model_save_name\", \"deberta-v3-base-tokens\",\n",
    "    \"--pretrained_model\", 'microsoft/deberta-v3-base', #'roberta-base'\n",
    "\n",
    "    # loading checkpoint model\n",
    "    #\"--load_model\", \"/content/gdrive/MyDrive/nlp-punctuation/punctuation-project/deberta-v3-tokens/model_deberta-v3-tokens_last.pth\"\n",
    "    ])\n",
    "\n"
   ]
  },
  {
   "cell_type": "markdown",
   "metadata": {
    "id": "ChV6cdBtdK7W"
   },
   "source": [
    "The used dataset is created based on ~3000 books from the gutenberg corpus. First of all, I create a train, test and dev dataset from a random subset of the data. The size of the dataset could be expanded but I am limited by the computational ressources. The dev set may or may not be used later."
   ]
  },
  {
   "cell_type": "code",
   "execution_count": null,
   "metadata": {
    "id": "-RZ-uBBsrygg"
   },
   "outputs": [],
   "source": [
    "# create train valid test splits of the data\n",
    "train_text, valid_text, test_text = create_data_book(args, save=True)"
   ]
  },
  {
   "cell_type": "markdown",
   "metadata": {
    "id": "7XUAgYK8pAbU"
   },
   "source": [
    "now that the files got created once, they can be loaded from the save directory"
   ]
  },
  {
   "cell_type": "code",
   "execution_count": 3,
   "metadata": {
    "executionInfo": {
     "elapsed": 9060,
     "status": "ok",
     "timestamp": 1704956838060,
     "user": {
      "displayName": "Louissko",
      "userId": "00337720139601541087"
     },
     "user_tz": -180
    },
    "id": "x6k_r7nE8tFY"
   },
   "outputs": [],
   "source": [
    "# load the train valid test datasets\n",
    "train_text, valid_text, test_text  = load_text_data(args)"
   ]
  },
  {
   "cell_type": "markdown",
   "metadata": {
    "id": "EQPyrqkOYn9B",
    "jp-MarkdownHeadingCollapsed": true
   },
   "source": [
    "# Dataset Overview\n",
    "here the counts of the tokens are obtained for the dataset"
   ]
  },
  {
   "cell_type": "code",
   "execution_count": null,
   "metadata": {
    "id": "pHinbZQ2ZQPo"
   },
   "outputs": [],
   "source": [
    "# define model save dir\n",
    "args.pretrained_model = 'microsoft/deberta-v3-base'"
   ]
  },
  {
   "cell_type": "code",
   "execution_count": null,
   "metadata": {
    "colab": {
     "base_uri": "https://localhost:8080/",
     "height": 257,
     "referenced_widgets": [
      "f69613034cbf479492a875bb861c0705",
      "4d11f5f9585e4e4a861048edbe98bce3",
      "203440420d264cb68fd0b23967f325a1",
      "d65750bc40384b1baaf8e1afb6ead097",
      "7e620b6819984680bfb170253b97116d",
      "4742b40dabd04f1086af6ab4444abad2",
      "bcd8dc198b2c48e6af3b175826679cb5",
      "4499e8bca8ea42e4b7c018efec5cee91",
      "04442a102489495f8bee5c3715e75008",
      "fda3bc52a832454d8e4e887ae0944681",
      "19b664cb659b4281addeacb6c8af421b",
      "8b7c5ec1401d483a8a10d7c2916bf2c1",
      "0535874d4cdf4fa194cbe6d99eca2992",
      "3225bcd8785e460a855105d386a4cb93",
      "08af3d4938d044bd89e383b5d0e85858",
      "9b23d060ed864a26b504086401f35238",
      "b0e317a2900540adae99b4eae021763a",
      "fb70e506c211493db39b115106db8c5c",
      "b8104c55b6b546ebbfb6025acbcd7ed3",
      "0494d237cc2d42dabe6f259244f44cee",
      "40dc312b849d4ee498887d608cc25d12",
      "251dd3b195624e588a61e5f4217aa2a1",
      "69084ce20f31454da9d6f694277b0436",
      "bf68f5b870bc4eceb97d46ed88c262b3",
      "d769756c12f140668ce7cebaf28afd00",
      "9f7e540e05ca4493a97f4fb3b730baff",
      "8849c9cf2d8f46deb0b7c28e6b77776b",
      "7a4a77d1eae041ffbaeb3657db8ba4b7",
      "12912dfee48c44d2b226070e88cc85ec",
      "d0249adb7fc14cf0b61f7df5ed3c49f8",
      "1699193a8e204677b2f6b7f3fb4188fb",
      "269b7139fa674430809b185d3ecdd6d4",
      "6efe97fa547d48eeb00d36e5d2fde750",
      "ad8318ef77e44702a143f9d7506617e8",
      "df388c767c214de2bc63c2417224401d",
      "ba3170e97a8740bea641db00ae1c02c5",
      "48824a1149cc4762a8d0215df696e0f7",
      "cdd7505901db44afaeb81dba3b755282",
      "78b76b48c8804d9ea1695d1926073aaf",
      "01f047b66b4a4d31bc3813d1e7b88635",
      "170ce8d70e2e434a957a204fef958d0e",
      "8d33e380d03e407aa60aff281f0b0afd",
      "97f00d8e122d421e89aa2f555b3272f4",
      "8f2d09458a0547b8add2c9c2e9a13bdd"
     ]
    },
    "executionInfo": {
     "elapsed": 5652,
     "status": "ok",
     "timestamp": 1704829979094,
     "user": {
      "displayName": "Louissko",
      "userId": "00337720139601541087"
     },
     "user_tz": -180
    },
    "id": "nmfkUqzyZQPo",
    "outputId": "57491b71-9a2a-478e-83a9-3a021838a42b"
   },
   "outputs": [
    {
     "data": {
      "application/vnd.jupyter.widget-view+json": {
       "model_id": "f69613034cbf479492a875bb861c0705",
       "version_major": 2,
       "version_minor": 0
      },
      "text/plain": [
       "tokenizer_config.json:   0%|          | 0.00/52.0 [00:00<?, ?B/s]"
      ]
     },
     "metadata": {},
     "output_type": "display_data"
    },
    {
     "data": {
      "application/vnd.jupyter.widget-view+json": {
       "model_id": "8b7c5ec1401d483a8a10d7c2916bf2c1",
       "version_major": 2,
       "version_minor": 0
      },
      "text/plain": [
       "config.json:   0%|          | 0.00/579 [00:00<?, ?B/s]"
      ]
     },
     "metadata": {},
     "output_type": "display_data"
    },
    {
     "data": {
      "application/vnd.jupyter.widget-view+json": {
       "model_id": "69084ce20f31454da9d6f694277b0436",
       "version_major": 2,
       "version_minor": 0
      },
      "text/plain": [
       "spm.model:   0%|          | 0.00/2.46M [00:00<?, ?B/s]"
      ]
     },
     "metadata": {},
     "output_type": "display_data"
    },
    {
     "name": "stderr",
     "output_type": "stream",
     "text": [
      "/usr/local/lib/python3.10/dist-packages/transformers/convert_slow_tokenizer.py:473: UserWarning: The sentencepiece tokenizer that you are converting to a fast tokenizer uses the byte fallback option which is not implemented in the fast tokenizers. In practice this means that the fast version of the tokenizer can produce unknown tokens whereas the sentencepiece version would have converted these unknown tokens into a sequence of byte tokens matching the original piece of text.\n",
      "  warnings.warn(\n"
     ]
    },
    {
     "data": {
      "application/vnd.jupyter.widget-view+json": {
       "model_id": "ad8318ef77e44702a143f9d7506617e8",
       "version_major": 2,
       "version_minor": 0
      },
      "text/plain": [
       "pytorch_model.bin:   0%|          | 0.00/371M [00:00<?, ?B/s]"
      ]
     },
     "metadata": {},
     "output_type": "display_data"
    }
   ],
   "source": [
    "model = Model(args)"
   ]
  },
  {
   "cell_type": "code",
   "execution_count": null,
   "metadata": {
    "id": "Os_sU8KE5Xk4"
   },
   "outputs": [],
   "source": [
    "def count_labels(labels, counts_total):\n",
    "    # capitalization\n",
    "    unique_items, counts = torch.unique(labels, return_counts=True)\n",
    "    # Create a dictionary to store the results\n",
    "    label_dict = {item.item(): count.item() for item, count in zip(unique_items, counts)}\n",
    "\n",
    "    for key, item in label_dict.items():\n",
    "\n",
    "      if key not in counts_total.keys():\n",
    "        counts_total[key] = item\n",
    "      else:\n",
    "        counts_total[key] += item\n",
    "\n",
    "    return counts_total"
   ]
  },
  {
   "cell_type": "code",
   "execution_count": null,
   "metadata": {
    "colab": {
     "base_uri": "https://localhost:8080/"
    },
    "executionInfo": {
     "elapsed": 67007,
     "status": "ok",
     "timestamp": 1704832561149,
     "user": {
      "displayName": "Louissko",
      "userId": "00337720139601541087"
     },
     "user_tz": -180
    },
    "id": "cbTfMueiZE53",
    "outputId": "5f4e5c1b-27f7-42af-cc52-0252fb20e215"
   },
   "outputs": [
    {
     "name": "stderr",
     "output_type": "stream",
     "text": [
      "100%|██████████| 1875/1875 [00:33<00:00, 56.54it/s]\n",
      "100%|██████████| 1875/1875 [00:33<00:00, 56.75it/s]\n"
     ]
    }
   ],
   "source": [
    "# get word and token counts for the dataset\n",
    "datasets = {'train': train_text, 'valid': valid_text, 'test': test_text}\n",
    "\n",
    "results = {}\n",
    "\n",
    "for key, data in datasets.items():\n",
    "\n",
    "    dataset = DatasetTextProcessor(data, args.classes, model.tokenizer)\n",
    "    dl = DataLoader(dataset, batch_size = args.batch_size_train, shuffle=True, collate_fn=custom_collate_fn, num_workers=args.num_workers)\n",
    "\n",
    "    word_count = 0\n",
    "    token_count = 0\n",
    "    punc_counts_total = {}\n",
    "    cap_counts_total = {}\n",
    "\n",
    "    for encoding, word_ids, labels in tqdm(dl):\n",
    "\n",
    "      token_count += torch.sum(~torch.isnan(word_ids)).item()\n",
    "      word_ids[torch.isnan(word_ids)] = -100\n",
    "      word_count += (word_ids.max(dim=1).values+1).sum().item()\n",
    "\n",
    "      cap_counts_total = count_labels(labels[:,:,0], cap_counts_total)\n",
    "      punc_counts_total = count_labels(labels[:,:,1], punc_counts_total)\n",
    "\n",
    "\n",
    "    results[key] = {'words': word_count, 'tokens': token_count, 'cap_labels': cap_counts_total, 'punc_labels': punc_counts_total}\n",
    "\n",
    "results['train']['chunks']=len(train_text)\n",
    "results['valid']['chunks']=len(test_text)\n",
    "results['test']['chunks']=len(valid_text)"
   ]
  },
  {
   "cell_type": "code",
   "execution_count": null,
   "metadata": {
    "id": "3sR92Maw8P3w"
   },
   "outputs": [],
   "source": [
    "df = pd.DataFrame.from_dict(results, orient='index')\n",
    "df = df.reset_index()\n",
    "df = df.rename(columns={'index': 'Split'})\n",
    "\n",
    "# Flatten the nested dictionaries\n",
    "df = pd.concat([df.drop(['cap_labels', 'punc_labels'], axis=1), df['cap_labels'].apply(pd.Series), df['punc_labels'].apply(pd.Series)], axis=1)"
   ]
  },
  {
   "cell_type": "code",
   "execution_count": null,
   "metadata": {
    "id": "AR_udsou8lTF"
   },
   "outputs": [],
   "source": [
    "df = pd.DataFrame.from_dict(results, orient='index')\n",
    "df.index.name = 'Split'\n",
    "\n",
    "# Flatten the nested dictionaries\n",
    "df = pd.concat([df.drop(['cap_labels', 'punc_labels'], axis=1),\n",
    "                df['cap_labels'].apply(lambda x: {'LOWERCASE': x[0], 'UPPERCASE': x[1]}),\n",
    "                df['punc_labels'].apply(lambda x: {'NONE': x[0], 'PERIOD': x[1], 'COMMA': x[2], 'COLON': x[3], 'EXCLAMATION': x[4], 'QUESTION': x[5]})], axis=1)\n",
    "df = pd.concat([df.drop(['cap_labels', 'punc_labels'], axis=1), df['cap_labels'].apply(pd.Series), df['punc_labels'].apply(pd.Series)], axis=1)\n",
    "\n",
    "df = df.drop(columns=['LOWERCASE', 'NONE']).astype(int)"
   ]
  },
  {
   "cell_type": "code",
   "execution_count": null,
   "metadata": {
    "colab": {
     "base_uri": "https://localhost:8080/",
     "height": 195
    },
    "executionInfo": {
     "elapsed": 4,
     "status": "ok",
     "timestamp": 1704833081252,
     "user": {
      "displayName": "Louissko",
      "userId": "00337720139601541087"
     },
     "user_tz": -180
    },
    "id": "cRjN6GZi-FYb",
    "outputId": "2c890c7a-8ee1-4912-b6ec-a89c3002a195"
   },
   "outputs": [
    {
     "data": {
      "text/html": [
       "\n",
       "  <div id=\"df-1ccd0797-1d53-495d-a885-e79b95833b61\" class=\"colab-df-container\">\n",
       "    <div>\n",
       "<style scoped>\n",
       "    .dataframe tbody tr th:only-of-type {\n",
       "        vertical-align: middle;\n",
       "    }\n",
       "\n",
       "    .dataframe tbody tr th {\n",
       "        vertical-align: top;\n",
       "    }\n",
       "\n",
       "    .dataframe thead th {\n",
       "        text-align: right;\n",
       "    }\n",
       "</style>\n",
       "<table border=\"1\" class=\"dataframe\">\n",
       "  <thead>\n",
       "    <tr style=\"text-align: right;\">\n",
       "      <th></th>\n",
       "      <th>words</th>\n",
       "      <th>tokens</th>\n",
       "      <th>chunks</th>\n",
       "      <th>UPPERCASE</th>\n",
       "      <th>PERIOD</th>\n",
       "      <th>COMMA</th>\n",
       "      <th>COLON</th>\n",
       "      <th>EXCLAMATION</th>\n",
       "      <th>QUESTION</th>\n",
       "    </tr>\n",
       "    <tr>\n",
       "      <th>Split</th>\n",
       "      <th></th>\n",
       "      <th></th>\n",
       "      <th></th>\n",
       "      <th></th>\n",
       "      <th></th>\n",
       "      <th></th>\n",
       "      <th></th>\n",
       "      <th></th>\n",
       "      <th></th>\n",
       "    </tr>\n",
       "  </thead>\n",
       "  <tbody>\n",
       "    <tr>\n",
       "      <th>train</th>\n",
       "      <td>114037600</td>\n",
       "      <td>129054075</td>\n",
       "      <td>300000</td>\n",
       "      <td>11909117</td>\n",
       "      <td>5354785</td>\n",
       "      <td>8955566</td>\n",
       "      <td>191661</td>\n",
       "      <td>389252</td>\n",
       "      <td>435941</td>\n",
       "    </tr>\n",
       "    <tr>\n",
       "      <th>valid</th>\n",
       "      <td>11406828</td>\n",
       "      <td>12913272</td>\n",
       "      <td>30000</td>\n",
       "      <td>1197158</td>\n",
       "      <td>537997</td>\n",
       "      <td>895184</td>\n",
       "      <td>19020</td>\n",
       "      <td>38771</td>\n",
       "      <td>43916</td>\n",
       "    </tr>\n",
       "    <tr>\n",
       "      <th>test</th>\n",
       "      <td>11403627</td>\n",
       "      <td>12907347</td>\n",
       "      <td>30000</td>\n",
       "      <td>1192134</td>\n",
       "      <td>536941</td>\n",
       "      <td>896879</td>\n",
       "      <td>18886</td>\n",
       "      <td>38575</td>\n",
       "      <td>43514</td>\n",
       "    </tr>\n",
       "  </tbody>\n",
       "</table>\n",
       "</div>\n",
       "    <div class=\"colab-df-buttons\">\n",
       "\n",
       "  <div class=\"colab-df-container\">\n",
       "    <button class=\"colab-df-convert\" onclick=\"convertToInteractive('df-1ccd0797-1d53-495d-a885-e79b95833b61')\"\n",
       "            title=\"Convert this dataframe to an interactive table.\"\n",
       "            style=\"display:none;\">\n",
       "\n",
       "  <svg xmlns=\"http://www.w3.org/2000/svg\" height=\"24px\" viewBox=\"0 -960 960 960\">\n",
       "    <path d=\"M120-120v-720h720v720H120Zm60-500h600v-160H180v160Zm220 220h160v-160H400v160Zm0 220h160v-160H400v160ZM180-400h160v-160H180v160Zm440 0h160v-160H620v160ZM180-180h160v-160H180v160Zm440 0h160v-160H620v160Z\"/>\n",
       "  </svg>\n",
       "    </button>\n",
       "\n",
       "  <style>\n",
       "    .colab-df-container {\n",
       "      display:flex;\n",
       "      gap: 12px;\n",
       "    }\n",
       "\n",
       "    .colab-df-convert {\n",
       "      background-color: #E8F0FE;\n",
       "      border: none;\n",
       "      border-radius: 50%;\n",
       "      cursor: pointer;\n",
       "      display: none;\n",
       "      fill: #1967D2;\n",
       "      height: 32px;\n",
       "      padding: 0 0 0 0;\n",
       "      width: 32px;\n",
       "    }\n",
       "\n",
       "    .colab-df-convert:hover {\n",
       "      background-color: #E2EBFA;\n",
       "      box-shadow: 0px 1px 2px rgba(60, 64, 67, 0.3), 0px 1px 3px 1px rgba(60, 64, 67, 0.15);\n",
       "      fill: #174EA6;\n",
       "    }\n",
       "\n",
       "    .colab-df-buttons div {\n",
       "      margin-bottom: 4px;\n",
       "    }\n",
       "\n",
       "    [theme=dark] .colab-df-convert {\n",
       "      background-color: #3B4455;\n",
       "      fill: #D2E3FC;\n",
       "    }\n",
       "\n",
       "    [theme=dark] .colab-df-convert:hover {\n",
       "      background-color: #434B5C;\n",
       "      box-shadow: 0px 1px 3px 1px rgba(0, 0, 0, 0.15);\n",
       "      filter: drop-shadow(0px 1px 2px rgba(0, 0, 0, 0.3));\n",
       "      fill: #FFFFFF;\n",
       "    }\n",
       "  </style>\n",
       "\n",
       "    <script>\n",
       "      const buttonEl =\n",
       "        document.querySelector('#df-1ccd0797-1d53-495d-a885-e79b95833b61 button.colab-df-convert');\n",
       "      buttonEl.style.display =\n",
       "        google.colab.kernel.accessAllowed ? 'block' : 'none';\n",
       "\n",
       "      async function convertToInteractive(key) {\n",
       "        const element = document.querySelector('#df-1ccd0797-1d53-495d-a885-e79b95833b61');\n",
       "        const dataTable =\n",
       "          await google.colab.kernel.invokeFunction('convertToInteractive',\n",
       "                                                    [key], {});\n",
       "        if (!dataTable) return;\n",
       "\n",
       "        const docLinkHtml = 'Like what you see? Visit the ' +\n",
       "          '<a target=\"_blank\" href=https://colab.research.google.com/notebooks/data_table.ipynb>data table notebook</a>'\n",
       "          + ' to learn more about interactive tables.';\n",
       "        element.innerHTML = '';\n",
       "        dataTable['output_type'] = 'display_data';\n",
       "        await google.colab.output.renderOutput(dataTable, element);\n",
       "        const docLink = document.createElement('div');\n",
       "        docLink.innerHTML = docLinkHtml;\n",
       "        element.appendChild(docLink);\n",
       "      }\n",
       "    </script>\n",
       "  </div>\n",
       "\n",
       "\n",
       "<div id=\"df-e43e1e5d-d433-4b6d-8731-0380382561e8\">\n",
       "  <button class=\"colab-df-quickchart\" onclick=\"quickchart('df-e43e1e5d-d433-4b6d-8731-0380382561e8')\"\n",
       "            title=\"Suggest charts\"\n",
       "            style=\"display:none;\">\n",
       "\n",
       "<svg xmlns=\"http://www.w3.org/2000/svg\" height=\"24px\"viewBox=\"0 0 24 24\"\n",
       "     width=\"24px\">\n",
       "    <g>\n",
       "        <path d=\"M19 3H5c-1.1 0-2 .9-2 2v14c0 1.1.9 2 2 2h14c1.1 0 2-.9 2-2V5c0-1.1-.9-2-2-2zM9 17H7v-7h2v7zm4 0h-2V7h2v10zm4 0h-2v-4h2v4z\"/>\n",
       "    </g>\n",
       "</svg>\n",
       "  </button>\n",
       "\n",
       "<style>\n",
       "  .colab-df-quickchart {\n",
       "      --bg-color: #E8F0FE;\n",
       "      --fill-color: #1967D2;\n",
       "      --hover-bg-color: #E2EBFA;\n",
       "      --hover-fill-color: #174EA6;\n",
       "      --disabled-fill-color: #AAA;\n",
       "      --disabled-bg-color: #DDD;\n",
       "  }\n",
       "\n",
       "  [theme=dark] .colab-df-quickchart {\n",
       "      --bg-color: #3B4455;\n",
       "      --fill-color: #D2E3FC;\n",
       "      --hover-bg-color: #434B5C;\n",
       "      --hover-fill-color: #FFFFFF;\n",
       "      --disabled-bg-color: #3B4455;\n",
       "      --disabled-fill-color: #666;\n",
       "  }\n",
       "\n",
       "  .colab-df-quickchart {\n",
       "    background-color: var(--bg-color);\n",
       "    border: none;\n",
       "    border-radius: 50%;\n",
       "    cursor: pointer;\n",
       "    display: none;\n",
       "    fill: var(--fill-color);\n",
       "    height: 32px;\n",
       "    padding: 0;\n",
       "    width: 32px;\n",
       "  }\n",
       "\n",
       "  .colab-df-quickchart:hover {\n",
       "    background-color: var(--hover-bg-color);\n",
       "    box-shadow: 0 1px 2px rgba(60, 64, 67, 0.3), 0 1px 3px 1px rgba(60, 64, 67, 0.15);\n",
       "    fill: var(--button-hover-fill-color);\n",
       "  }\n",
       "\n",
       "  .colab-df-quickchart-complete:disabled,\n",
       "  .colab-df-quickchart-complete:disabled:hover {\n",
       "    background-color: var(--disabled-bg-color);\n",
       "    fill: var(--disabled-fill-color);\n",
       "    box-shadow: none;\n",
       "  }\n",
       "\n",
       "  .colab-df-spinner {\n",
       "    border: 2px solid var(--fill-color);\n",
       "    border-color: transparent;\n",
       "    border-bottom-color: var(--fill-color);\n",
       "    animation:\n",
       "      spin 1s steps(1) infinite;\n",
       "  }\n",
       "\n",
       "  @keyframes spin {\n",
       "    0% {\n",
       "      border-color: transparent;\n",
       "      border-bottom-color: var(--fill-color);\n",
       "      border-left-color: var(--fill-color);\n",
       "    }\n",
       "    20% {\n",
       "      border-color: transparent;\n",
       "      border-left-color: var(--fill-color);\n",
       "      border-top-color: var(--fill-color);\n",
       "    }\n",
       "    30% {\n",
       "      border-color: transparent;\n",
       "      border-left-color: var(--fill-color);\n",
       "      border-top-color: var(--fill-color);\n",
       "      border-right-color: var(--fill-color);\n",
       "    }\n",
       "    40% {\n",
       "      border-color: transparent;\n",
       "      border-right-color: var(--fill-color);\n",
       "      border-top-color: var(--fill-color);\n",
       "    }\n",
       "    60% {\n",
       "      border-color: transparent;\n",
       "      border-right-color: var(--fill-color);\n",
       "    }\n",
       "    80% {\n",
       "      border-color: transparent;\n",
       "      border-right-color: var(--fill-color);\n",
       "      border-bottom-color: var(--fill-color);\n",
       "    }\n",
       "    90% {\n",
       "      border-color: transparent;\n",
       "      border-bottom-color: var(--fill-color);\n",
       "    }\n",
       "  }\n",
       "</style>\n",
       "\n",
       "  <script>\n",
       "    async function quickchart(key) {\n",
       "      const quickchartButtonEl =\n",
       "        document.querySelector('#' + key + ' button');\n",
       "      quickchartButtonEl.disabled = true;  // To prevent multiple clicks.\n",
       "      quickchartButtonEl.classList.add('colab-df-spinner');\n",
       "      try {\n",
       "        const charts = await google.colab.kernel.invokeFunction(\n",
       "            'suggestCharts', [key], {});\n",
       "      } catch (error) {\n",
       "        console.error('Error during call to suggestCharts:', error);\n",
       "      }\n",
       "      quickchartButtonEl.classList.remove('colab-df-spinner');\n",
       "      quickchartButtonEl.classList.add('colab-df-quickchart-complete');\n",
       "    }\n",
       "    (() => {\n",
       "      let quickchartButtonEl =\n",
       "        document.querySelector('#df-e43e1e5d-d433-4b6d-8731-0380382561e8 button');\n",
       "      quickchartButtonEl.style.display =\n",
       "        google.colab.kernel.accessAllowed ? 'block' : 'none';\n",
       "    })();\n",
       "  </script>\n",
       "</div>\n",
       "\n",
       "  <div id=\"id_b890c1c2-a89f-420f-ab96-964577c4d844\">\n",
       "    <style>\n",
       "      .colab-df-generate {\n",
       "        background-color: #E8F0FE;\n",
       "        border: none;\n",
       "        border-radius: 50%;\n",
       "        cursor: pointer;\n",
       "        display: none;\n",
       "        fill: #1967D2;\n",
       "        height: 32px;\n",
       "        padding: 0 0 0 0;\n",
       "        width: 32px;\n",
       "      }\n",
       "\n",
       "      .colab-df-generate:hover {\n",
       "        background-color: #E2EBFA;\n",
       "        box-shadow: 0px 1px 2px rgba(60, 64, 67, 0.3), 0px 1px 3px 1px rgba(60, 64, 67, 0.15);\n",
       "        fill: #174EA6;\n",
       "      }\n",
       "\n",
       "      [theme=dark] .colab-df-generate {\n",
       "        background-color: #3B4455;\n",
       "        fill: #D2E3FC;\n",
       "      }\n",
       "\n",
       "      [theme=dark] .colab-df-generate:hover {\n",
       "        background-color: #434B5C;\n",
       "        box-shadow: 0px 1px 3px 1px rgba(0, 0, 0, 0.15);\n",
       "        filter: drop-shadow(0px 1px 2px rgba(0, 0, 0, 0.3));\n",
       "        fill: #FFFFFF;\n",
       "      }\n",
       "    </style>\n",
       "    <button class=\"colab-df-generate\" onclick=\"generateWithVariable('df')\"\n",
       "            title=\"Generate code using this dataframe.\"\n",
       "            style=\"display:none;\">\n",
       "\n",
       "  <svg xmlns=\"http://www.w3.org/2000/svg\" height=\"24px\"viewBox=\"0 0 24 24\"\n",
       "       width=\"24px\">\n",
       "    <path d=\"M7,19H8.4L18.45,9,17,7.55,7,17.6ZM5,21V16.75L18.45,3.32a2,2,0,0,1,2.83,0l1.4,1.43a1.91,1.91,0,0,1,.58,1.4,1.91,1.91,0,0,1-.58,1.4L9.25,21ZM18.45,9,17,7.55Zm-12,3A5.31,5.31,0,0,0,4.9,8.1,5.31,5.31,0,0,0,1,6.5,5.31,5.31,0,0,0,4.9,4.9,5.31,5.31,0,0,0,6.5,1,5.31,5.31,0,0,0,8.1,4.9,5.31,5.31,0,0,0,12,6.5,5.46,5.46,0,0,0,6.5,12Z\"/>\n",
       "  </svg>\n",
       "    </button>\n",
       "    <script>\n",
       "      (() => {\n",
       "      const buttonEl =\n",
       "        document.querySelector('#id_b890c1c2-a89f-420f-ab96-964577c4d844 button.colab-df-generate');\n",
       "      buttonEl.style.display =\n",
       "        google.colab.kernel.accessAllowed ? 'block' : 'none';\n",
       "\n",
       "      buttonEl.onclick = () => {\n",
       "        google.colab.notebook.generateWithVariable('df');\n",
       "      }\n",
       "      })();\n",
       "    </script>\n",
       "  </div>\n",
       "\n",
       "    </div>\n",
       "  </div>\n"
      ],
      "text/plain": [
       "           words     tokens  chunks  UPPERCASE   PERIOD    COMMA   COLON  \\\n",
       "Split                                                                      \n",
       "train  114037600  129054075  300000   11909117  5354785  8955566  191661   \n",
       "valid   11406828   12913272   30000    1197158   537997   895184   19020   \n",
       "test    11403627   12907347   30000    1192134   536941   896879   18886   \n",
       "\n",
       "       EXCLAMATION  QUESTION  \n",
       "Split                         \n",
       "train       389252    435941  \n",
       "valid        38771     43916  \n",
       "test         38575     43514  "
      ]
     },
     "execution_count": 162,
     "metadata": {},
     "output_type": "execute_result"
    }
   ],
   "source": [
    "df"
   ]
  },
  {
   "cell_type": "code",
   "execution_count": null,
   "metadata": {
    "colab": {
     "base_uri": "https://localhost:8080/"
    },
    "executionInfo": {
     "elapsed": 3,
     "status": "ok",
     "timestamp": 1704833097496,
     "user": {
      "displayName": "Louissko",
      "userId": "00337720139601541087"
     },
     "user_tz": -180
    },
    "id": "wt6eWNIdjwhI",
    "outputId": "297c40da-53ac-4d13-99a5-03899d7c0096"
   },
   "outputs": [
    {
     "name": "stdout",
     "output_type": "stream",
     "text": [
      "\\begin{tabular}{lrrrrrrrrr}\n",
      "\\toprule\n",
      "{} &      words &     tokens &  chunks &  UPPERCASE &   PERIOD &    COMMA &   COLON &  EXCLAMATION &  QUESTION \\\\\n",
      "Split &            &            &         &            &          &          &         &              &           \\\\\n",
      "\\midrule\n",
      "train &  114037600 &  129054075 &  300000 &   11909117 &  5354785 &  8955566 &  191661 &       389252 &    435941 \\\\\n",
      "valid &   11406828 &   12913272 &   30000 &    1197158 &   537997 &   895184 &   19020 &        38771 &     43916 \\\\\n",
      "test  &   11403627 &   12907347 &   30000 &    1192134 &   536941 &   896879 &   18886 &        38575 &     43514 \\\\\n",
      "\\bottomrule\n",
      "\\end{tabular}\n",
      "\n"
     ]
    },
    {
     "name": "stderr",
     "output_type": "stream",
     "text": [
      "<ipython-input-163-eff2c52faac5>:1: FutureWarning: In future versions `DataFrame.to_latex` is expected to utilise the base implementation of `Styler.to_latex` for formatting and rendering. The arguments signature may therefore change. It is recommended instead to use `DataFrame.style.to_latex` which also contains additional functionality.\n",
      "  print(df.to_latex())\n"
     ]
    }
   ],
   "source": [
    "print(df.to_latex())"
   ]
  },
  {
   "cell_type": "markdown",
   "metadata": {
    "id": "5uRmSMmk01LP"
   },
   "source": [
    "# DeBERTa V3 "
   ]
  },
  {
   "cell_type": "markdown",
   "metadata": {
    "jp-MarkdownHeadingCollapsed": true
   },
   "source": [
    "## Predict Capitalization and Punctuation"
   ]
  },
  {
   "cell_type": "code",
   "execution_count": 8,
   "metadata": {
    "executionInfo": {
     "elapsed": 3753,
     "status": "ok",
     "timestamp": 1704902766940,
     "user": {
      "displayName": "Louissko",
      "userId": "00337720139601541087"
     },
     "user_tz": -180
    },
    "id": "uB3lK3mk01Ld"
   },
   "outputs": [],
   "source": [
    "# define model save dir\n",
    "args.pretrained_model = 'microsoft/deberta-v3-base'\n",
    "args.model_save_name = 'model_deberta-v3-tokens'\n",
    "args.save_training_dir = '/content/gdrive/MyDrive/nlp-punctuation/punctuation-project/deberta-v3-base'\n",
    "args.load_model =  'None'\n",
    "\n",
    "solver = initialize_model_and_components(args)\n",
    "ds_train = DatasetTextProcessor(train_text, args.classes, solver.model.tokenizer, mapping_tokens=True)\n",
    "dl_train = DataLoader(ds_train, batch_size=args.batch_size_train, shuffle=True, collate_fn=custom_collate_fn, num_workers=args.num_workers)\n",
    "ds_test = DatasetTextProcessor(test_text, args.classes, solver.model.tokenizer, mapping_tokens=True, return_overflowing_tokens=True)\n",
    "dl_test = DataLoader(ds_test, batch_size=args.batch_size_train, shuffle=False, collate_fn=custom_collate_fn, num_workers=args.num_workers)"
   ]
  },
  {
   "cell_type": "markdown",
   "metadata": {
    "id": "TsVpjTys01Le",
    "jp-MarkdownHeadingCollapsed": true
   },
   "source": [
    "### Training"
   ]
  },
  {
   "cell_type": "code",
   "execution_count": null,
   "metadata": {
    "colab": {
     "base_uri": "https://localhost:8080/",
     "height": 1000
    },
    "executionInfo": {
     "elapsed": 100071,
     "status": "ok",
     "timestamp": 1704478847813,
     "user": {
      "displayName": "Louissko",
      "userId": "00337720139601541087"
     },
     "user_tz": -180
    },
    "id": "ZDwXi6OR01Le",
    "outputId": "34ffea73-1ea3-46b0-d220-172cc3a466d5"
   },
   "outputs": [
    {
     "name": "stderr",
     "output_type": "stream",
     "text": [
      "\r",
      "  0%|          | 0/100 [00:00<?, ?it/s]Exception ignored in: Exception ignored in: Exception ignored in: <function _MultiProcessingDataLoaderIter.__del__ at 0x7d72955c0ee0>Exception ignored in: \n",
      "<function _MultiProcessingDataLoaderIter.__del__ at 0x7d72955c0ee0>Traceback (most recent call last):\n",
      "Exception ignored in: Exception ignored in: <function _MultiProcessingDataLoaderIter.__del__ at 0x7d72955c0ee0><function _MultiProcessingDataLoaderIter.__del__ at 0x7d72955c0ee0>\n",
      "<function _MultiProcessingDataLoaderIter.__del__ at 0x7d72955c0ee0><function _MultiProcessingDataLoaderIter.__del__ at 0x7d72955c0ee0>Exception ignored in: Traceback (most recent call last):\n",
      "\n",
      "  File \"/usr/local/lib/python3.10/dist-packages/torch/utils/data/dataloader.py\", line 1478, in __del__\n",
      "  File \"/usr/local/lib/python3.10/dist-packages/torch/utils/data/dataloader.py\", line 1478, in __del__\n",
      "\n",
      "\n",
      "Traceback (most recent call last):\n",
      "    Traceback (most recent call last):\n",
      "\n",
      "<function _MultiProcessingDataLoaderIter.__del__ at 0x7d72955c0ee0>  File \"/usr/local/lib/python3.10/dist-packages/torch/utils/data/dataloader.py\", line 1478, in __del__\n",
      "      File \"/usr/local/lib/python3.10/dist-packages/torch/utils/data/dataloader.py\", line 1478, in __del__\n",
      "Traceback (most recent call last):\n",
      "self._shutdown_workers()Traceback (most recent call last):\n",
      "\n",
      "  File \"/usr/local/lib/python3.10/dist-packages/torch/utils/data/dataloader.py\", line 1478, in __del__\n",
      "self._shutdown_workers()\n",
      "    \n",
      "  File \"/usr/local/lib/python3.10/dist-packages/torch/utils/data/dataloader.py\", line 1461, in _shutdown_workers\n",
      "      File \"/usr/local/lib/python3.10/dist-packages/torch/utils/data/dataloader.py\", line 1478, in __del__\n",
      "  File \"/usr/local/lib/python3.10/dist-packages/torch/utils/data/dataloader.py\", line 1461, in _shutdown_workers\n",
      "self._shutdown_workers()    Traceback (most recent call last):\n",
      "self._shutdown_workers()    \n",
      "self._shutdown_workers()        if w.is_alive():  File \"/usr/local/lib/python3.10/dist-packages/torch/utils/data/dataloader.py\", line 1478, in __del__\n",
      "\n",
      "\n",
      "  File \"/usr/local/lib/python3.10/dist-packages/torch/utils/data/dataloader.py\", line 1461, in _shutdown_workers\n",
      "self._shutdown_workers()if w.is_alive():  File \"/usr/local/lib/python3.10/dist-packages/torch/utils/data/dataloader.py\", line 1461, in _shutdown_workers\n",
      "  File \"/usr/local/lib/python3.10/dist-packages/torch/utils/data/dataloader.py\", line 1461, in _shutdown_workers\n",
      "        \n",
      "\n",
      "\n",
      "    if w.is_alive():      File \"/usr/lib/python3.10/multiprocessing/process.py\", line 160, in is_alive\n",
      "  File \"/usr/local/lib/python3.10/dist-packages/torch/utils/data/dataloader.py\", line 1461, in _shutdown_workers\n",
      "self._shutdown_workers()  File \"/usr/lib/python3.10/multiprocessing/process.py\", line 160, in is_alive\n",
      "\n",
      "if w.is_alive():    if w.is_alive():\n",
      "  File \"/usr/lib/python3.10/multiprocessing/process.py\", line 160, in is_alive\n",
      "    if w.is_alive():      File \"/usr/lib/python3.10/multiprocessing/process.py\", line 160, in is_alive\n",
      "\n",
      "\n",
      "        \n",
      "assert self._parent_pid == os.getpid(), 'can only test a child process'assert self._parent_pid == os.getpid(), 'can only test a child process'  File \"/usr/lib/python3.10/multiprocessing/process.py\", line 160, in is_alive\n",
      "  File \"/usr/local/lib/python3.10/dist-packages/torch/utils/data/dataloader.py\", line 1461, in _shutdown_workers\n",
      "assert self._parent_pid == os.getpid(), 'can only test a child process'assert self._parent_pid == os.getpid(), 'can only test a child process'      File \"/usr/lib/python3.10/multiprocessing/process.py\", line 160, in is_alive\n",
      "\n",
      "\n",
      "\n",
      "assert self._parent_pid == os.getpid(), 'can only test a child process'    \n",
      "AssertionErrorAssertionErrorAssertionError    \n",
      "if w.is_alive():AssertionErrorException ignored in: : : : assert self._parent_pid == os.getpid(), 'can only test a child process'AssertionError\n",
      ": <function _MultiProcessingDataLoaderIter.__del__ at 0x7d72955c0ee0>can only test a child processcan only test a child processcan only test a child processcan only test a child process\n",
      ":   File \"/usr/lib/python3.10/multiprocessing/process.py\", line 160, in is_alive\n",
      "\n",
      "\n",
      "\n",
      "\n",
      "\n",
      "AssertionError    can only test a child processTraceback (most recent call last):\n",
      ":   File \"/usr/local/lib/python3.10/dist-packages/torch/utils/data/dataloader.py\", line 1478, in __del__\n",
      "assert self._parent_pid == os.getpid(), 'can only test a child process'can only test a child process    \n",
      "self._shutdown_workers()\n",
      "  File \"/usr/local/lib/python3.10/dist-packages/torch/utils/data/dataloader.py\", line 1461, in _shutdown_workers\n",
      "    if w.is_alive():\n",
      "\n",
      "  File \"/usr/lib/python3.10/multiprocessing/process.py\", line 160, in is_alive\n",
      "    \n",
      "assert self._parent_pid == os.getpid(), 'can only test a child process'AssertionError\n",
      ": AssertionError: can only test a child process\n",
      "can only test a child process\n",
      "100%|██████████| 100/100 [01:40<00:00,  1.00s/it]\n"
     ]
    },
    {
     "data": {
      "image/png": "[encoded data removed]",
      "text/plain": [
       "<Figure size 640x480 with 1 Axes>"
      ]
     },
     "metadata": {},
     "output_type": "display_data"
    },
    {
     "data": {
      "text/plain": [
       "4.862601580065351e-05"
      ]
     },
     "execution_count": 15,
     "metadata": {},
     "output_type": "execute_result"
    }
   ],
   "source": [
    "solver.find_lr(dl_train, init_lr=1e-7, final_lr=0.01, n_steps=100, show_plot=True)"
   ]
  },
  {
   "cell_type": "code",
   "execution_count": null,
   "metadata": {
    "colab": {
     "base_uri": "https://localhost:8080/"
    },
    "executionInfo": {
     "elapsed": 12652076,
     "status": "ok",
     "timestamp": 1704492161258,
     "user": {
      "displayName": "Louissko",
      "userId": "00337720139601541087"
     },
     "user_tz": -180
    },
    "id": "Fb2jNDDc01Le",
    "outputId": "ef0a8258-9dea-46e0-dcd8-e5dffb07e477"
   },
   "outputs": [
    {
     "metadata": {
      "tags": null
     },
     "name": "stderr",
     "output_type": "stream",
     "text": [
      "\r",
      "  0%|          | 0/18750 [00:00<?, ?it/s]"
     ]
    },
    {
     "metadata": {
      "tags": null
     },
     "name": "stdout",
     "output_type": "stream",
     "text": [
      "Iteration 0: average loss: 2.5010\n",
      "             precision    recall  f1_score\n",
      "UPPERCASE     0.151923  0.216142  0.178430\n",
      "PERIOD        0.024858  0.166090  0.043243\n",
      "COMMA         0.072478  0.134545  0.094208\n",
      "COLON         0.000970  0.166667  0.001929\n",
      "EXCLAMATION   0.000000  0.000000  0.000000\n",
      "QUESTION      0.004912  0.312500  0.009671\n",
      "mean          0.042523  0.165991  0.054580\n"
     ]
    },
    {
     "name": "stderr",
     "output_type": "stream",
     "text": [
      "  5%|▌         | 1000/18750 [05:42<1:40:25,  2.95it/s]"
     ]
    },
    {
     "name": "stdout",
     "output_type": "stream",
     "text": [
      "Iteration 1000: average loss: 0.3326\n",
      "             precision    recall  f1_score\n",
      "UPPERCASE     0.894640  0.803987  0.846894\n",
      "PERIOD        0.757098  0.879121  0.813559\n",
      "COMMA         0.676856  0.722611  0.698985\n",
      "COLON         0.000000  0.000000  0.000000\n",
      "EXCLAMATION   0.000000  0.000000  0.000000\n",
      "QUESTION      1.000000  0.058824  0.111111\n",
      "mean          0.554766  0.410757  0.411758\n"
     ]
    },
    {
     "name": "stderr",
     "output_type": "stream",
     "text": [
      " 11%|█         | 2000/18750 [11:21<1:34:07,  2.97it/s]"
     ]
    },
    {
     "name": "stdout",
     "output_type": "stream",
     "text": [
      "Iteration 2000: average loss: 0.2003\n",
      "             precision    recall  f1_score\n",
      "UPPERCASE     0.900391  0.863296  0.881453\n",
      "PERIOD        0.815789  0.889344  0.850980\n",
      "COMMA         0.808463  0.708984  0.755463\n",
      "COLON         0.000000  0.000000  0.000000\n",
      "EXCLAMATION   0.000000  0.000000  0.000000\n",
      "QUESTION      0.727273  0.615385  0.666667\n",
      "mean          0.541986  0.512835  0.525761\n"
     ]
    },
    {
     "name": "stderr",
     "output_type": "stream",
     "text": [
      " 16%|█▌        | 3000/18750 [17:02<1:29:04,  2.95it/s]"
     ]
    },
    {
     "name": "stdout",
     "output_type": "stream",
     "text": [
      "Iteration 3000: average loss: 0.1783\n",
      "             precision    recall  f1_score\n",
      "UPPERCASE     0.888710  0.898858  0.893755\n",
      "PERIOD        0.818182  0.915789  0.864238\n",
      "COMMA         0.774194  0.722222  0.747305\n",
      "COLON         0.000000  0.000000  0.000000\n",
      "EXCLAMATION   0.333333  0.047619  0.083333\n",
      "QUESTION      0.800000  0.640000  0.711111\n",
      "mean          0.602403  0.537415  0.549957\n"
     ]
    },
    {
     "name": "stderr",
     "output_type": "stream",
     "text": [
      " 21%|██▏       | 4000/18750 [22:43<1:23:13,  2.95it/s]"
     ]
    },
    {
     "name": "stdout",
     "output_type": "stream",
     "text": [
      "Iteration 4000: average loss: 0.1684\n",
      "             precision    recall  f1_score\n",
      "UPPERCASE     0.934066  0.898792  0.916089\n",
      "PERIOD        0.883436  0.926045  0.904239\n",
      "COMMA         0.787368  0.734774  0.760163\n",
      "COLON         0.000000  0.000000  0.000000\n",
      "EXCLAMATION   0.562500  0.473684  0.514286\n",
      "QUESTION      0.750000  0.857143  0.800000\n",
      "mean          0.652895  0.648406  0.649129\n"
     ]
    },
    {
     "name": "stderr",
     "output_type": "stream",
     "text": [
      " 27%|██▋       | 5000/18750 [28:23<1:17:33,  2.95it/s]"
     ]
    },
    {
     "name": "stdout",
     "output_type": "stream",
     "text": [
      "Iteration 5000: average loss: 0.1632\n",
      "             precision    recall  f1_score\n",
      "UPPERCASE     0.924296  0.903614  0.913838\n",
      "PERIOD        0.872964  0.933798  0.902357\n",
      "COMMA         0.823028  0.786151  0.804167\n",
      "COLON         1.000000  0.166667  0.285714\n",
      "EXCLAMATION   0.526316  0.270270  0.357143\n",
      "QUESTION      0.740741  0.714286  0.727273\n",
      "mean          0.814557  0.629131  0.665082\n"
     ]
    },
    {
     "name": "stderr",
     "output_type": "stream",
     "text": [
      " 32%|███▏      | 6000/18750 [34:04<1:11:58,  2.95it/s]"
     ]
    },
    {
     "name": "stdout",
     "output_type": "stream",
     "text": [
      "Iteration 6000: average loss: 0.1568\n",
      "             precision    recall  f1_score\n",
      "UPPERCASE     0.921440  0.859542  0.889415\n",
      "PERIOD        0.884746  0.887755  0.886248\n",
      "COMMA         0.750524  0.819222  0.783370\n",
      "COLON         0.000000  0.000000  0.000000\n",
      "EXCLAMATION   1.000000  0.352941  0.521739\n",
      "QUESTION      0.777778  0.777778  0.777778\n",
      "mean          0.722415  0.616206  0.643092\n"
     ]
    },
    {
     "name": "stderr",
     "output_type": "stream",
     "text": [
      " 37%|███▋      | 7000/18750 [39:45<1:06:22,  2.95it/s]"
     ]
    },
    {
     "name": "stdout",
     "output_type": "stream",
     "text": [
      "Iteration 7000: average loss: 0.1531\n",
      "             precision    recall  f1_score\n",
      "UPPERCASE     0.925191  0.942457  0.933744\n",
      "PERIOD        0.871951  0.916667  0.893750\n",
      "COMMA         0.756356  0.818807  0.786344\n",
      "COLON         0.000000  0.000000  0.000000\n",
      "EXCLAMATION   0.200000  0.062500  0.095238\n",
      "QUESTION      0.700000  0.656250  0.677419\n",
      "mean          0.575583  0.566114  0.564416\n"
     ]
    },
    {
     "name": "stderr",
     "output_type": "stream",
     "text": [
      " 43%|████▎     | 8000/18750 [45:26<1:00:39,  2.95it/s]"
     ]
    },
    {
     "name": "stdout",
     "output_type": "stream",
     "text": [
      "Iteration 8000: average loss: 0.1516\n",
      "             precision    recall  f1_score\n",
      "UPPERCASE     0.929624  0.869832  0.898734\n",
      "PERIOD        0.845614  0.892593  0.868468\n",
      "COMMA         0.796569  0.764706  0.780312\n",
      "COLON         0.000000  0.000000  0.000000\n",
      "EXCLAMATION   0.555556  0.344828  0.425532\n",
      "QUESTION      0.722222  0.812500  0.764706\n",
      "mean          0.641597  0.614076  0.622959\n"
     ]
    },
    {
     "name": "stderr",
     "output_type": "stream",
     "text": [
      " 48%|████▊     | 9000/18750 [51:06<55:05,  2.95it/s]"
     ]
    },
    {
     "name": "stdout",
     "output_type": "stream",
     "text": [
      "Iteration 9000: average loss: 0.1495\n",
      "             precision    recall  f1_score\n",
      "UPPERCASE     0.935043  0.923986  0.929482\n",
      "PERIOD        0.881720  0.894545  0.888087\n",
      "COMMA         0.816377  0.758065  0.786141\n",
      "COLON         0.000000  0.000000  0.000000\n",
      "EXCLAMATION   0.666667  0.421053  0.516129\n",
      "QUESTION      0.724138  0.777778  0.750000\n",
      "mean          0.670657  0.629238  0.644973\n"
     ]
    },
    {
     "name": "stderr",
     "output_type": "stream",
     "text": [
      " 53%|█████▎    | 10000/18750 [56:47<49:23,  2.95it/s]"
     ]
    },
    {
     "name": "stdout",
     "output_type": "stream",
     "text": [
      "Iteration 10000: average loss: 0.1468\n",
      "             precision    recall  f1_score\n",
      "UPPERCASE     0.913765  0.935484  0.924497\n",
      "PERIOD        0.873646  0.899628  0.886447\n",
      "COMMA         0.829569  0.832990  0.831276\n",
      "COLON         0.600000  0.750000  0.666667\n",
      "EXCLAMATION   0.583333  0.388889  0.466667\n",
      "QUESTION      0.857143  0.571429  0.685714\n",
      "mean          0.776243  0.729737  0.743544\n"
     ]
    },
    {
     "name": "stderr",
     "output_type": "stream",
     "text": [
      " 59%|█████▊    | 11000/18750 [1:02:28<43:42,  2.96it/s]"
     ]
    },
    {
     "name": "stdout",
     "output_type": "stream",
     "text": [
      "Iteration 11000: average loss: 0.1417\n",
      "             precision    recall  f1_score\n",
      "UPPERCASE     0.941667  0.882812  0.911290\n",
      "PERIOD        0.919732  0.904605  0.912106\n",
      "COMMA         0.833693  0.805846  0.819533\n",
      "COLON         1.000000  0.333333  0.500000\n",
      "EXCLAMATION   0.625000  0.526316  0.571429\n",
      "QUESTION      0.925926  0.781250  0.847458\n",
      "mean          0.874336  0.705694  0.760303\n"
     ]
    },
    {
     "name": "stderr",
     "output_type": "stream",
     "text": [
      " 64%|██████▍   | 12000/18750 [1:08:08<38:02,  2.96it/s]"
     ]
    },
    {
     "name": "stdout",
     "output_type": "stream",
     "text": [
      "Iteration 12000: average loss: 0.1440\n",
      "             precision    recall  f1_score\n",
      "UPPERCASE     0.906822  0.920608  0.913663\n",
      "PERIOD        0.823529  0.908397  0.863884\n",
      "COMMA         0.819172  0.791579  0.805139\n",
      "COLON         1.000000  0.125000  0.222222\n",
      "EXCLAMATION   0.600000  0.333333  0.428571\n",
      "QUESTION      0.727273  0.695652  0.711111\n",
      "mean          0.812799  0.629095  0.657432\n"
     ]
    },
    {
     "name": "stderr",
     "output_type": "stream",
     "text": [
      " 69%|██████▉   | 13000/18750 [1:13:49<32:25,  2.96it/s]"
     ]
    },
    {
     "name": "stdout",
     "output_type": "stream",
     "text": [
      "Iteration 13000: average loss: 0.1423\n",
      "             precision    recall  f1_score\n",
      "UPPERCASE     0.903120  0.894309  0.898693\n",
      "PERIOD        0.854985  0.889937  0.872111\n",
      "COMMA         0.827648  0.811620  0.819556\n",
      "COLON         0.000000  0.000000  0.000000\n",
      "EXCLAMATION   0.363636  0.266667  0.307692\n",
      "QUESTION      0.870968  0.729730  0.794118\n",
      "mean          0.636726  0.598710  0.615362\n"
     ]
    },
    {
     "name": "stderr",
     "output_type": "stream",
     "text": [
      " 75%|███████▍  | 14000/18750 [1:19:30<26:50,  2.95it/s]"
     ]
    },
    {
     "name": "stdout",
     "output_type": "stream",
     "text": [
      "Iteration 14000: average loss: 0.1388\n",
      "             precision    recall  f1_score\n",
      "UPPERCASE     0.912088  0.855670  0.882979\n",
      "PERIOD        0.862676  0.884477  0.873440\n",
      "COMMA         0.776087  0.774403  0.775244\n",
      "COLON         0.000000  0.000000  0.000000\n",
      "EXCLAMATION   0.571429  0.200000  0.296296\n",
      "QUESTION      0.833333  0.606061  0.701754\n",
      "mean          0.659269  0.553435  0.588286\n"
     ]
    },
    {
     "name": "stderr",
     "output_type": "stream",
     "text": [
      " 80%|████████  | 15000/18750 [1:25:11<21:09,  2.95it/s]"
     ]
    },
    {
     "name": "stdout",
     "output_type": "stream",
     "text": [
      "Iteration 15000: average loss: 0.1392\n",
      "             precision    recall  f1_score\n",
      "UPPERCASE     0.896000  0.860215  0.877743\n",
      "PERIOD        0.861017  0.849498  0.855219\n",
      "COMMA         0.777518  0.811736  0.794258\n",
      "COLON         0.222222  0.400000  0.285714\n",
      "EXCLAMATION   0.285714  0.222222  0.250000\n",
      "QUESTION      0.782609  0.900000  0.837209\n",
      "mean          0.637513  0.673945  0.650024\n"
     ]
    },
    {
     "name": "stderr",
     "output_type": "stream",
     "text": [
      " 85%|████████▌ | 16000/18750 [1:30:51<15:31,  2.95it/s]"
     ]
    },
    {
     "name": "stdout",
     "output_type": "stream",
     "text": [
      "Iteration 16000: average loss: 0.1371\n",
      "             precision    recall  f1_score\n",
      "UPPERCASE     0.940741  0.944238  0.942486\n",
      "PERIOD        0.871212  0.954357  0.910891\n",
      "COMMA         0.853488  0.758264  0.803063\n",
      "COLON         0.000000  0.000000  0.000000\n",
      "EXCLAMATION   0.750000  0.391304  0.514286\n",
      "QUESTION      1.000000  0.812500  0.896552\n",
      "mean          0.735907  0.643444  0.677880\n"
     ]
    },
    {
     "name": "stderr",
     "output_type": "stream",
     "text": [
      " 91%|█████████ | 17000/18750 [1:36:32<09:51,  2.96it/s]"
     ]
    },
    {
     "name": "stdout",
     "output_type": "stream",
     "text": [
      "Iteration 17000: average loss: 0.1375\n",
      "             precision    recall  f1_score\n",
      "UPPERCASE     0.933908  0.923295  0.928571\n",
      "PERIOD        0.889518  0.928994  0.908828\n",
      "COMMA         0.868750  0.794286  0.829851\n",
      "COLON         0.000000  0.000000  0.000000\n",
      "EXCLAMATION   0.636364  0.388889  0.482759\n",
      "QUESTION      0.804878  0.804878  0.804878\n",
      "mean          0.688903  0.640057  0.659148\n"
     ]
    },
    {
     "name": "stderr",
     "output_type": "stream",
     "text": [
      " 96%|█████████▌| 18000/18750 [1:42:12<04:13,  2.95it/s]"
     ]
    },
    {
     "name": "stdout",
     "output_type": "stream",
     "text": [
      "Iteration 18000: average loss: 0.1388\n",
      "             precision    recall  f1_score\n",
      "UPPERCASE     0.944742  0.899830  0.921739\n",
      "PERIOD        0.871212  0.909091  0.889749\n",
      "COMMA         0.805616  0.819780  0.812636\n",
      "COLON         0.600000  0.166667  0.260870\n",
      "EXCLAMATION   0.545455  0.545455  0.545455\n",
      "QUESTION      1.000000  0.700000  0.823529\n",
      "mean          0.794504  0.673470  0.708996\n"
     ]
    },
    {
     "name": "stderr",
     "output_type": "stream",
     "text": [
      "100%|██████████| 18750/18750 [1:46:28<00:00,  2.93it/s]\n",
      "  0%|          | 0/18750 [00:00<?, ?it/s]"
     ]
    },
    {
     "name": "stdout",
     "output_type": "stream",
     "text": [
      "Iteration 0: average loss: 0.1345\n",
      "             precision    recall  f1_score\n",
      "UPPERCASE     0.954939  0.885852  0.919099\n",
      "PERIOD        0.880878  0.915309  0.897764\n",
      "COMMA         0.823276  0.807611  0.815368\n",
      "COLON         0.000000  0.000000  0.000000\n",
      "EXCLAMATION   0.470588  0.363636  0.410256\n",
      "QUESTION      0.850000  0.772727  0.809524\n",
      "mean          0.663280  0.624189  0.642002\n"
     ]
    },
    {
     "name": "stderr",
     "output_type": "stream",
     "text": [
      "  5%|▌         | 1000/18750 [05:41<1:40:15,  2.95it/s]"
     ]
    },
    {
     "name": "stdout",
     "output_type": "stream",
     "text": [
      "Iteration 1000: average loss: 0.1311\n",
      "             precision    recall  f1_score\n",
      "UPPERCASE     0.936391  0.914740  0.925439\n",
      "PERIOD        0.857971  0.902439  0.879643\n",
      "COMMA         0.857881  0.701903  0.772093\n",
      "COLON         1.000000  0.250000  0.400000\n",
      "EXCLAMATION   0.600000  0.333333  0.428571\n",
      "QUESTION      0.909091  0.740741  0.816327\n",
      "mean          0.860222  0.640526  0.703679\n"
     ]
    },
    {
     "name": "stderr",
     "output_type": "stream",
     "text": [
      " 11%|█         | 2000/18750 [11:22<1:33:52,  2.97it/s]"
     ]
    },
    {
     "name": "stdout",
     "output_type": "stream",
     "text": [
      "Iteration 2000: average loss: 0.1320\n",
      "             precision    recall  f1_score\n",
      "UPPERCASE     0.943049  0.947811  0.945424\n",
      "PERIOD        0.880878  0.927393  0.903537\n",
      "COMMA         0.840909  0.797414  0.818584\n",
      "COLON         0.571429  0.307692  0.400000\n",
      "EXCLAMATION   0.428571  0.166667  0.240000\n",
      "QUESTION      0.928571  0.866667  0.896552\n",
      "mean          0.765568  0.668941  0.700683\n"
     ]
    },
    {
     "name": "stderr",
     "output_type": "stream",
     "text": [
      " 16%|█▌        | 3000/18750 [17:01<1:28:35,  2.96it/s]"
     ]
    },
    {
     "name": "stdout",
     "output_type": "stream",
     "text": [
      "Iteration 3000: average loss: 0.1305\n",
      "             precision    recall  f1_score\n",
      "UPPERCASE     0.958491  0.930403  0.944238\n",
      "PERIOD        0.925532  0.915789  0.920635\n",
      "COMMA         0.811881  0.775414  0.793229\n",
      "COLON         0.500000  0.166667  0.250000\n",
      "EXCLAMATION   0.500000  0.600000  0.545455\n",
      "QUESTION      0.958333  0.884615  0.920000\n",
      "mean          0.775706  0.712148  0.728926\n"
     ]
    },
    {
     "name": "stderr",
     "output_type": "stream",
     "text": [
      " 21%|██▏       | 4000/18750 [22:40<1:22:39,  2.97it/s]"
     ]
    },
    {
     "name": "stdout",
     "output_type": "stream",
     "text": [
      "Iteration 4000: average loss: 0.1288\n",
      "             precision    recall  f1_score\n",
      "UPPERCASE     0.953255  0.902054  0.926948\n",
      "PERIOD        0.900322  0.909091  0.904685\n",
      "COMMA         0.857143  0.748515  0.799154\n",
      "COLON         0.000000  0.000000  0.000000\n",
      "EXCLAMATION   0.600000  0.375000  0.461538\n",
      "QUESTION      0.875000  0.848485  0.861538\n",
      "mean          0.697620  0.630524  0.658977\n"
     ]
    },
    {
     "name": "stderr",
     "output_type": "stream",
     "text": [
      " 27%|██▋       | 5000/18750 [28:18<1:17:12,  2.97it/s]"
     ]
    },
    {
     "name": "stdout",
     "output_type": "stream",
     "text": [
      "Iteration 5000: average loss: 0.1300\n",
      "             precision    recall  f1_score\n",
      "UPPERCASE     0.939823  0.873355  0.905371\n",
      "PERIOD        0.808594  0.920000  0.860707\n",
      "COMMA         0.811927  0.834906  0.823256\n",
      "COLON         0.666667  0.117647  0.200000\n",
      "EXCLAMATION   0.600000  0.333333  0.428571\n",
      "QUESTION      0.950000  0.904762  0.926829\n",
      "mean          0.796168  0.664001  0.690789\n"
     ]
    },
    {
     "name": "stderr",
     "output_type": "stream",
     "text": [
      " 32%|███▏      | 6000/18750 [33:57<1:11:24,  2.98it/s]"
     ]
    },
    {
     "name": "stdout",
     "output_type": "stream",
     "text": [
      "Iteration 6000: average loss: 0.1305\n",
      "             precision    recall  f1_score\n",
      "UPPERCASE     0.938559  0.913402  0.925810\n",
      "PERIOD        0.881633  0.896266  0.888889\n",
      "COMMA         0.854875  0.778926  0.815135\n",
      "COLON         0.750000  0.333333  0.461538\n",
      "EXCLAMATION   0.846154  0.423077  0.564103\n",
      "QUESTION      0.777778  0.875000  0.823529\n",
      "mean          0.841500  0.703334  0.746501\n"
     ]
    },
    {
     "name": "stderr",
     "output_type": "stream",
     "text": [
      " 37%|███▋      | 7000/18750 [39:36<1:05:46,  2.98it/s]"
     ]
    },
    {
     "name": "stdout",
     "output_type": "stream",
     "text": [
      "Iteration 7000: average loss: 0.1276\n",
      "             precision    recall  f1_score\n",
      "UPPERCASE     0.931507  0.899174  0.915055\n",
      "PERIOD        0.883636  0.858657  0.870968\n",
      "COMMA         0.823285  0.781065  0.801619\n",
      "COLON         0.000000  0.000000  0.000000\n",
      "EXCLAMATION   0.415094  0.564103  0.478261\n",
      "QUESTION      0.782609  0.692308  0.734694\n",
      "mean          0.639355  0.632551  0.633433\n"
     ]
    },
    {
     "name": "stderr",
     "output_type": "stream",
     "text": [
      " 43%|████▎     | 8000/18750 [45:15<1:00:29,  2.96it/s]"
     ]
    },
    {
     "name": "stdout",
     "output_type": "stream",
     "text": [
      "Iteration 8000: average loss: 0.1306\n",
      "             precision    recall  f1_score\n",
      "UPPERCASE     0.936826  0.950000  0.943367\n",
      "PERIOD        0.839465  0.893238  0.865517\n",
      "COMMA         0.787942  0.796218  0.792059\n",
      "COLON         1.000000  0.333333  0.500000\n",
      "EXCLAMATION   0.607143  0.386364  0.472222\n",
      "QUESTION      0.729730  0.771429  0.750000\n",
      "mean          0.816851  0.688430  0.720527\n"
     ]
    },
    {
     "name": "stderr",
     "output_type": "stream",
     "text": [
      " 48%|████▊     | 9000/18750 [50:55<55:01,  2.95it/s]"
     ]
    },
    {
     "name": "stdout",
     "output_type": "stream",
     "text": [
      "Iteration 9000: average loss: 0.1278\n",
      "             precision    recall  f1_score\n",
      "UPPERCASE     0.942187  0.927692  0.934884\n",
      "PERIOD        0.869231  0.893281  0.881092\n",
      "COMMA         0.820565  0.822222  0.821393\n",
      "COLON         0.000000  0.000000  0.000000\n",
      "EXCLAMATION   0.625000  0.277778  0.384615\n",
      "QUESTION      0.743590  0.763158  0.753247\n",
      "mean          0.666762  0.614022  0.629205\n"
     ]
    },
    {
     "name": "stderr",
     "output_type": "stream",
     "text": [
      " 53%|█████▎    | 10000/18750 [56:36<49:26,  2.95it/s]"
     ]
    },
    {
     "name": "stdout",
     "output_type": "stream",
     "text": [
      "Iteration 10000: average loss: 0.1282\n",
      "             precision    recall  f1_score\n",
      "UPPERCASE     0.955331  0.940426  0.947820\n",
      "PERIOD        0.927114  0.905983  0.916427\n",
      "COMMA         0.821883  0.789731  0.805486\n",
      "COLON         0.000000  0.000000  0.000000\n",
      "EXCLAMATION   0.375000  0.500000  0.428571\n",
      "QUESTION      0.851852  0.766667  0.807018\n",
      "mean          0.655197  0.650468  0.650887\n"
     ]
    },
    {
     "name": "stderr",
     "output_type": "stream",
     "text": [
      " 59%|█████▊    | 11000/18750 [1:02:16<43:41,  2.96it/s]"
     ]
    },
    {
     "name": "stdout",
     "output_type": "stream",
     "text": [
      "Iteration 11000: average loss: 0.1275\n",
      "             precision    recall  f1_score\n",
      "UPPERCASE     0.906780  0.858748  0.882110\n",
      "PERIOD        0.869565  0.872727  0.871143\n",
      "COMMA         0.823285  0.725275  0.771178\n",
      "COLON         0.333333  0.250000  0.285714\n",
      "EXCLAMATION   0.607143  0.566667  0.586207\n",
      "QUESTION      0.741935  0.884615  0.807018\n",
      "mean          0.713674  0.693005  0.700562\n"
     ]
    },
    {
     "name": "stderr",
     "output_type": "stream",
     "text": [
      " 64%|██████▍   | 12000/18750 [1:07:57<38:05,  2.95it/s]"
     ]
    },
    {
     "name": "stdout",
     "output_type": "stream",
     "text": [
      "Iteration 12000: average loss: 0.1260\n",
      "             precision    recall  f1_score\n",
      "UPPERCASE     0.950758  0.940075  0.945386\n",
      "PERIOD        0.900990  0.964664  0.931741\n",
      "COMMA         0.879357  0.766355  0.818976\n",
      "COLON         1.000000  0.181818  0.307692\n",
      "EXCLAMATION   0.400000  0.500000  0.444444\n",
      "QUESTION      0.944444  1.000000  0.971429\n",
      "mean          0.845925  0.725485  0.736611\n"
     ]
    },
    {
     "name": "stderr",
     "output_type": "stream",
     "text": [
      " 69%|██████▉   | 13000/18750 [1:13:38<32:28,  2.95it/s]"
     ]
    },
    {
     "name": "stdout",
     "output_type": "stream",
     "text": [
      "Iteration 13000: average loss: 0.1265\n",
      "             precision    recall  f1_score\n",
      "UPPERCASE     0.947368  0.956250  0.951788\n",
      "PERIOD        0.902913  0.958763  0.930000\n",
      "COMMA         0.869469  0.815353  0.841542\n",
      "COLON         1.000000  0.375000  0.545455\n",
      "EXCLAMATION   0.818182  0.391304  0.529412\n",
      "QUESTION      0.920000  0.821429  0.867925\n",
      "mean          0.909655  0.719683  0.777687\n"
     ]
    },
    {
     "name": "stderr",
     "output_type": "stream",
     "text": [
      " 75%|███████▍  | 14000/18750 [1:19:18<26:49,  2.95it/s]"
     ]
    },
    {
     "name": "stdout",
     "output_type": "stream",
     "text": [
      "Iteration 14000: average loss: 0.1247\n",
      "             precision    recall  f1_score\n",
      "UPPERCASE     0.916201  0.891304  0.903581\n",
      "PERIOD        0.853571  0.901887  0.877064\n",
      "COMMA         0.811765  0.787671  0.799537\n",
      "COLON         1.000000  0.071429  0.133333\n",
      "EXCLAMATION   0.555556  0.208333  0.303030\n",
      "QUESTION      0.703704  0.791667  0.745098\n",
      "mean          0.806799  0.608715  0.626941\n"
     ]
    },
    {
     "name": "stderr",
     "output_type": "stream",
     "text": [
      " 80%|████████  | 15000/18750 [1:24:59<21:11,  2.95it/s]"
     ]
    },
    {
     "name": "stdout",
     "output_type": "stream",
     "text": [
      "Iteration 15000: average loss: 0.1261\n",
      "             precision    recall  f1_score\n",
      "UPPERCASE     0.957237  0.932692  0.944805\n",
      "PERIOD        0.884735  0.934211  0.908800\n",
      "COMMA         0.801587  0.848739  0.824490\n",
      "COLON         1.000000  0.285714  0.444444\n",
      "EXCLAMATION   0.600000  0.166667  0.260870\n",
      "QUESTION      0.818182  0.818182  0.818182\n",
      "mean          0.843624  0.664368  0.700265\n"
     ]
    },
    {
     "name": "stderr",
     "output_type": "stream",
     "text": [
      " 85%|████████▌ | 16000/18750 [1:30:40<15:31,  2.95it/s]"
     ]
    },
    {
     "name": "stdout",
     "output_type": "stream",
     "text": [
      "Iteration 16000: average loss: 0.1256\n",
      "             precision    recall  f1_score\n",
      "UPPERCASE     0.947070  0.936449  0.941729\n",
      "PERIOD        0.906667  0.940092  0.923077\n",
      "COMMA         0.882086  0.805383  0.841991\n",
      "COLON         1.000000  0.200000  0.333333\n",
      "EXCLAMATION   0.500000  0.166667  0.250000\n",
      "QUESTION      0.833333  0.800000  0.816327\n",
      "mean          0.844859  0.641432  0.684410\n"
     ]
    },
    {
     "name": "stderr",
     "output_type": "stream",
     "text": [
      " 91%|█████████ | 17000/18750 [1:36:20<09:53,  2.95it/s]"
     ]
    },
    {
     "name": "stdout",
     "output_type": "stream",
     "text": [
      "Iteration 17000: average loss: 0.1241\n",
      "             precision    recall  f1_score\n",
      "UPPERCASE     0.906716  0.825127  0.864000\n",
      "PERIOD        0.844538  0.827160  0.835759\n",
      "COMMA         0.819355  0.757455  0.787190\n",
      "COLON         0.000000  0.000000  0.000000\n",
      "EXCLAMATION   0.750000  0.200000  0.315789\n",
      "QUESTION      1.000000  0.875000  0.933333\n",
      "mean          0.720102  0.580791  0.622679\n"
     ]
    },
    {
     "name": "stderr",
     "output_type": "stream",
     "text": [
      " 96%|█████████▌| 18000/18750 [1:42:01<04:14,  2.95it/s]"
     ]
    },
    {
     "name": "stdout",
     "output_type": "stream",
     "text": [
      "Iteration 18000: average loss: 0.1245\n",
      "             precision    recall  f1_score\n",
      "UPPERCASE     0.914716  0.923986  0.919328\n",
      "PERIOD        0.876667  0.932624  0.903780\n",
      "COMMA         0.834990  0.798479  0.816327\n",
      "COLON         0.500000  0.142857  0.222222\n",
      "EXCLAMATION   0.529412  0.321429  0.400000\n",
      "QUESTION      0.848485  0.736842  0.788732\n",
      "mean          0.750712  0.642703  0.675065\n"
     ]
    },
    {
     "name": "stderr",
     "output_type": "stream",
     "text": [
      "100%|██████████| 18750/18750 [1:46:17<00:00,  2.94it/s]\n"
     ]
    }
   ],
   "source": [
    "solver.train(dl=dl_train, lr=6*10**-6)"
   ]
  },
  {
   "cell_type": "markdown",
   "metadata": {
    "id": "6o-COz0q01Lf",
    "jp-MarkdownHeadingCollapsed": true
   },
   "source": [
    "### Testing"
   ]
  },
  {
   "cell_type": "markdown",
   "metadata": {
    "id": "vDtsXMoMMlky"
   },
   "source": [
    "#### single epoch"
   ]
  },
  {
   "cell_type": "code",
   "execution_count": null,
   "metadata": {
    "id": "LoeOWRRtMydS"
   },
   "outputs": [],
   "source": [
    "args.load_model = '/content/gdrive/MyDrive/nlp-punctuation/punctuation-project/deberta-v3-tokens/model_deberta-v3-tokens_1_last.pth'\n",
    "solver = initialize_model_and_components(args)"
   ]
  },
  {
   "cell_type": "code",
   "execution_count": null,
   "metadata": {
    "colab": {
     "base_uri": "https://localhost:8080/"
    },
    "executionInfo": {
     "elapsed": 1071076,
     "status": "ok",
     "timestamp": 1704871492739,
     "user": {
      "displayName": "Louissko",
      "userId": "00337720139601541087"
     },
     "user_tz": -180
    },
    "id": "VCeglBrR01Lf",
    "outputId": "5d0d031a-ecaf-4851-c284-506db8ee37c6"
   },
   "outputs": [
    {
     "name": "stderr",
     "output_type": "stream",
     "text": [
      "make predictions: 100%|██████████| 1875/1875 [17:21<00:00,  1.80it/s]\n"
     ]
    }
   ],
   "source": [
    "results = solver.test(dl_test)"
   ]
  },
  {
   "cell_type": "code",
   "execution_count": null,
   "metadata": {
    "id": "OB91spAoQwff"
   },
   "outputs": [],
   "source": [
    "results.to_csv(os.path.join(args.save_training_dir, 'results_test_epoch_1.csv'))"
   ]
  },
  {
   "cell_type": "code",
   "execution_count": null,
   "metadata": {
    "colab": {
     "base_uri": "https://localhost:8080/",
     "height": 269
    },
    "executionInfo": {
     "elapsed": 6,
     "status": "ok",
     "timestamp": 1704871493768,
     "user": {
      "displayName": "Louissko",
      "userId": "00337720139601541087"
     },
     "user_tz": -180
    },
    "id": "iRDl9G-8MoAx",
    "outputId": "048f220f-27a2-4e84-f423-62e461bc0594"
   },
   "outputs": [
    {
     "data": {
      "text/html": [
       "\n",
       "  <div id=\"df-ce3ce5ab-d144-4a75-bb5a-75e3fd591a74\" class=\"colab-df-container\">\n",
       "    <div>\n",
       "<style scoped>\n",
       "    .dataframe tbody tr th:only-of-type {\n",
       "        vertical-align: middle;\n",
       "    }\n",
       "\n",
       "    .dataframe tbody tr th {\n",
       "        vertical-align: top;\n",
       "    }\n",
       "\n",
       "    .dataframe thead th {\n",
       "        text-align: right;\n",
       "    }\n",
       "</style>\n",
       "<table border=\"1\" class=\"dataframe\">\n",
       "  <thead>\n",
       "    <tr style=\"text-align: right;\">\n",
       "      <th></th>\n",
       "      <th>precision</th>\n",
       "      <th>recall</th>\n",
       "      <th>f1_score</th>\n",
       "    </tr>\n",
       "  </thead>\n",
       "  <tbody>\n",
       "    <tr>\n",
       "      <th>UPPERCASE</th>\n",
       "      <td>0.940103</td>\n",
       "      <td>0.907037</td>\n",
       "      <td>0.923274</td>\n",
       "    </tr>\n",
       "    <tr>\n",
       "      <th>PERIOD</th>\n",
       "      <td>0.887354</td>\n",
       "      <td>0.911244</td>\n",
       "      <td>0.899140</td>\n",
       "    </tr>\n",
       "    <tr>\n",
       "      <th>COMMA</th>\n",
       "      <td>0.822648</td>\n",
       "      <td>0.814137</td>\n",
       "      <td>0.818370</td>\n",
       "    </tr>\n",
       "    <tr>\n",
       "      <th>COLON</th>\n",
       "      <td>0.659262</td>\n",
       "      <td>0.226402</td>\n",
       "      <td>0.337054</td>\n",
       "    </tr>\n",
       "    <tr>\n",
       "      <th>EXCLAMATION</th>\n",
       "      <td>0.579523</td>\n",
       "      <td>0.410235</td>\n",
       "      <td>0.480401</td>\n",
       "    </tr>\n",
       "    <tr>\n",
       "      <th>QUESTION</th>\n",
       "      <td>0.809216</td>\n",
       "      <td>0.825552</td>\n",
       "      <td>0.817302</td>\n",
       "    </tr>\n",
       "    <tr>\n",
       "      <th>mean</th>\n",
       "      <td>0.783018</td>\n",
       "      <td>0.682434</td>\n",
       "      <td>0.712590</td>\n",
       "    </tr>\n",
       "  </tbody>\n",
       "</table>\n",
       "</div>\n",
       "    <div class=\"colab-df-buttons\">\n",
       "\n",
       "  <div class=\"colab-df-container\">\n",
       "    <button class=\"colab-df-convert\" onclick=\"convertToInteractive('df-ce3ce5ab-d144-4a75-bb5a-75e3fd591a74')\"\n",
       "            title=\"Convert this dataframe to an interactive table.\"\n",
       "            style=\"display:none;\">\n",
       "\n",
       "  <svg xmlns=\"http://www.w3.org/2000/svg\" height=\"24px\" viewBox=\"0 -960 960 960\">\n",
       "    <path d=\"M120-120v-720h720v720H120Zm60-500h600v-160H180v160Zm220 220h160v-160H400v160Zm0 220h160v-160H400v160ZM180-400h160v-160H180v160Zm440 0h160v-160H620v160ZM180-180h160v-160H180v160Zm440 0h160v-160H620v160Z\"/>\n",
       "  </svg>\n",
       "    </button>\n",
       "\n",
       "  <style>\n",
       "    .colab-df-container {\n",
       "      display:flex;\n",
       "      gap: 12px;\n",
       "    }\n",
       "\n",
       "    .colab-df-convert {\n",
       "      background-color: #E8F0FE;\n",
       "      border: none;\n",
       "      border-radius: 50%;\n",
       "      cursor: pointer;\n",
       "      display: none;\n",
       "      fill: #1967D2;\n",
       "      height: 32px;\n",
       "      padding: 0 0 0 0;\n",
       "      width: 32px;\n",
       "    }\n",
       "\n",
       "    .colab-df-convert:hover {\n",
       "      background-color: #E2EBFA;\n",
       "      box-shadow: 0px 1px 2px rgba(60, 64, 67, 0.3), 0px 1px 3px 1px rgba(60, 64, 67, 0.15);\n",
       "      fill: #174EA6;\n",
       "    }\n",
       "\n",
       "    .colab-df-buttons div {\n",
       "      margin-bottom: 4px;\n",
       "    }\n",
       "\n",
       "    [theme=dark] .colab-df-convert {\n",
       "      background-color: #3B4455;\n",
       "      fill: #D2E3FC;\n",
       "    }\n",
       "\n",
       "    [theme=dark] .colab-df-convert:hover {\n",
       "      background-color: #434B5C;\n",
       "      box-shadow: 0px 1px 3px 1px rgba(0, 0, 0, 0.15);\n",
       "      filter: drop-shadow(0px 1px 2px rgba(0, 0, 0, 0.3));\n",
       "      fill: #FFFFFF;\n",
       "    }\n",
       "  </style>\n",
       "\n",
       "    <script>\n",
       "      const buttonEl =\n",
       "        document.querySelector('#df-ce3ce5ab-d144-4a75-bb5a-75e3fd591a74 button.colab-df-convert');\n",
       "      buttonEl.style.display =\n",
       "        google.colab.kernel.accessAllowed ? 'block' : 'none';\n",
       "\n",
       "      async function convertToInteractive(key) {\n",
       "        const element = document.querySelector('#df-ce3ce5ab-d144-4a75-bb5a-75e3fd591a74');\n",
       "        const dataTable =\n",
       "          await google.colab.kernel.invokeFunction('convertToInteractive',\n",
       "                                                    [key], {});\n",
       "        if (!dataTable) return;\n",
       "\n",
       "        const docLinkHtml = 'Like what you see? Visit the ' +\n",
       "          '<a target=\"_blank\" href=https://colab.research.google.com/notebooks/data_table.ipynb>data table notebook</a>'\n",
       "          + ' to learn more about interactive tables.';\n",
       "        element.innerHTML = '';\n",
       "        dataTable['output_type'] = 'display_data';\n",
       "        await google.colab.output.renderOutput(dataTable, element);\n",
       "        const docLink = document.createElement('div');\n",
       "        docLink.innerHTML = docLinkHtml;\n",
       "        element.appendChild(docLink);\n",
       "      }\n",
       "    </script>\n",
       "  </div>\n",
       "\n",
       "\n",
       "<div id=\"df-9293ad3d-2dff-4d42-8d96-2f935af2e6b9\">\n",
       "  <button class=\"colab-df-quickchart\" onclick=\"quickchart('df-9293ad3d-2dff-4d42-8d96-2f935af2e6b9')\"\n",
       "            title=\"Suggest charts\"\n",
       "            style=\"display:none;\">\n",
       "\n",
       "<svg xmlns=\"http://www.w3.org/2000/svg\" height=\"24px\"viewBox=\"0 0 24 24\"\n",
       "     width=\"24px\">\n",
       "    <g>\n",
       "        <path d=\"M19 3H5c-1.1 0-2 .9-2 2v14c0 1.1.9 2 2 2h14c1.1 0 2-.9 2-2V5c0-1.1-.9-2-2-2zM9 17H7v-7h2v7zm4 0h-2V7h2v10zm4 0h-2v-4h2v4z\"/>\n",
       "    </g>\n",
       "</svg>\n",
       "  </button>\n",
       "\n",
       "<style>\n",
       "  .colab-df-quickchart {\n",
       "      --bg-color: #E8F0FE;\n",
       "      --fill-color: #1967D2;\n",
       "      --hover-bg-color: #E2EBFA;\n",
       "      --hover-fill-color: #174EA6;\n",
       "      --disabled-fill-color: #AAA;\n",
       "      --disabled-bg-color: #DDD;\n",
       "  }\n",
       "\n",
       "  [theme=dark] .colab-df-quickchart {\n",
       "      --bg-color: #3B4455;\n",
       "      --fill-color: #D2E3FC;\n",
       "      --hover-bg-color: #434B5C;\n",
       "      --hover-fill-color: #FFFFFF;\n",
       "      --disabled-bg-color: #3B4455;\n",
       "      --disabled-fill-color: #666;\n",
       "  }\n",
       "\n",
       "  .colab-df-quickchart {\n",
       "    background-color: var(--bg-color);\n",
       "    border: none;\n",
       "    border-radius: 50%;\n",
       "    cursor: pointer;\n",
       "    display: none;\n",
       "    fill: var(--fill-color);\n",
       "    height: 32px;\n",
       "    padding: 0;\n",
       "    width: 32px;\n",
       "  }\n",
       "\n",
       "  .colab-df-quickchart:hover {\n",
       "    background-color: var(--hover-bg-color);\n",
       "    box-shadow: 0 1px 2px rgba(60, 64, 67, 0.3), 0 1px 3px 1px rgba(60, 64, 67, 0.15);\n",
       "    fill: var(--button-hover-fill-color);\n",
       "  }\n",
       "\n",
       "  .colab-df-quickchart-complete:disabled,\n",
       "  .colab-df-quickchart-complete:disabled:hover {\n",
       "    background-color: var(--disabled-bg-color);\n",
       "    fill: var(--disabled-fill-color);\n",
       "    box-shadow: none;\n",
       "  }\n",
       "\n",
       "  .colab-df-spinner {\n",
       "    border: 2px solid var(--fill-color);\n",
       "    border-color: transparent;\n",
       "    border-bottom-color: var(--fill-color);\n",
       "    animation:\n",
       "      spin 1s steps(1) infinite;\n",
       "  }\n",
       "\n",
       "  @keyframes spin {\n",
       "    0% {\n",
       "      border-color: transparent;\n",
       "      border-bottom-color: var(--fill-color);\n",
       "      border-left-color: var(--fill-color);\n",
       "    }\n",
       "    20% {\n",
       "      border-color: transparent;\n",
       "      border-left-color: var(--fill-color);\n",
       "      border-top-color: var(--fill-color);\n",
       "    }\n",
       "    30% {\n",
       "      border-color: transparent;\n",
       "      border-left-color: var(--fill-color);\n",
       "      border-top-color: var(--fill-color);\n",
       "      border-right-color: var(--fill-color);\n",
       "    }\n",
       "    40% {\n",
       "      border-color: transparent;\n",
       "      border-right-color: var(--fill-color);\n",
       "      border-top-color: var(--fill-color);\n",
       "    }\n",
       "    60% {\n",
       "      border-color: transparent;\n",
       "      border-right-color: var(--fill-color);\n",
       "    }\n",
       "    80% {\n",
       "      border-color: transparent;\n",
       "      border-right-color: var(--fill-color);\n",
       "      border-bottom-color: var(--fill-color);\n",
       "    }\n",
       "    90% {\n",
       "      border-color: transparent;\n",
       "      border-bottom-color: var(--fill-color);\n",
       "    }\n",
       "  }\n",
       "</style>\n",
       "\n",
       "  <script>\n",
       "    async function quickchart(key) {\n",
       "      const quickchartButtonEl =\n",
       "        document.querySelector('#' + key + ' button');\n",
       "      quickchartButtonEl.disabled = true;  // To prevent multiple clicks.\n",
       "      quickchartButtonEl.classList.add('colab-df-spinner');\n",
       "      try {\n",
       "        const charts = await google.colab.kernel.invokeFunction(\n",
       "            'suggestCharts', [key], {});\n",
       "      } catch (error) {\n",
       "        console.error('Error during call to suggestCharts:', error);\n",
       "      }\n",
       "      quickchartButtonEl.classList.remove('colab-df-spinner');\n",
       "      quickchartButtonEl.classList.add('colab-df-quickchart-complete');\n",
       "    }\n",
       "    (() => {\n",
       "      let quickchartButtonEl =\n",
       "        document.querySelector('#df-9293ad3d-2dff-4d42-8d96-2f935af2e6b9 button');\n",
       "      quickchartButtonEl.style.display =\n",
       "        google.colab.kernel.accessAllowed ? 'block' : 'none';\n",
       "    })();\n",
       "  </script>\n",
       "</div>\n",
       "\n",
       "  <div id=\"id_667501cb-719a-422e-aa05-136f72049ef8\">\n",
       "    <style>\n",
       "      .colab-df-generate {\n",
       "        background-color: #E8F0FE;\n",
       "        border: none;\n",
       "        border-radius: 50%;\n",
       "        cursor: pointer;\n",
       "        display: none;\n",
       "        fill: #1967D2;\n",
       "        height: 32px;\n",
       "        padding: 0 0 0 0;\n",
       "        width: 32px;\n",
       "      }\n",
       "\n",
       "      .colab-df-generate:hover {\n",
       "        background-color: #E2EBFA;\n",
       "        box-shadow: 0px 1px 2px rgba(60, 64, 67, 0.3), 0px 1px 3px 1px rgba(60, 64, 67, 0.15);\n",
       "        fill: #174EA6;\n",
       "      }\n",
       "\n",
       "      [theme=dark] .colab-df-generate {\n",
       "        background-color: #3B4455;\n",
       "        fill: #D2E3FC;\n",
       "      }\n",
       "\n",
       "      [theme=dark] .colab-df-generate:hover {\n",
       "        background-color: #434B5C;\n",
       "        box-shadow: 0px 1px 3px 1px rgba(0, 0, 0, 0.15);\n",
       "        filter: drop-shadow(0px 1px 2px rgba(0, 0, 0, 0.3));\n",
       "        fill: #FFFFFF;\n",
       "      }\n",
       "    </style>\n",
       "    <button class=\"colab-df-generate\" onclick=\"generateWithVariable('results')\"\n",
       "            title=\"Generate code using this dataframe.\"\n",
       "            style=\"display:none;\">\n",
       "\n",
       "  <svg xmlns=\"http://www.w3.org/2000/svg\" height=\"24px\"viewBox=\"0 0 24 24\"\n",
       "       width=\"24px\">\n",
       "    <path d=\"M7,19H8.4L18.45,9,17,7.55,7,17.6ZM5,21V16.75L18.45,3.32a2,2,0,0,1,2.83,0l1.4,1.43a1.91,1.91,0,0,1,.58,1.4,1.91,1.91,0,0,1-.58,1.4L9.25,21ZM18.45,9,17,7.55Zm-12,3A5.31,5.31,0,0,0,4.9,8.1,5.31,5.31,0,0,0,1,6.5,5.31,5.31,0,0,0,4.9,4.9,5.31,5.31,0,0,0,6.5,1,5.31,5.31,0,0,0,8.1,4.9,5.31,5.31,0,0,0,12,6.5,5.46,5.46,0,0,0,6.5,12Z\"/>\n",
       "  </svg>\n",
       "    </button>\n",
       "    <script>\n",
       "      (() => {\n",
       "      const buttonEl =\n",
       "        document.querySelector('#id_667501cb-719a-422e-aa05-136f72049ef8 button.colab-df-generate');\n",
       "      buttonEl.style.display =\n",
       "        google.colab.kernel.accessAllowed ? 'block' : 'none';\n",
       "\n",
       "      buttonEl.onclick = () => {\n",
       "        google.colab.notebook.generateWithVariable('results');\n",
       "      }\n",
       "      })();\n",
       "    </script>\n",
       "  </div>\n",
       "\n",
       "    </div>\n",
       "  </div>\n"
      ],
      "text/plain": [
       "             precision    recall  f1_score\n",
       "UPPERCASE     0.940103  0.907037  0.923274\n",
       "PERIOD        0.887354  0.911244  0.899140\n",
       "COMMA         0.822648  0.814137  0.818370\n",
       "COLON         0.659262  0.226402  0.337054\n",
       "EXCLAMATION   0.579523  0.410235  0.480401\n",
       "QUESTION      0.809216  0.825552  0.817302\n",
       "mean          0.783018  0.682434  0.712590"
      ]
     },
     "execution_count": 27,
     "metadata": {},
     "output_type": "execute_result"
    }
   ],
   "source": [
    "results"
   ]
  },
  {
   "cell_type": "markdown",
   "metadata": {
    "id": "2OoLFxaXMoX9"
   },
   "source": [
    "#### two epochs"
   ]
  },
  {
   "cell_type": "code",
   "execution_count": null,
   "metadata": {
    "id": "l0TEPvTzQdzX"
   },
   "outputs": [],
   "source": [
    "args.load_model = '/content/gdrive/MyDrive/nlp-punctuation/punctuation-project/deberta-v3-tokens/model_deberta-v3-tokens_2_last.pth'\n",
    "solver = initialize_model_and_components(args)"
   ]
  },
  {
   "cell_type": "code",
   "execution_count": null,
   "metadata": {
    "colab": {
     "base_uri": "https://localhost:8080/"
    },
    "executionInfo": {
     "elapsed": 1071076,
     "status": "ok",
     "timestamp": 1704871492739,
     "user": {
      "displayName": "Louissko",
      "userId": "00337720139601541087"
     },
     "user_tz": -180
    },
    "id": "0bqceS0UROby",
    "outputId": "5d0d031a-ecaf-4851-c284-506db8ee37c6"
   },
   "outputs": [
    {
     "name": "stderr",
     "output_type": "stream",
     "text": [
      "make predictions: 100%|██████████| 1875/1875 [17:21<00:00,  1.80it/s]\n"
     ]
    }
   ],
   "source": [
    "results = solver.test(dl_test)"
   ]
  },
  {
   "cell_type": "code",
   "execution_count": null,
   "metadata": {
    "id": "Ofx11nrORObz"
   },
   "outputs": [],
   "source": [
    "results.to_csv(os.path.join(args.save_training_dir, 'results_test_epoch_2.csv'))"
   ]
  },
  {
   "cell_type": "code",
   "execution_count": null,
   "metadata": {
    "colab": {
     "base_uri": "https://localhost:8080/",
     "height": 269
    },
    "executionInfo": {
     "elapsed": 375,
     "status": "ok",
     "timestamp": 1704871661704,
     "user": {
      "displayName": "Louissko",
      "userId": "00337720139601541087"
     },
     "user_tz": -180
    },
    "id": "W-Ydhu-oRQSU",
    "outputId": "c89e8b48-0697-4fd5-ab6b-c16ae5347e28"
   },
   "outputs": [
    {
     "data": {
      "text/html": [
       "\n",
       "  <div id=\"df-03767fce-f154-4129-a152-f5803b2b86d0\" class=\"colab-df-container\">\n",
       "    <div>\n",
       "<style scoped>\n",
       "    .dataframe tbody tr th:only-of-type {\n",
       "        vertical-align: middle;\n",
       "    }\n",
       "\n",
       "    .dataframe tbody tr th {\n",
       "        vertical-align: top;\n",
       "    }\n",
       "\n",
       "    .dataframe thead th {\n",
       "        text-align: right;\n",
       "    }\n",
       "</style>\n",
       "<table border=\"1\" class=\"dataframe\">\n",
       "  <thead>\n",
       "    <tr style=\"text-align: right;\">\n",
       "      <th></th>\n",
       "      <th>precision</th>\n",
       "      <th>recall</th>\n",
       "      <th>f1_score</th>\n",
       "    </tr>\n",
       "  </thead>\n",
       "  <tbody>\n",
       "    <tr>\n",
       "      <th>UPPERCASE</th>\n",
       "      <td>0.939539</td>\n",
       "      <td>0.920411</td>\n",
       "      <td>0.929877</td>\n",
       "    </tr>\n",
       "    <tr>\n",
       "      <th>PERIOD</th>\n",
       "      <td>0.898105</td>\n",
       "      <td>0.915449</td>\n",
       "      <td>0.906694</td>\n",
       "    </tr>\n",
       "    <tr>\n",
       "      <th>COMMA</th>\n",
       "      <td>0.831019</td>\n",
       "      <td>0.821862</td>\n",
       "      <td>0.826415</td>\n",
       "    </tr>\n",
       "    <tr>\n",
       "      <th>COLON</th>\n",
       "      <td>0.617288</td>\n",
       "      <td>0.281319</td>\n",
       "      <td>0.386498</td>\n",
       "    </tr>\n",
       "    <tr>\n",
       "      <th>EXCLAMATION</th>\n",
       "      <td>0.543354</td>\n",
       "      <td>0.492547</td>\n",
       "      <td>0.516705</td>\n",
       "    </tr>\n",
       "    <tr>\n",
       "      <th>QUESTION</th>\n",
       "      <td>0.822522</td>\n",
       "      <td>0.840120</td>\n",
       "      <td>0.831228</td>\n",
       "    </tr>\n",
       "    <tr>\n",
       "      <th>mean</th>\n",
       "      <td>0.775305</td>\n",
       "      <td>0.711951</td>\n",
       "      <td>0.732903</td>\n",
       "    </tr>\n",
       "  </tbody>\n",
       "</table>\n",
       "</div>\n",
       "    <div class=\"colab-df-buttons\">\n",
       "\n",
       "  <div class=\"colab-df-container\">\n",
       "    <button class=\"colab-df-convert\" onclick=\"convertToInteractive('df-03767fce-f154-4129-a152-f5803b2b86d0')\"\n",
       "            title=\"Convert this dataframe to an interactive table.\"\n",
       "            style=\"display:none;\">\n",
       "\n",
       "  <svg xmlns=\"http://www.w3.org/2000/svg\" height=\"24px\" viewBox=\"0 -960 960 960\">\n",
       "    <path d=\"M120-120v-720h720v720H120Zm60-500h600v-160H180v160Zm220 220h160v-160H400v160Zm0 220h160v-160H400v160ZM180-400h160v-160H180v160Zm440 0h160v-160H620v160ZM180-180h160v-160H180v160Zm440 0h160v-160H620v160Z\"/>\n",
       "  </svg>\n",
       "    </button>\n",
       "\n",
       "  <style>\n",
       "    .colab-df-container {\n",
       "      display:flex;\n",
       "      gap: 12px;\n",
       "    }\n",
       "\n",
       "    .colab-df-convert {\n",
       "      background-color: #E8F0FE;\n",
       "      border: none;\n",
       "      border-radius: 50%;\n",
       "      cursor: pointer;\n",
       "      display: none;\n",
       "      fill: #1967D2;\n",
       "      height: 32px;\n",
       "      padding: 0 0 0 0;\n",
       "      width: 32px;\n",
       "    }\n",
       "\n",
       "    .colab-df-convert:hover {\n",
       "      background-color: #E2EBFA;\n",
       "      box-shadow: 0px 1px 2px rgba(60, 64, 67, 0.3), 0px 1px 3px 1px rgba(60, 64, 67, 0.15);\n",
       "      fill: #174EA6;\n",
       "    }\n",
       "\n",
       "    .colab-df-buttons div {\n",
       "      margin-bottom: 4px;\n",
       "    }\n",
       "\n",
       "    [theme=dark] .colab-df-convert {\n",
       "      background-color: #3B4455;\n",
       "      fill: #D2E3FC;\n",
       "    }\n",
       "\n",
       "    [theme=dark] .colab-df-convert:hover {\n",
       "      background-color: #434B5C;\n",
       "      box-shadow: 0px 1px 3px 1px rgba(0, 0, 0, 0.15);\n",
       "      filter: drop-shadow(0px 1px 2px rgba(0, 0, 0, 0.3));\n",
       "      fill: #FFFFFF;\n",
       "    }\n",
       "  </style>\n",
       "\n",
       "    <script>\n",
       "      const buttonEl =\n",
       "        document.querySelector('#df-03767fce-f154-4129-a152-f5803b2b86d0 button.colab-df-convert');\n",
       "      buttonEl.style.display =\n",
       "        google.colab.kernel.accessAllowed ? 'block' : 'none';\n",
       "\n",
       "      async function convertToInteractive(key) {\n",
       "        const element = document.querySelector('#df-03767fce-f154-4129-a152-f5803b2b86d0');\n",
       "        const dataTable =\n",
       "          await google.colab.kernel.invokeFunction('convertToInteractive',\n",
       "                                                    [key], {});\n",
       "        if (!dataTable) return;\n",
       "\n",
       "        const docLinkHtml = 'Like what you see? Visit the ' +\n",
       "          '<a target=\"_blank\" href=https://colab.research.google.com/notebooks/data_table.ipynb>data table notebook</a>'\n",
       "          + ' to learn more about interactive tables.';\n",
       "        element.innerHTML = '';\n",
       "        dataTable['output_type'] = 'display_data';\n",
       "        await google.colab.output.renderOutput(dataTable, element);\n",
       "        const docLink = document.createElement('div');\n",
       "        docLink.innerHTML = docLinkHtml;\n",
       "        element.appendChild(docLink);\n",
       "      }\n",
       "    </script>\n",
       "  </div>\n",
       "\n",
       "\n",
       "<div id=\"df-8203c5de-6c17-4be8-8a53-d4685594eb2f\">\n",
       "  <button class=\"colab-df-quickchart\" onclick=\"quickchart('df-8203c5de-6c17-4be8-8a53-d4685594eb2f')\"\n",
       "            title=\"Suggest charts\"\n",
       "            style=\"display:none;\">\n",
       "\n",
       "<svg xmlns=\"http://www.w3.org/2000/svg\" height=\"24px\"viewBox=\"0 0 24 24\"\n",
       "     width=\"24px\">\n",
       "    <g>\n",
       "        <path d=\"M19 3H5c-1.1 0-2 .9-2 2v14c0 1.1.9 2 2 2h14c1.1 0 2-.9 2-2V5c0-1.1-.9-2-2-2zM9 17H7v-7h2v7zm4 0h-2V7h2v10zm4 0h-2v-4h2v4z\"/>\n",
       "    </g>\n",
       "</svg>\n",
       "  </button>\n",
       "\n",
       "<style>\n",
       "  .colab-df-quickchart {\n",
       "      --bg-color: #E8F0FE;\n",
       "      --fill-color: #1967D2;\n",
       "      --hover-bg-color: #E2EBFA;\n",
       "      --hover-fill-color: #174EA6;\n",
       "      --disabled-fill-color: #AAA;\n",
       "      --disabled-bg-color: #DDD;\n",
       "  }\n",
       "\n",
       "  [theme=dark] .colab-df-quickchart {\n",
       "      --bg-color: #3B4455;\n",
       "      --fill-color: #D2E3FC;\n",
       "      --hover-bg-color: #434B5C;\n",
       "      --hover-fill-color: #FFFFFF;\n",
       "      --disabled-bg-color: #3B4455;\n",
       "      --disabled-fill-color: #666;\n",
       "  }\n",
       "\n",
       "  .colab-df-quickchart {\n",
       "    background-color: var(--bg-color);\n",
       "    border: none;\n",
       "    border-radius: 50%;\n",
       "    cursor: pointer;\n",
       "    display: none;\n",
       "    fill: var(--fill-color);\n",
       "    height: 32px;\n",
       "    padding: 0;\n",
       "    width: 32px;\n",
       "  }\n",
       "\n",
       "  .colab-df-quickchart:hover {\n",
       "    background-color: var(--hover-bg-color);\n",
       "    box-shadow: 0 1px 2px rgba(60, 64, 67, 0.3), 0 1px 3px 1px rgba(60, 64, 67, 0.15);\n",
       "    fill: var(--button-hover-fill-color);\n",
       "  }\n",
       "\n",
       "  .colab-df-quickchart-complete:disabled,\n",
       "  .colab-df-quickchart-complete:disabled:hover {\n",
       "    background-color: var(--disabled-bg-color);\n",
       "    fill: var(--disabled-fill-color);\n",
       "    box-shadow: none;\n",
       "  }\n",
       "\n",
       "  .colab-df-spinner {\n",
       "    border: 2px solid var(--fill-color);\n",
       "    border-color: transparent;\n",
       "    border-bottom-color: var(--fill-color);\n",
       "    animation:\n",
       "      spin 1s steps(1) infinite;\n",
       "  }\n",
       "\n",
       "  @keyframes spin {\n",
       "    0% {\n",
       "      border-color: transparent;\n",
       "      border-bottom-color: var(--fill-color);\n",
       "      border-left-color: var(--fill-color);\n",
       "    }\n",
       "    20% {\n",
       "      border-color: transparent;\n",
       "      border-left-color: var(--fill-color);\n",
       "      border-top-color: var(--fill-color);\n",
       "    }\n",
       "    30% {\n",
       "      border-color: transparent;\n",
       "      border-left-color: var(--fill-color);\n",
       "      border-top-color: var(--fill-color);\n",
       "      border-right-color: var(--fill-color);\n",
       "    }\n",
       "    40% {\n",
       "      border-color: transparent;\n",
       "      border-right-color: var(--fill-color);\n",
       "      border-top-color: var(--fill-color);\n",
       "    }\n",
       "    60% {\n",
       "      border-color: transparent;\n",
       "      border-right-color: var(--fill-color);\n",
       "    }\n",
       "    80% {\n",
       "      border-color: transparent;\n",
       "      border-right-color: var(--fill-color);\n",
       "      border-bottom-color: var(--fill-color);\n",
       "    }\n",
       "    90% {\n",
       "      border-color: transparent;\n",
       "      border-bottom-color: var(--fill-color);\n",
       "    }\n",
       "  }\n",
       "</style>\n",
       "\n",
       "  <script>\n",
       "    async function quickchart(key) {\n",
       "      const quickchartButtonEl =\n",
       "        document.querySelector('#' + key + ' button');\n",
       "      quickchartButtonEl.disabled = true;  // To prevent multiple clicks.\n",
       "      quickchartButtonEl.classList.add('colab-df-spinner');\n",
       "      try {\n",
       "        const charts = await google.colab.kernel.invokeFunction(\n",
       "            'suggestCharts', [key], {});\n",
       "      } catch (error) {\n",
       "        console.error('Error during call to suggestCharts:', error);\n",
       "      }\n",
       "      quickchartButtonEl.classList.remove('colab-df-spinner');\n",
       "      quickchartButtonEl.classList.add('colab-df-quickchart-complete');\n",
       "    }\n",
       "    (() => {\n",
       "      let quickchartButtonEl =\n",
       "        document.querySelector('#df-8203c5de-6c17-4be8-8a53-d4685594eb2f button');\n",
       "      quickchartButtonEl.style.display =\n",
       "        google.colab.kernel.accessAllowed ? 'block' : 'none';\n",
       "    })();\n",
       "  </script>\n",
       "</div>\n",
       "\n",
       "  <div id=\"id_f589ccff-6883-433e-bf69-7de2b26a1f41\">\n",
       "    <style>\n",
       "      .colab-df-generate {\n",
       "        background-color: #E8F0FE;\n",
       "        border: none;\n",
       "        border-radius: 50%;\n",
       "        cursor: pointer;\n",
       "        display: none;\n",
       "        fill: #1967D2;\n",
       "        height: 32px;\n",
       "        padding: 0 0 0 0;\n",
       "        width: 32px;\n",
       "      }\n",
       "\n",
       "      .colab-df-generate:hover {\n",
       "        background-color: #E2EBFA;\n",
       "        box-shadow: 0px 1px 2px rgba(60, 64, 67, 0.3), 0px 1px 3px 1px rgba(60, 64, 67, 0.15);\n",
       "        fill: #174EA6;\n",
       "      }\n",
       "\n",
       "      [theme=dark] .colab-df-generate {\n",
       "        background-color: #3B4455;\n",
       "        fill: #D2E3FC;\n",
       "      }\n",
       "\n",
       "      [theme=dark] .colab-df-generate:hover {\n",
       "        background-color: #434B5C;\n",
       "        box-shadow: 0px 1px 3px 1px rgba(0, 0, 0, 0.15);\n",
       "        filter: drop-shadow(0px 1px 2px rgba(0, 0, 0, 0.3));\n",
       "        fill: #FFFFFF;\n",
       "      }\n",
       "    </style>\n",
       "    <button class=\"colab-df-generate\" onclick=\"generateWithVariable('results')\"\n",
       "            title=\"Generate code using this dataframe.\"\n",
       "            style=\"display:none;\">\n",
       "\n",
       "  <svg xmlns=\"http://www.w3.org/2000/svg\" height=\"24px\"viewBox=\"0 0 24 24\"\n",
       "       width=\"24px\">\n",
       "    <path d=\"M7,19H8.4L18.45,9,17,7.55,7,17.6ZM5,21V16.75L18.45,3.32a2,2,0,0,1,2.83,0l1.4,1.43a1.91,1.91,0,0,1,.58,1.4,1.91,1.91,0,0,1-.58,1.4L9.25,21ZM18.45,9,17,7.55Zm-12,3A5.31,5.31,0,0,0,4.9,8.1,5.31,5.31,0,0,0,1,6.5,5.31,5.31,0,0,0,4.9,4.9,5.31,5.31,0,0,0,6.5,1,5.31,5.31,0,0,0,8.1,4.9,5.31,5.31,0,0,0,12,6.5,5.46,5.46,0,0,0,6.5,12Z\"/>\n",
       "  </svg>\n",
       "    </button>\n",
       "    <script>\n",
       "      (() => {\n",
       "      const buttonEl =\n",
       "        document.querySelector('#id_f589ccff-6883-433e-bf69-7de2b26a1f41 button.colab-df-generate');\n",
       "      buttonEl.style.display =\n",
       "        google.colab.kernel.accessAllowed ? 'block' : 'none';\n",
       "\n",
       "      buttonEl.onclick = () => {\n",
       "        google.colab.notebook.generateWithVariable('results');\n",
       "      }\n",
       "      })();\n",
       "    </script>\n",
       "  </div>\n",
       "\n",
       "    </div>\n",
       "  </div>\n"
      ],
      "text/plain": [
       "             precision    recall  f1_score\n",
       "UPPERCASE     0.939539  0.920411  0.929877\n",
       "PERIOD        0.898105  0.915449  0.906694\n",
       "COMMA         0.831019  0.821862  0.826415\n",
       "COLON         0.617288  0.281319  0.386498\n",
       "EXCLAMATION   0.543354  0.492547  0.516705\n",
       "QUESTION      0.822522  0.840120  0.831228\n",
       "mean          0.775305  0.711951  0.732903"
      ]
     },
     "execution_count": 33,
     "metadata": {},
     "output_type": "execute_result"
    }
   ],
   "source": [
    "results"
   ]
  },
  {
   "cell_type": "markdown",
   "metadata": {
    "id": "VSNJp9v_b0y6",
    "jp-MarkdownHeadingCollapsed": true
   },
   "source": [
    "## Predict only Punctuation"
   ]
  },
  {
   "cell_type": "code",
   "execution_count": 1,
   "metadata": {},
   "outputs": [],
   "source": [
    "# to only predict punctuation, the loss function in the solver needs to be adapted"
   ]
  },
  {
   "cell_type": "code",
   "execution_count": null,
   "metadata": {
    "colab": {
     "base_uri": "https://localhost:8080/"
    },
    "executionInfo": {
     "elapsed": 3861,
     "status": "ok",
     "timestamp": 1704887656146,
     "user": {
      "displayName": "Louissko",
      "userId": "00337720139601541087"
     },
     "user_tz": -180
    },
    "id": "JXEupEeEb0zA",
    "outputId": "497734d4-cf70-48c6-a4c9-6b17ccea4b76"
   },
   "outputs": [
    {
     "name": "stderr",
     "output_type": "stream",
     "text": [
      "/usr/local/lib/python3.10/dist-packages/transformers/convert_slow_tokenizer.py:473: UserWarning: The sentencepiece tokenizer that you are converting to a fast tokenizer uses the byte fallback option which is not implemented in the fast tokenizers. In practice this means that the fast version of the tokenizer can produce unknown tokens whereas the sentencepiece version would have converted these unknown tokens into a sequence of byte tokens matching the original piece of text.\n",
      "  warnings.warn(\n"
     ]
    }
   ],
   "source": [
    "# define model save dir\n",
    "args.pretrained_model = 'microsoft/deberta-v3-base'\n",
    "args.model_save_name = 'model_deberta-v3-punc'\n",
    "args.save_training_dir = '/content/gdrive/MyDrive/nlp-punctuation/punctuation-project/deberta-v3-base'\n",
    "args.load_model =  'None'\n",
    "\n",
    "solver = initialize_model_and_components(args)\n",
    "\n",
    "ds_train = DatasetTextProcessor(train_text, args.classes, solver.model.tokenizer, mapping_tokens=True)\n",
    "dl_train = DataLoader(ds_train, batch_size=args.batch_size_train, shuffle=True, collate_fn=custom_collate_fn, num_workers=args.num_workers)\n",
    "ds_test = DatasetTextProcessor(test_text, args.classes, solver.model.tokenizer, mapping_tokens=True, return_overflowing_tokens=True)\n",
    "dl_test = DataLoader(ds_test, batch_size=args.batch_size_train, shuffle=False, collate_fn=custom_collate_fn, num_workers=args.num_workers)"
   ]
  },
  {
   "cell_type": "markdown",
   "metadata": {
    "id": "P0GzRl7Hb0zA",
    "jp-MarkdownHeadingCollapsed": true
   },
   "source": [
    "### Training"
   ]
  },
  {
   "cell_type": "code",
   "execution_count": null,
   "metadata": {
    "colab": {
     "base_uri": "https://localhost:8080/"
    },
    "executionInfo": {
     "elapsed": 6687532,
     "status": "ok",
     "timestamp": 1704894350845,
     "user": {
      "displayName": "Louissko",
      "userId": "00337720139601541087"
     },
     "user_tz": -180
    },
    "id": "IgQ3Q-4nb0zA",
    "outputId": "d1646b51-19d1-4b6a-9781-9eff6d4f09bc"
   },
   "outputs": [
    {
     "name": "stderr",
     "output_type": "stream",
     "text": [
      "\r",
      "  0%|          | 0/18750 [00:00<?, ?it/s]"
     ]
    },
    {
     "name": "stdout",
     "output_type": "stream",
     "text": [
      "Iteration 0: average loss: 1.9426\n",
      "             precision    recall  f1_score\n",
      "UPPERCASE     0.076687  0.089127  0.082440\n",
      "PERIOD        0.044178  0.914729  0.084286\n",
      "COMMA         0.062500  0.002252  0.004348\n",
      "COLON         0.000000  0.000000  0.000000\n",
      "EXCLAMATION   0.002451  0.071429  0.004739\n",
      "QUESTION      0.003704  0.034483  0.006689\n",
      "mean          0.031587  0.185336  0.030417\n"
     ]
    },
    {
     "name": "stderr",
     "output_type": "stream",
     "text": [
      "  5%|▌         | 1000/18750 [05:42<1:40:01,  2.96it/s]"
     ]
    },
    {
     "name": "stdout",
     "output_type": "stream",
     "text": [
      "Iteration 1000: average loss: 0.2126\n",
      "             precision    recall  f1_score\n",
      "UPPERCASE     0.090891  0.094085  0.092461\n",
      "PERIOD        0.602080  0.692468  0.644119\n",
      "COMMA         0.679593  0.575746  0.623374\n",
      "COLON         0.001582  0.000298  0.000502\n",
      "EXCLAMATION   0.023510  0.005538  0.008964\n",
      "QUESTION      0.172378  0.071419  0.100995\n",
      "mean          0.261673  0.239926  0.245069\n"
     ]
    },
    {
     "name": "stderr",
     "output_type": "stream",
     "text": [
      " 11%|█         | 2000/18750 [11:38<1:34:12,  2.96it/s]"
     ]
    },
    {
     "name": "stdout",
     "output_type": "stream",
     "text": [
      "Iteration 2000: average loss: 0.1243\n",
      "             precision    recall  f1_score\n",
      "UPPERCASE     0.081066  0.080017  0.080538\n",
      "PERIOD        0.808618  0.855094  0.831207\n",
      "COMMA         0.759934  0.734322  0.746909\n",
      "COLON         1.000000  0.000489  0.000977\n",
      "EXCLAMATION   0.467226  0.141237  0.216906\n",
      "QUESTION      0.715612  0.612604  0.660114\n",
      "mean          0.638743  0.403960  0.422775\n"
     ]
    },
    {
     "name": "stderr",
     "output_type": "stream",
     "text": [
      " 16%|█▌        | 3000/18750 [17:35<1:28:46,  2.96it/s]"
     ]
    },
    {
     "name": "stdout",
     "output_type": "stream",
     "text": [
      "Iteration 3000: average loss: 0.1139\n",
      "             precision    recall  f1_score\n",
      "UPPERCASE     0.071349  0.083571  0.076978\n",
      "PERIOD        0.832108  0.867994  0.849672\n",
      "COMMA         0.779274  0.751974  0.765381\n",
      "COLON         0.674003  0.048640  0.090732\n",
      "EXCLAMATION   0.516346  0.255174  0.341554\n",
      "QUESTION      0.754377  0.700409  0.726392\n",
      "mean          0.604576  0.451294  0.475118\n"
     ]
    },
    {
     "name": "stderr",
     "output_type": "stream",
     "text": [
      " 21%|██▏       | 4000/18750 [23:32<1:23:16,  2.95it/s]"
     ]
    },
    {
     "name": "stdout",
     "output_type": "stream",
     "text": [
      "Iteration 4000: average loss: 0.1070\n",
      "             precision    recall  f1_score\n",
      "UPPERCASE     0.069847  0.090305  0.078770\n",
      "PERIOD        0.845537  0.878881  0.861887\n",
      "COMMA         0.790219  0.764521  0.777158\n",
      "COLON         0.599562  0.109952  0.185826\n",
      "EXCLAMATION   0.545606  0.286882  0.376040\n",
      "QUESTION      0.777038  0.733533  0.754659\n",
      "mean          0.604635  0.477346  0.505723\n"
     ]
    },
    {
     "name": "stderr",
     "output_type": "stream",
     "text": [
      " 27%|██▋       | 5000/18750 [29:30<1:17:39,  2.95it/s]"
     ]
    },
    {
     "name": "stdout",
     "output_type": "stream",
     "text": [
      "Iteration 5000: average loss: 0.1036\n",
      "             precision    recall  f1_score\n",
      "UPPERCASE     0.065529  0.070541  0.067943\n",
      "PERIOD        0.849246  0.881020  0.864841\n",
      "COMMA         0.796091  0.770642  0.783160\n",
      "COLON         0.576958  0.125342  0.205944\n",
      "EXCLAMATION   0.555436  0.314302  0.401442\n",
      "QUESTION      0.786253  0.742800  0.763909\n",
      "mean          0.604919  0.484108  0.514540\n"
     ]
    },
    {
     "name": "stderr",
     "output_type": "stream",
     "text": [
      " 32%|███▏      | 6000/18750 [35:27<1:11:47,  2.96it/s]"
     ]
    },
    {
     "name": "stdout",
     "output_type": "stream",
     "text": [
      "Iteration 6000: average loss: 0.1017\n",
      "             precision    recall  f1_score\n",
      "UPPERCASE     0.064459  0.072323  0.068165\n",
      "PERIOD        0.854736  0.886238  0.870202\n",
      "COMMA         0.800838  0.774913  0.787662\n",
      "COLON         0.596851  0.156310  0.247739\n",
      "EXCLAMATION   0.563555  0.311560  0.401275\n",
      "QUESTION      0.797382  0.755136  0.775685\n",
      "mean          0.612970  0.492747  0.525121\n"
     ]
    },
    {
     "name": "stderr",
     "output_type": "stream",
     "text": [
      " 37%|███▋      | 7000/18750 [41:23<1:06:05,  2.96it/s]"
     ]
    },
    {
     "name": "stdout",
     "output_type": "stream",
     "text": [
      "Iteration 7000: average loss: 0.0988\n",
      "             precision    recall  f1_score\n",
      "UPPERCASE     0.063114  0.064368  0.063735\n",
      "PERIOD        0.859963  0.890588  0.875008\n",
      "COMMA         0.804891  0.779948  0.792223\n",
      "COLON         0.617340  0.176999  0.275118\n",
      "EXCLAMATION   0.562726  0.312873  0.402152\n",
      "QUESTION      0.807347  0.765183  0.785700\n",
      "mean          0.619230  0.498327  0.532323\n"
     ]
    },
    {
     "name": "stderr",
     "output_type": "stream",
     "text": [
      " 43%|████▎     | 8000/18750 [47:20<1:00:34,  2.96it/s]"
     ]
    },
    {
     "name": "stdout",
     "output_type": "stream",
     "text": [
      "Iteration 8000: average loss: 0.0977\n",
      "             precision    recall  f1_score\n",
      "UPPERCASE     0.062445  0.061002  0.061715\n",
      "PERIOD        0.862367  0.892882  0.877359\n",
      "COMMA         0.806648  0.782138  0.794204\n",
      "COLON         0.593092  0.176384  0.271905\n",
      "EXCLAMATION   0.577742  0.328075  0.418501\n",
      "QUESTION      0.806459  0.767691  0.786598\n",
      "mean          0.618126  0.501362  0.535047\n"
     ]
    },
    {
     "name": "stderr",
     "output_type": "stream",
     "text": [
      " 48%|████▊     | 9000/18750 [53:17<54:52,  2.96it/s]"
     ]
    },
    {
     "name": "stdout",
     "output_type": "stream",
     "text": [
      "Iteration 9000: average loss: 0.0969\n",
      "             precision    recall  f1_score\n",
      "UPPERCASE     0.064134  0.056060  0.059826\n",
      "PERIOD        0.865468  0.893792  0.879402\n",
      "COMMA         0.809039  0.784704  0.796686\n",
      "COLON         0.600892  0.178310  0.275012\n",
      "EXCLAMATION   0.583615  0.328129  0.420076\n",
      "QUESTION      0.807062  0.768375  0.787244\n",
      "mean          0.621702  0.501562  0.536374\n"
     ]
    },
    {
     "name": "stderr",
     "output_type": "stream",
     "text": [
      " 53%|█████▎    | 10000/18750 [59:15<49:15,  2.96it/s]"
     ]
    },
    {
     "name": "stdout",
     "output_type": "stream",
     "text": [
      "Iteration 10000: average loss: 0.0961\n",
      "             precision    recall  f1_score\n",
      "UPPERCASE     0.061098  0.060700  0.060898\n",
      "PERIOD        0.866322  0.894453  0.880163\n",
      "COMMA         0.811388  0.785967  0.798475\n",
      "COLON         0.618274  0.193023  0.294198\n",
      "EXCLAMATION   0.591608  0.333105  0.426224\n",
      "QUESTION      0.808748  0.769104  0.788428\n",
      "mean          0.626240  0.506059  0.541398\n"
     ]
    },
    {
     "name": "stderr",
     "output_type": "stream",
     "text": [
      " 59%|█████▊    | 11000/18750 [1:05:12<43:43,  2.95it/s]"
     ]
    },
    {
     "name": "stdout",
     "output_type": "stream",
     "text": [
      "Iteration 11000: average loss: 0.0955\n",
      "             precision    recall  f1_score\n",
      "UPPERCASE     0.056026  0.058875  0.057415\n",
      "PERIOD        0.867426  0.896567  0.881756\n",
      "COMMA         0.812270  0.787271  0.799575\n",
      "COLON         0.618829  0.195014  0.296568\n",
      "EXCLAMATION   0.580580  0.328603  0.419675\n",
      "QUESTION      0.812001  0.777518  0.794386\n",
      "mean          0.624522  0.507308  0.541562\n"
     ]
    },
    {
     "name": "stderr",
     "output_type": "stream",
     "text": [
      " 64%|██████▍   | 12000/18750 [1:11:09<38:00,  2.96it/s]"
     ]
    },
    {
     "name": "stdout",
     "output_type": "stream",
     "text": [
      "Iteration 12000: average loss: 0.0936\n",
      "             precision    recall  f1_score\n",
      "UPPERCASE     0.058073  0.048073  0.052602\n",
      "PERIOD        0.869971  0.898826  0.884163\n",
      "COMMA         0.813884  0.789772  0.801647\n",
      "COLON         0.620102  0.199884  0.302319\n",
      "EXCLAMATION   0.592754  0.340626  0.432637\n",
      "QUESTION      0.815909  0.776616  0.795778\n",
      "mean          0.628449  0.508966  0.544858\n"
     ]
    },
    {
     "name": "stderr",
     "output_type": "stream",
     "text": [
      " 69%|██████▉   | 13000/18750 [1:17:05<32:29,  2.95it/s]"
     ]
    },
    {
     "name": "stdout",
     "output_type": "stream",
     "text": [
      "Iteration 13000: average loss: 0.0936\n",
      "             precision    recall  f1_score\n",
      "UPPERCASE     0.058223  0.047295  0.052193\n",
      "PERIOD        0.870360  0.898777  0.884340\n",
      "COMMA         0.815344  0.789864  0.802402\n",
      "COLON         0.609576  0.182808  0.281266\n",
      "EXCLAMATION   0.597507  0.347048  0.439072\n",
      "QUESTION      0.819043  0.783877  0.801074\n",
      "mean          0.628342  0.508278  0.543391\n"
     ]
    },
    {
     "name": "stderr",
     "output_type": "stream",
     "text": [
      " 75%|███████▍  | 14000/18750 [1:23:02<26:38,  2.97it/s]"
     ]
    },
    {
     "name": "stdout",
     "output_type": "stream",
     "text": [
      "Iteration 14000: average loss: 0.0927\n",
      "             precision    recall  f1_score\n",
      "UPPERCASE     0.057958  0.046322  0.051491\n",
      "PERIOD        0.871552  0.899930  0.885514\n",
      "COMMA         0.817466  0.792896  0.804994\n",
      "COLON         0.632792  0.204917  0.309582\n",
      "EXCLAMATION   0.590214  0.336221  0.428400\n",
      "QUESTION      0.823124  0.782982  0.802551\n",
      "mean          0.632184  0.510545  0.547089\n"
     ]
    },
    {
     "name": "stderr",
     "output_type": "stream",
     "text": [
      " 80%|████████  | 15000/18750 [1:28:58<21:08,  2.96it/s]"
     ]
    },
    {
     "name": "stdout",
     "output_type": "stream",
     "text": [
      "Iteration 15000: average loss: 0.0908\n",
      "             precision    recall  f1_score\n",
      "UPPERCASE     0.054263  0.054929  0.054594\n",
      "PERIOD        0.874604  0.902760  0.888459\n",
      "COMMA         0.818026  0.794199  0.805936\n",
      "COLON         0.644561  0.215083  0.322538\n",
      "EXCLAMATION   0.606378  0.351178  0.444771\n",
      "QUESTION      0.826808  0.788850  0.807383\n",
      "mean          0.637440  0.517833  0.553947\n"
     ]
    },
    {
     "name": "stderr",
     "output_type": "stream",
     "text": [
      " 85%|████████▌ | 16000/18750 [1:34:56<15:31,  2.95it/s]"
     ]
    },
    {
     "name": "stdout",
     "output_type": "stream",
     "text": [
      "Iteration 16000: average loss: 0.0913\n",
      "             precision    recall  f1_score\n",
      "UPPERCASE     0.055605  0.053615  0.054592\n",
      "PERIOD        0.874135  0.902658  0.888168\n",
      "COMMA         0.819065  0.794161  0.806421\n",
      "COLON         0.620473  0.205963  0.309267\n",
      "EXCLAMATION   0.603582  0.353499  0.445868\n",
      "QUESTION      0.825462  0.787793  0.806188\n",
      "mean          0.633054  0.516282  0.551750\n"
     ]
    },
    {
     "name": "stderr",
     "output_type": "stream",
     "text": [
      " 91%|█████████ | 17000/18750 [1:40:53<09:51,  2.96it/s]"
     ]
    },
    {
     "name": "stdout",
     "output_type": "stream",
     "text": [
      "Iteration 17000: average loss: 0.0899\n",
      "             precision    recall  f1_score\n",
      "UPPERCASE     0.054444  0.053573  0.054005\n",
      "PERIOD        0.875972  0.904989  0.890244\n",
      "COMMA         0.820951  0.796272  0.808423\n",
      "COLON         0.634921  0.212389  0.318302\n",
      "EXCLAMATION   0.608406  0.351933  0.445922\n",
      "QUESTION      0.825576  0.787952  0.806325\n",
      "mean          0.636712  0.517852  0.553870\n"
     ]
    },
    {
     "name": "stderr",
     "output_type": "stream",
     "text": [
      " 96%|█████████▌| 18000/18750 [1:46:51<04:12,  2.97it/s]"
     ]
    },
    {
     "name": "stdout",
     "output_type": "stream",
     "text": [
      "Iteration 18000: average loss: 0.0904\n",
      "             precision    recall  f1_score\n",
      "UPPERCASE     0.054938  0.049273  0.051951\n",
      "PERIOD        0.875701  0.903766  0.889512\n",
      "COMMA         0.820560  0.795178  0.807669\n",
      "COLON         0.654059  0.228381  0.338549\n",
      "EXCLAMATION   0.606675  0.354078  0.447171\n",
      "QUESTION      0.826999  0.791853  0.809045\n",
      "mean          0.639822  0.520422  0.557316\n"
     ]
    },
    {
     "name": "stderr",
     "output_type": "stream",
     "text": [
      "100%|██████████| 18750/18750 [1:51:24<00:00,  2.80it/s]\n"
     ]
    }
   ],
   "source": [
    "solver.train(dl=dl_train, lr=6*10**-6)"
   ]
  },
  {
   "cell_type": "markdown",
   "metadata": {
    "id": "kF_vo_KMb0zA",
    "jp-MarkdownHeadingCollapsed": true
   },
   "source": [
    "### Testing"
   ]
  },
  {
   "cell_type": "code",
   "execution_count": null,
   "metadata": {
    "colab": {
     "base_uri": "https://localhost:8080/"
    },
    "executionInfo": {
     "elapsed": 1026031,
     "status": "ok",
     "timestamp": 1704895643537,
     "user": {
      "displayName": "Louissko",
      "userId": "00337720139601541087"
     },
     "user_tz": -180
    },
    "id": "jhUHXFqob0zB",
    "outputId": "3b4e2613-a49c-4a8a-f6ec-43138f2b1e3a"
   },
   "outputs": [
    {
     "name": "stderr",
     "output_type": "stream",
     "text": [
      "make predictions: 100%|██████████| 1875/1875 [16:36<00:00,  1.88it/s]\n"
     ]
    }
   ],
   "source": [
    "results = solver.test(dl_test)"
   ]
  },
  {
   "cell_type": "code",
   "execution_count": null,
   "metadata": {
    "id": "51pfSQA4b0zB"
   },
   "outputs": [],
   "source": [
    "results.to_csv(os.path.join(args.save_training_dir, 'results_test_punc_epoch_1.csv'))"
   ]
  },
  {
   "cell_type": "code",
   "execution_count": null,
   "metadata": {
    "colab": {
     "base_uri": "https://localhost:8080/",
     "height": 269
    },
    "executionInfo": {
     "elapsed": 3,
     "status": "ok",
     "timestamp": 1704896177429,
     "user": {
      "displayName": "Louissko",
      "userId": "00337720139601541087"
     },
     "user_tz": -180
    },
    "id": "FsRL5y1hb0zB",
    "outputId": "47dd1bf2-197c-404d-aec3-936d277e1016"
   },
   "outputs": [
    {
     "data": {
      "text/html": [
       "\n",
       "  <div id=\"df-45ba7929-1f97-4e10-957a-10cbc0a9867f\" class=\"colab-df-container\">\n",
       "    <div>\n",
       "<style scoped>\n",
       "    .dataframe tbody tr th:only-of-type {\n",
       "        vertical-align: middle;\n",
       "    }\n",
       "\n",
       "    .dataframe tbody tr th {\n",
       "        vertical-align: top;\n",
       "    }\n",
       "\n",
       "    .dataframe thead th {\n",
       "        text-align: right;\n",
       "    }\n",
       "</style>\n",
       "<table border=\"1\" class=\"dataframe\">\n",
       "  <thead>\n",
       "    <tr style=\"text-align: right;\">\n",
       "      <th></th>\n",
       "      <th>precision</th>\n",
       "      <th>recall</th>\n",
       "      <th>f1_score</th>\n",
       "    </tr>\n",
       "  </thead>\n",
       "  <tbody>\n",
       "    <tr>\n",
       "      <th>UPPERCASE</th>\n",
       "      <td>0.077986</td>\n",
       "      <td>0.031978</td>\n",
       "      <td>0.045357</td>\n",
       "    </tr>\n",
       "    <tr>\n",
       "      <th>PERIOD</th>\n",
       "      <td>0.879286</td>\n",
       "      <td>0.922439</td>\n",
       "      <td>0.900346</td>\n",
       "    </tr>\n",
       "    <tr>\n",
       "      <th>COMMA</th>\n",
       "      <td>0.837125</td>\n",
       "      <td>0.805041</td>\n",
       "      <td>0.820769</td>\n",
       "    </tr>\n",
       "    <tr>\n",
       "      <th>COLON</th>\n",
       "      <td>0.652809</td>\n",
       "      <td>0.244554</td>\n",
       "      <td>0.355814</td>\n",
       "    </tr>\n",
       "    <tr>\n",
       "      <th>EXCLAMATION</th>\n",
       "      <td>0.595307</td>\n",
       "      <td>0.415818</td>\n",
       "      <td>0.489631</td>\n",
       "    </tr>\n",
       "    <tr>\n",
       "      <th>QUESTION</th>\n",
       "      <td>0.820978</td>\n",
       "      <td>0.827085</td>\n",
       "      <td>0.824020</td>\n",
       "    </tr>\n",
       "    <tr>\n",
       "      <th>mean</th>\n",
       "      <td>0.643915</td>\n",
       "      <td>0.541153</td>\n",
       "      <td>0.572656</td>\n",
       "    </tr>\n",
       "  </tbody>\n",
       "</table>\n",
       "</div>\n",
       "    <div class=\"colab-df-buttons\">\n",
       "\n",
       "  <div class=\"colab-df-container\">\n",
       "    <button class=\"colab-df-convert\" onclick=\"convertToInteractive('df-45ba7929-1f97-4e10-957a-10cbc0a9867f')\"\n",
       "            title=\"Convert this dataframe to an interactive table.\"\n",
       "            style=\"display:none;\">\n",
       "\n",
       "  <svg xmlns=\"http://www.w3.org/2000/svg\" height=\"24px\" viewBox=\"0 -960 960 960\">\n",
       "    <path d=\"M120-120v-720h720v720H120Zm60-500h600v-160H180v160Zm220 220h160v-160H400v160Zm0 220h160v-160H400v160ZM180-400h160v-160H180v160Zm440 0h160v-160H620v160ZM180-180h160v-160H180v160Zm440 0h160v-160H620v160Z\"/>\n",
       "  </svg>\n",
       "    </button>\n",
       "\n",
       "  <style>\n",
       "    .colab-df-container {\n",
       "      display:flex;\n",
       "      gap: 12px;\n",
       "    }\n",
       "\n",
       "    .colab-df-convert {\n",
       "      background-color: #E8F0FE;\n",
       "      border: none;\n",
       "      border-radius: 50%;\n",
       "      cursor: pointer;\n",
       "      display: none;\n",
       "      fill: #1967D2;\n",
       "      height: 32px;\n",
       "      padding: 0 0 0 0;\n",
       "      width: 32px;\n",
       "    }\n",
       "\n",
       "    .colab-df-convert:hover {\n",
       "      background-color: #E2EBFA;\n",
       "      box-shadow: 0px 1px 2px rgba(60, 64, 67, 0.3), 0px 1px 3px 1px rgba(60, 64, 67, 0.15);\n",
       "      fill: #174EA6;\n",
       "    }\n",
       "\n",
       "    .colab-df-buttons div {\n",
       "      margin-bottom: 4px;\n",
       "    }\n",
       "\n",
       "    [theme=dark] .colab-df-convert {\n",
       "      background-color: #3B4455;\n",
       "      fill: #D2E3FC;\n",
       "    }\n",
       "\n",
       "    [theme=dark] .colab-df-convert:hover {\n",
       "      background-color: #434B5C;\n",
       "      box-shadow: 0px 1px 3px 1px rgba(0, 0, 0, 0.15);\n",
       "      filter: drop-shadow(0px 1px 2px rgba(0, 0, 0, 0.3));\n",
       "      fill: #FFFFFF;\n",
       "    }\n",
       "  </style>\n",
       "\n",
       "    <script>\n",
       "      const buttonEl =\n",
       "        document.querySelector('#df-45ba7929-1f97-4e10-957a-10cbc0a9867f button.colab-df-convert');\n",
       "      buttonEl.style.display =\n",
       "        google.colab.kernel.accessAllowed ? 'block' : 'none';\n",
       "\n",
       "      async function convertToInteractive(key) {\n",
       "        const element = document.querySelector('#df-45ba7929-1f97-4e10-957a-10cbc0a9867f');\n",
       "        const dataTable =\n",
       "          await google.colab.kernel.invokeFunction('convertToInteractive',\n",
       "                                                    [key], {});\n",
       "        if (!dataTable) return;\n",
       "\n",
       "        const docLinkHtml = 'Like what you see? Visit the ' +\n",
       "          '<a target=\"_blank\" href=https://colab.research.google.com/notebooks/data_table.ipynb>data table notebook</a>'\n",
       "          + ' to learn more about interactive tables.';\n",
       "        element.innerHTML = '';\n",
       "        dataTable['output_type'] = 'display_data';\n",
       "        await google.colab.output.renderOutput(dataTable, element);\n",
       "        const docLink = document.createElement('div');\n",
       "        docLink.innerHTML = docLinkHtml;\n",
       "        element.appendChild(docLink);\n",
       "      }\n",
       "    </script>\n",
       "  </div>\n",
       "\n",
       "\n",
       "<div id=\"df-ce70b9f5-e527-4d76-81c9-90d77e8cd58f\">\n",
       "  <button class=\"colab-df-quickchart\" onclick=\"quickchart('df-ce70b9f5-e527-4d76-81c9-90d77e8cd58f')\"\n",
       "            title=\"Suggest charts\"\n",
       "            style=\"display:none;\">\n",
       "\n",
       "<svg xmlns=\"http://www.w3.org/2000/svg\" height=\"24px\"viewBox=\"0 0 24 24\"\n",
       "     width=\"24px\">\n",
       "    <g>\n",
       "        <path d=\"M19 3H5c-1.1 0-2 .9-2 2v14c0 1.1.9 2 2 2h14c1.1 0 2-.9 2-2V5c0-1.1-.9-2-2-2zM9 17H7v-7h2v7zm4 0h-2V7h2v10zm4 0h-2v-4h2v4z\"/>\n",
       "    </g>\n",
       "</svg>\n",
       "  </button>\n",
       "\n",
       "<style>\n",
       "  .colab-df-quickchart {\n",
       "      --bg-color: #E8F0FE;\n",
       "      --fill-color: #1967D2;\n",
       "      --hover-bg-color: #E2EBFA;\n",
       "      --hover-fill-color: #174EA6;\n",
       "      --disabled-fill-color: #AAA;\n",
       "      --disabled-bg-color: #DDD;\n",
       "  }\n",
       "\n",
       "  [theme=dark] .colab-df-quickchart {\n",
       "      --bg-color: #3B4455;\n",
       "      --fill-color: #D2E3FC;\n",
       "      --hover-bg-color: #434B5C;\n",
       "      --hover-fill-color: #FFFFFF;\n",
       "      --disabled-bg-color: #3B4455;\n",
       "      --disabled-fill-color: #666;\n",
       "  }\n",
       "\n",
       "  .colab-df-quickchart {\n",
       "    background-color: var(--bg-color);\n",
       "    border: none;\n",
       "    border-radius: 50%;\n",
       "    cursor: pointer;\n",
       "    display: none;\n",
       "    fill: var(--fill-color);\n",
       "    height: 32px;\n",
       "    padding: 0;\n",
       "    width: 32px;\n",
       "  }\n",
       "\n",
       "  .colab-df-quickchart:hover {\n",
       "    background-color: var(--hover-bg-color);\n",
       "    box-shadow: 0 1px 2px rgba(60, 64, 67, 0.3), 0 1px 3px 1px rgba(60, 64, 67, 0.15);\n",
       "    fill: var(--button-hover-fill-color);\n",
       "  }\n",
       "\n",
       "  .colab-df-quickchart-complete:disabled,\n",
       "  .colab-df-quickchart-complete:disabled:hover {\n",
       "    background-color: var(--disabled-bg-color);\n",
       "    fill: var(--disabled-fill-color);\n",
       "    box-shadow: none;\n",
       "  }\n",
       "\n",
       "  .colab-df-spinner {\n",
       "    border: 2px solid var(--fill-color);\n",
       "    border-color: transparent;\n",
       "    border-bottom-color: var(--fill-color);\n",
       "    animation:\n",
       "      spin 1s steps(1) infinite;\n",
       "  }\n",
       "\n",
       "  @keyframes spin {\n",
       "    0% {\n",
       "      border-color: transparent;\n",
       "      border-bottom-color: var(--fill-color);\n",
       "      border-left-color: var(--fill-color);\n",
       "    }\n",
       "    20% {\n",
       "      border-color: transparent;\n",
       "      border-left-color: var(--fill-color);\n",
       "      border-top-color: var(--fill-color);\n",
       "    }\n",
       "    30% {\n",
       "      border-color: transparent;\n",
       "      border-left-color: var(--fill-color);\n",
       "      border-top-color: var(--fill-color);\n",
       "      border-right-color: var(--fill-color);\n",
       "    }\n",
       "    40% {\n",
       "      border-color: transparent;\n",
       "      border-right-color: var(--fill-color);\n",
       "      border-top-color: var(--fill-color);\n",
       "    }\n",
       "    60% {\n",
       "      border-color: transparent;\n",
       "      border-right-color: var(--fill-color);\n",
       "    }\n",
       "    80% {\n",
       "      border-color: transparent;\n",
       "      border-right-color: var(--fill-color);\n",
       "      border-bottom-color: var(--fill-color);\n",
       "    }\n",
       "    90% {\n",
       "      border-color: transparent;\n",
       "      border-bottom-color: var(--fill-color);\n",
       "    }\n",
       "  }\n",
       "</style>\n",
       "\n",
       "  <script>\n",
       "    async function quickchart(key) {\n",
       "      const quickchartButtonEl =\n",
       "        document.querySelector('#' + key + ' button');\n",
       "      quickchartButtonEl.disabled = true;  // To prevent multiple clicks.\n",
       "      quickchartButtonEl.classList.add('colab-df-spinner');\n",
       "      try {\n",
       "        const charts = await google.colab.kernel.invokeFunction(\n",
       "            'suggestCharts', [key], {});\n",
       "      } catch (error) {\n",
       "        console.error('Error during call to suggestCharts:', error);\n",
       "      }\n",
       "      quickchartButtonEl.classList.remove('colab-df-spinner');\n",
       "      quickchartButtonEl.classList.add('colab-df-quickchart-complete');\n",
       "    }\n",
       "    (() => {\n",
       "      let quickchartButtonEl =\n",
       "        document.querySelector('#df-ce70b9f5-e527-4d76-81c9-90d77e8cd58f button');\n",
       "      quickchartButtonEl.style.display =\n",
       "        google.colab.kernel.accessAllowed ? 'block' : 'none';\n",
       "    })();\n",
       "  </script>\n",
       "</div>\n",
       "\n",
       "  <div id=\"id_508470e4-455e-4b0e-8eb3-8747f4cfeab7\">\n",
       "    <style>\n",
       "      .colab-df-generate {\n",
       "        background-color: #E8F0FE;\n",
       "        border: none;\n",
       "        border-radius: 50%;\n",
       "        cursor: pointer;\n",
       "        display: none;\n",
       "        fill: #1967D2;\n",
       "        height: 32px;\n",
       "        padding: 0 0 0 0;\n",
       "        width: 32px;\n",
       "      }\n",
       "\n",
       "      .colab-df-generate:hover {\n",
       "        background-color: #E2EBFA;\n",
       "        box-shadow: 0px 1px 2px rgba(60, 64, 67, 0.3), 0px 1px 3px 1px rgba(60, 64, 67, 0.15);\n",
       "        fill: #174EA6;\n",
       "      }\n",
       "\n",
       "      [theme=dark] .colab-df-generate {\n",
       "        background-color: #3B4455;\n",
       "        fill: #D2E3FC;\n",
       "      }\n",
       "\n",
       "      [theme=dark] .colab-df-generate:hover {\n",
       "        background-color: #434B5C;\n",
       "        box-shadow: 0px 1px 3px 1px rgba(0, 0, 0, 0.15);\n",
       "        filter: drop-shadow(0px 1px 2px rgba(0, 0, 0, 0.3));\n",
       "        fill: #FFFFFF;\n",
       "      }\n",
       "    </style>\n",
       "    <button class=\"colab-df-generate\" onclick=\"generateWithVariable('results')\"\n",
       "            title=\"Generate code using this dataframe.\"\n",
       "            style=\"display:none;\">\n",
       "\n",
       "  <svg xmlns=\"http://www.w3.org/2000/svg\" height=\"24px\"viewBox=\"0 0 24 24\"\n",
       "       width=\"24px\">\n",
       "    <path d=\"M7,19H8.4L18.45,9,17,7.55,7,17.6ZM5,21V16.75L18.45,3.32a2,2,0,0,1,2.83,0l1.4,1.43a1.91,1.91,0,0,1,.58,1.4,1.91,1.91,0,0,1-.58,1.4L9.25,21ZM18.45,9,17,7.55Zm-12,3A5.31,5.31,0,0,0,4.9,8.1,5.31,5.31,0,0,0,1,6.5,5.31,5.31,0,0,0,4.9,4.9,5.31,5.31,0,0,0,6.5,1,5.31,5.31,0,0,0,8.1,4.9,5.31,5.31,0,0,0,12,6.5,5.46,5.46,0,0,0,6.5,12Z\"/>\n",
       "  </svg>\n",
       "    </button>\n",
       "    <script>\n",
       "      (() => {\n",
       "      const buttonEl =\n",
       "        document.querySelector('#id_508470e4-455e-4b0e-8eb3-8747f4cfeab7 button.colab-df-generate');\n",
       "      buttonEl.style.display =\n",
       "        google.colab.kernel.accessAllowed ? 'block' : 'none';\n",
       "\n",
       "      buttonEl.onclick = () => {\n",
       "        google.colab.notebook.generateWithVariable('results');\n",
       "      }\n",
       "      })();\n",
       "    </script>\n",
       "  </div>\n",
       "\n",
       "    </div>\n",
       "  </div>\n"
      ],
      "text/plain": [
       "             precision    recall  f1_score\n",
       "UPPERCASE     0.077986  0.031978  0.045357\n",
       "PERIOD        0.879286  0.922439  0.900346\n",
       "COMMA         0.837125  0.805041  0.820769\n",
       "COLON         0.652809  0.244554  0.355814\n",
       "EXCLAMATION   0.595307  0.415818  0.489631\n",
       "QUESTION      0.820978  0.827085  0.824020\n",
       "mean          0.643915  0.541153  0.572656"
      ]
     },
     "execution_count": 11,
     "metadata": {},
     "output_type": "execute_result"
    }
   ],
   "source": [
    "results"
   ]
  },
  {
   "cell_type": "markdown",
   "metadata": {
    "id": "rPJIdOfCu7mI"
   },
   "source": [
    "## Predict only Capitalization"
   ]
  },
  {
   "cell_type": "code",
   "execution_count": 2,
   "metadata": {},
   "outputs": [],
   "source": [
    "# to only predict capitalization, the loss function in the solver needs to be adapted"
   ]
  },
  {
   "cell_type": "code",
   "execution_count": 9,
   "metadata": {
    "executionInfo": {
     "elapsed": 4038,
     "status": "ok",
     "timestamp": 1704902780678,
     "user": {
      "displayName": "Louissko",
      "userId": "00337720139601541087"
     },
     "user_tz": -180
    },
    "id": "wRqNoM7mu7mP"
   },
   "outputs": [],
   "source": [
    "# define model save dir\n",
    "args.pretrained_model = 'microsoft/deberta-v3-base'\n",
    "args.model_save_name = 'model_deberta-v3-cap'\n",
    "args.save_training_dir = '/content/gdrive/MyDrive/nlp-punctuation/punctuation-project/deberta-v3-base'\n",
    "args.load_model =  'None'\n",
    "\n",
    "solver = initialize_model_and_components(args)\n",
    "\n",
    "ds_train = DatasetTextProcessor(train_text, args.classes, solver.model.tokenizer, mapping_tokens=True)\n",
    "dl_train = DataLoader(ds_train, batch_size=args.batch_size_train, shuffle=True, collate_fn=custom_collate_fn, num_workers=args.num_workers)\n",
    "ds_test = DatasetTextProcessor(test_text, args.classes, solver.model.tokenizer, mapping_tokens=True, return_overflowing_tokens=True)\n",
    "dl_test = DataLoader(ds_test, batch_size=args.batch_size_train, shuffle=False, collate_fn=custom_collate_fn, num_workers=args.num_workers)"
   ]
  },
  {
   "cell_type": "markdown",
   "metadata": {
    "id": "5Ag1H74Au7mP"
   },
   "source": [
    "### Training"
   ]
  },
  {
   "cell_type": "code",
   "execution_count": 10,
   "metadata": {
    "colab": {
     "base_uri": "https://localhost:8080/"
    },
    "executionInfo": {
     "elapsed": 6675870,
     "status": "ok",
     "timestamp": 1704909459959,
     "user": {
      "displayName": "Louissko",
      "userId": "00337720139601541087"
     },
     "user_tz": -180
    },
    "id": "uHBWe7Z8u7mP",
    "outputId": "2745b8fe-bbcb-431d-d1a1-064f24f29d58"
   },
   "outputs": [
    {
     "name": "stderr",
     "output_type": "stream",
     "text": [
      "\r",
      "  0%|          | 0/18750 [00:00<?, ?it/s]"
     ]
    },
    {
     "name": "stdout",
     "output_type": "stream",
     "text": [
      "Iteration 0: average loss: 1.1048\n",
      "             precision    recall  f1_score\n",
      "UPPERCASE     0.082373  0.686822  0.147103\n",
      "PERIOD        0.000000  0.000000  0.000000\n",
      "COMMA         0.095222  0.549808  0.162330\n",
      "COLON         0.004329  0.153846  0.008421\n",
      "EXCLAMATION   0.002299  0.100000  0.004494\n",
      "QUESTION      0.000000  0.000000  0.000000\n",
      "mean          0.030704  0.248413  0.053725\n"
     ]
    },
    {
     "name": "stderr",
     "output_type": "stream",
     "text": [
      "  5%|▌         | 1000/18750 [05:41<1:39:57,  2.96it/s]"
     ]
    },
    {
     "name": "stdout",
     "output_type": "stream",
     "text": [
      "Iteration 1000: average loss: 0.0927\n",
      "             precision    recall  f1_score\n",
      "UPPERCASE     0.809500  0.803841  0.806661\n",
      "PERIOD        0.049932  0.018078  0.026545\n",
      "COMMA         0.070990  0.489239  0.123989\n",
      "COLON         0.001474  0.067805  0.002885\n",
      "EXCLAMATION   0.006537  0.076713  0.012048\n",
      "QUESTION      0.002951  0.267818  0.005837\n",
      "mean          0.156897  0.287249  0.162994\n"
     ]
    },
    {
     "name": "stderr",
     "output_type": "stream",
     "text": [
      " 11%|█         | 2000/18750 [11:37<1:34:16,  2.96it/s]"
     ]
    },
    {
     "name": "stdout",
     "output_type": "stream",
     "text": [
      "Iteration 2000: average loss: 0.0584\n",
      "             precision    recall  f1_score\n",
      "UPPERCASE     0.908636  0.867955  0.887830\n",
      "PERIOD        0.045830  0.024503  0.031933\n",
      "COMMA         0.067904  0.405473  0.116328\n",
      "COLON         0.001593  0.104081  0.003139\n",
      "EXCLAMATION   0.006742  0.087179  0.012517\n",
      "QUESTION      0.002859  0.292957  0.005664\n",
      "mean          0.172261  0.297025  0.176235\n"
     ]
    },
    {
     "name": "stderr",
     "output_type": "stream",
     "text": [
      " 16%|█▌        | 3000/18750 [17:33<1:28:15,  2.97it/s]"
     ]
    },
    {
     "name": "stdout",
     "output_type": "stream",
     "text": [
      "Iteration 3000: average loss: 0.0535\n",
      "             precision    recall  f1_score\n",
      "UPPERCASE     0.916293  0.879849  0.897702\n",
      "PERIOD        0.043171  0.028003  0.033971\n",
      "COMMA         0.064954  0.400089  0.111763\n",
      "COLON         0.001664  0.124172  0.003285\n",
      "EXCLAMATION   0.006729  0.069681  0.012272\n",
      "QUESTION      0.002865  0.298966  0.005675\n",
      "mean          0.172613  0.300127  0.177445\n"
     ]
    },
    {
     "name": "stderr",
     "output_type": "stream",
     "text": [
      " 21%|██▏       | 4000/18750 [23:29<1:22:56,  2.96it/s]"
     ]
    },
    {
     "name": "stdout",
     "output_type": "stream",
     "text": [
      "Iteration 4000: average loss: 0.0501\n",
      "             precision    recall  f1_score\n",
      "UPPERCASE     0.920775  0.884982  0.902524\n",
      "PERIOD        0.041176  0.030532  0.035064\n",
      "COMMA         0.061948  0.418883  0.107933\n",
      "COLON         0.001661  0.149107  0.003285\n",
      "EXCLAMATION   0.007057  0.068656  0.012798\n",
      "QUESTION      0.002803  0.238729  0.005540\n",
      "mean          0.172570  0.298481  0.177857\n"
     ]
    },
    {
     "name": "stderr",
     "output_type": "stream",
     "text": [
      " 27%|██▋       | 5000/18750 [29:24<1:17:06,  2.97it/s]"
     ]
    },
    {
     "name": "stdout",
     "output_type": "stream",
     "text": [
      "Iteration 5000: average loss: 0.0493\n",
      "             precision    recall  f1_score\n",
      "UPPERCASE     0.922945  0.888687  0.905492\n",
      "PERIOD        0.037811  0.034360  0.036003\n",
      "COMMA         0.059980  0.423826  0.105088\n",
      "COLON         0.001675  0.161063  0.003315\n",
      "EXCLAMATION   0.006504  0.054558  0.011623\n",
      "QUESTION      0.002773  0.217452  0.005477\n",
      "mean          0.171948  0.296658  0.177833\n"
     ]
    },
    {
     "name": "stderr",
     "output_type": "stream",
     "text": [
      " 32%|███▏      | 6000/18750 [35:20<1:11:39,  2.97it/s]"
     ]
    },
    {
     "name": "stdout",
     "output_type": "stream",
     "text": [
      "Iteration 6000: average loss: 0.0484\n",
      "             precision    recall  f1_score\n",
      "UPPERCASE     0.923525  0.890442  0.906682\n",
      "PERIOD        0.035971  0.030662  0.033105\n",
      "COMMA         0.059258  0.425111  0.104016\n",
      "COLON         0.001617  0.157699  0.003202\n",
      "EXCLAMATION   0.006571  0.042568  0.011385\n",
      "QUESTION      0.002885  0.229144  0.005699\n",
      "mean          0.171638  0.295938  0.177348\n"
     ]
    },
    {
     "name": "stderr",
     "output_type": "stream",
     "text": [
      " 37%|███▋      | 7000/18750 [41:16<1:06:02,  2.97it/s]"
     ]
    },
    {
     "name": "stdout",
     "output_type": "stream",
     "text": [
      "Iteration 7000: average loss: 0.0473\n",
      "             precision    recall  f1_score\n",
      "UPPERCASE     0.925924  0.893802  0.909580\n",
      "PERIOD        0.037230  0.030450  0.033500\n",
      "COMMA         0.057862  0.430985  0.102026\n",
      "COLON         0.001705  0.166967  0.003376\n",
      "EXCLAMATION   0.006950  0.046473  0.012091\n",
      "QUESTION      0.003009  0.215537  0.005936\n",
      "mean          0.172113  0.297369  0.177752\n"
     ]
    },
    {
     "name": "stderr",
     "output_type": "stream",
     "text": [
      " 43%|████▎     | 8000/18750 [47:11<1:00:21,  2.97it/s]"
     ]
    },
    {
     "name": "stdout",
     "output_type": "stream",
     "text": [
      "Iteration 8000: average loss: 0.0459\n",
      "             precision    recall  f1_score\n",
      "UPPERCASE     0.927668  0.896590  0.911864\n",
      "PERIOD        0.033870  0.028823  0.031143\n",
      "COMMA         0.057067  0.432511  0.100830\n",
      "COLON         0.001637  0.160256  0.003241\n",
      "EXCLAMATION   0.006712  0.047004  0.011746\n",
      "QUESTION      0.002922  0.206738  0.005762\n",
      "mean          0.171646  0.295320  0.177431\n"
     ]
    },
    {
     "name": "stderr",
     "output_type": "stream",
     "text": [
      " 48%|████▊     | 9000/18750 [53:08<54:51,  2.96it/s]"
     ]
    },
    {
     "name": "stdout",
     "output_type": "stream",
     "text": [
      "Iteration 9000: average loss: 0.0464\n",
      "             precision    recall  f1_score\n",
      "UPPERCASE     0.927296  0.895739  0.911245\n",
      "PERIOD        0.032402  0.029423  0.030841\n",
      "COMMA         0.056404  0.446494  0.100156\n",
      "COLON         0.001782  0.199766  0.003532\n",
      "EXCLAMATION   0.007195  0.053243  0.012677\n",
      "QUESTION      0.002968  0.159819  0.005827\n",
      "mean          0.171341  0.297414  0.177380\n"
     ]
    },
    {
     "name": "stderr",
     "output_type": "stream",
     "text": [
      " 53%|█████▎    | 10000/18750 [59:04<49:10,  2.97it/s]"
     ]
    },
    {
     "name": "stdout",
     "output_type": "stream",
     "text": [
      "Iteration 10000: average loss: 0.0439\n",
      "             precision    recall  f1_score\n",
      "UPPERCASE     0.930675  0.902479  0.916360\n",
      "PERIOD        0.032454  0.034834  0.033602\n",
      "COMMA         0.056209  0.425994  0.099314\n",
      "COLON         0.001707  0.198842  0.003385\n",
      "EXCLAMATION   0.006745  0.053869  0.011989\n",
      "QUESTION      0.002826  0.159864  0.005555\n",
      "mean          0.171769  0.295980  0.178367\n"
     ]
    },
    {
     "name": "stderr",
     "output_type": "stream",
     "text": [
      " 59%|█████▊    | 11000/18750 [1:05:00<43:38,  2.96it/s]"
     ]
    },
    {
     "name": "stdout",
     "output_type": "stream",
     "text": [
      "Iteration 11000: average loss: 0.0450\n",
      "             precision    recall  f1_score\n",
      "UPPERCASE     0.930232  0.899936  0.914834\n",
      "PERIOD        0.033670  0.034309  0.033986\n",
      "COMMA         0.055810  0.413279  0.098340\n",
      "COLON         0.001674  0.188106  0.003318\n",
      "EXCLAMATION   0.006961  0.048717  0.012181\n",
      "QUESTION      0.002938  0.188412  0.005786\n",
      "mean          0.171881  0.295460  0.178074\n"
     ]
    },
    {
     "name": "stderr",
     "output_type": "stream",
     "text": [
      " 64%|██████▍   | 12000/18750 [1:10:57<37:57,  2.96it/s]"
     ]
    },
    {
     "name": "stdout",
     "output_type": "stream",
     "text": [
      "Iteration 12000: average loss: 0.0441\n",
      "             precision    recall  f1_score\n",
      "UPPERCASE     0.931074  0.901354  0.915973\n",
      "PERIOD        0.032219  0.045029  0.037562\n",
      "COMMA         0.055286  0.391794  0.096899\n",
      "COLON         0.001702  0.183744  0.003373\n",
      "EXCLAMATION   0.007205  0.053380  0.012696\n",
      "QUESTION      0.003024  0.199015  0.005958\n",
      "mean          0.171752  0.295719  0.178743\n"
     ]
    },
    {
     "name": "stderr",
     "output_type": "stream",
     "text": [
      " 69%|██████▉   | 13000/18750 [1:16:54<32:17,  2.97it/s]"
     ]
    },
    {
     "name": "stdout",
     "output_type": "stream",
     "text": [
      "Iteration 13000: average loss: 0.0445\n",
      "             precision    recall  f1_score\n",
      "UPPERCASE     0.931029  0.901419  0.915985\n",
      "PERIOD        0.031190  0.044019  0.036511\n",
      "COMMA         0.054838  0.384260  0.095978\n",
      "COLON         0.001770  0.192135  0.003507\n",
      "EXCLAMATION   0.006969  0.048992  0.012202\n",
      "QUESTION      0.002999  0.204758  0.005911\n",
      "mean          0.171466  0.295931  0.178349\n"
     ]
    },
    {
     "name": "stderr",
     "output_type": "stream",
     "text": [
      " 75%|███████▍  | 14000/18750 [1:22:51<26:49,  2.95it/s]"
     ]
    },
    {
     "name": "stdout",
     "output_type": "stream",
     "text": [
      "Iteration 14000: average loss: 0.0443\n",
      "             precision    recall  f1_score\n",
      "UPPERCASE     0.930659  0.901336  0.915763\n",
      "PERIOD        0.030786  0.038626  0.034263\n",
      "COMMA         0.054227  0.391281  0.095252\n",
      "COLON         0.001925  0.204482  0.003815\n",
      "EXCLAMATION   0.007825  0.058580  0.013806\n",
      "QUESTION      0.003025  0.195704  0.005958\n",
      "mean          0.171408  0.298335  0.178143\n"
     ]
    },
    {
     "name": "stderr",
     "output_type": "stream",
     "text": [
      " 80%|████████  | 15000/18750 [1:28:48<21:09,  2.95it/s]"
     ]
    },
    {
     "name": "stdout",
     "output_type": "stream",
     "text": [
      "Iteration 15000: average loss: 0.0422\n",
      "             precision    recall  f1_score\n",
      "UPPERCASE     0.933252  0.906797  0.919834\n",
      "PERIOD        0.030956  0.034510  0.032636\n",
      "COMMA         0.054843  0.424759  0.097143\n",
      "COLON         0.001915  0.181995  0.003790\n",
      "EXCLAMATION   0.007651  0.050021  0.013272\n",
      "QUESTION      0.003277  0.188038  0.006442\n",
      "mean          0.171982  0.297687  0.178853\n"
     ]
    },
    {
     "name": "stderr",
     "output_type": "stream",
     "text": [
      " 85%|████████▌ | 16000/18750 [1:34:45<15:28,  2.96it/s]"
     ]
    },
    {
     "name": "stdout",
     "output_type": "stream",
     "text": [
      "Iteration 16000: average loss: 0.0420\n",
      "             precision    recall  f1_score\n",
      "UPPERCASE     0.934659  0.907238  0.920745\n",
      "PERIOD        0.033163  0.038120  0.035469\n",
      "COMMA         0.053188  0.405807  0.094049\n",
      "COLON         0.001902  0.181441  0.003764\n",
      "EXCLAMATION   0.007074  0.054276  0.012517\n",
      "QUESTION      0.003246  0.196480  0.006386\n",
      "mean          0.172205  0.297227  0.178822\n"
     ]
    },
    {
     "name": "stderr",
     "output_type": "stream",
     "text": [
      " 91%|█████████ | 17000/18750 [1:40:42<09:53,  2.95it/s]"
     ]
    },
    {
     "name": "stdout",
     "output_type": "stream",
     "text": [
      "Iteration 17000: average loss: 0.0424\n",
      "             precision    recall  f1_score\n",
      "UPPERCASE     0.933967  0.906118  0.919832\n",
      "PERIOD        0.033829  0.044110  0.038291\n",
      "COMMA         0.052487  0.408053  0.093010\n",
      "COLON         0.001955  0.191203  0.003871\n",
      "EXCLAMATION   0.007150  0.051484  0.012556\n",
      "QUESTION      0.003110  0.174076  0.006111\n",
      "mean          0.172083  0.295841  0.178945\n"
     ]
    },
    {
     "name": "stderr",
     "output_type": "stream",
     "text": [
      " 96%|█████████▌| 18000/18750 [1:46:39<04:13,  2.96it/s]"
     ]
    },
    {
     "name": "stdout",
     "output_type": "stream",
     "text": [
      "Iteration 18000: average loss: 0.0412\n",
      "             precision    recall  f1_score\n",
      "UPPERCASE     0.935418  0.908084  0.921548\n",
      "PERIOD        0.032476  0.038836  0.035373\n",
      "COMMA         0.053177  0.411467  0.094183\n",
      "COLON         0.001944  0.160066  0.003840\n",
      "EXCLAMATION   0.006996  0.051353  0.012314\n",
      "QUESTION      0.003072  0.195402  0.006049\n",
      "mean          0.172181  0.294201  0.178885\n"
     ]
    },
    {
     "name": "stderr",
     "output_type": "stream",
     "text": [
      "100%|██████████| 18750/18750 [1:51:12<00:00,  2.81it/s]\n"
     ]
    }
   ],
   "source": [
    "solver.train(dl=dl_train, lr=6*10**-6)"
   ]
  },
  {
   "cell_type": "markdown",
   "metadata": {
    "id": "8_t5L8Qdu7mQ"
   },
   "source": [
    "### Testing"
   ]
  },
  {
   "cell_type": "code",
   "execution_count": 11,
   "metadata": {
    "colab": {
     "base_uri": "https://localhost:8080/"
    },
    "executionInfo": {
     "elapsed": 1030042,
     "status": "ok",
     "timestamp": 1704910489998,
     "user": {
      "displayName": "Louissko",
      "userId": "00337720139601541087"
     },
     "user_tz": -180
    },
    "id": "5pTojHGJu7mQ",
    "outputId": "e9caed9f-d1d2-4279-89d4-008f9a169896"
   },
   "outputs": [
    {
     "name": "stderr",
     "output_type": "stream",
     "text": [
      "make predictions: 100%|██████████| 1875/1875 [16:40<00:00,  1.87it/s]\n"
     ]
    }
   ],
   "source": [
    "results = solver.test(dl_test)"
   ]
  },
  {
   "cell_type": "code",
   "execution_count": 41,
   "metadata": {
    "executionInfo": {
     "elapsed": 3,
     "status": "ok",
     "timestamp": 1704911339079,
     "user": {
      "displayName": "Louissko",
      "userId": "00337720139601541087"
     },
     "user_tz": -180
    },
    "id": "5DN8qnrbu7mQ"
   },
   "outputs": [],
   "source": [
    "results.to_csv(os.path.join(args.save_training_dir, 'results_test_cap_epoch_1.csv'))"
   ]
  },
  {
   "cell_type": "code",
   "execution_count": 40,
   "metadata": {
    "colab": {
     "base_uri": "https://localhost:8080/",
     "height": 269
    },
    "executionInfo": {
     "elapsed": 813,
     "status": "ok",
     "timestamp": 1704911335982,
     "user": {
      "displayName": "Louissko",
      "userId": "00337720139601541087"
     },
     "user_tz": -180
    },
    "id": "0h8r794Qu7mQ",
    "outputId": "a76b579c-72fd-4087-c9dc-1a4c9cafa850"
   },
   "outputs": [
    {
     "data": {
      "text/html": [
       "\n",
       "  <div id=\"df-8e16ef24-b759-49b0-853f-a15742800080\" class=\"colab-df-container\">\n",
       "    <div>\n",
       "<style scoped>\n",
       "    .dataframe tbody tr th:only-of-type {\n",
       "        vertical-align: middle;\n",
       "    }\n",
       "\n",
       "    .dataframe tbody tr th {\n",
       "        vertical-align: top;\n",
       "    }\n",
       "\n",
       "    .dataframe thead th {\n",
       "        text-align: right;\n",
       "    }\n",
       "</style>\n",
       "<table border=\"1\" class=\"dataframe\">\n",
       "  <thead>\n",
       "    <tr style=\"text-align: right;\">\n",
       "      <th></th>\n",
       "      <th>precision</th>\n",
       "      <th>recall</th>\n",
       "      <th>f1_score</th>\n",
       "    </tr>\n",
       "  </thead>\n",
       "  <tbody>\n",
       "    <tr>\n",
       "      <th>UPPERCASE</th>\n",
       "      <td>0.940612</td>\n",
       "      <td>0.913920</td>\n",
       "      <td>0.927074</td>\n",
       "    </tr>\n",
       "    <tr>\n",
       "      <th>PERIOD</th>\n",
       "      <td>0.033963</td>\n",
       "      <td>0.070638</td>\n",
       "      <td>0.045871</td>\n",
       "    </tr>\n",
       "    <tr>\n",
       "      <th>COMMA</th>\n",
       "      <td>0.061767</td>\n",
       "      <td>0.365916</td>\n",
       "      <td>0.105693</td>\n",
       "    </tr>\n",
       "    <tr>\n",
       "      <th>COLON</th>\n",
       "      <td>0.002336</td>\n",
       "      <td>0.177944</td>\n",
       "      <td>0.004611</td>\n",
       "    </tr>\n",
       "    <tr>\n",
       "      <th>EXCLAMATION</th>\n",
       "      <td>0.009488</td>\n",
       "      <td>0.029150</td>\n",
       "      <td>0.014317</td>\n",
       "    </tr>\n",
       "    <tr>\n",
       "      <th>QUESTION</th>\n",
       "      <td>0.003312</td>\n",
       "      <td>0.227891</td>\n",
       "      <td>0.006530</td>\n",
       "    </tr>\n",
       "    <tr>\n",
       "      <th>mean</th>\n",
       "      <td>0.175246</td>\n",
       "      <td>0.297577</td>\n",
       "      <td>0.184016</td>\n",
       "    </tr>\n",
       "  </tbody>\n",
       "</table>\n",
       "</div>\n",
       "    <div class=\"colab-df-buttons\">\n",
       "\n",
       "  <div class=\"colab-df-container\">\n",
       "    <button class=\"colab-df-convert\" onclick=\"convertToInteractive('df-8e16ef24-b759-49b0-853f-a15742800080')\"\n",
       "            title=\"Convert this dataframe to an interactive table.\"\n",
       "            style=\"display:none;\">\n",
       "\n",
       "  <svg xmlns=\"http://www.w3.org/2000/svg\" height=\"24px\" viewBox=\"0 -960 960 960\">\n",
       "    <path d=\"M120-120v-720h720v720H120Zm60-500h600v-160H180v160Zm220 220h160v-160H400v160Zm0 220h160v-160H400v160ZM180-400h160v-160H180v160Zm440 0h160v-160H620v160ZM180-180h160v-160H180v160Zm440 0h160v-160H620v160Z\"/>\n",
       "  </svg>\n",
       "    </button>\n",
       "\n",
       "  <style>\n",
       "    .colab-df-container {\n",
       "      display:flex;\n",
       "      gap: 12px;\n",
       "    }\n",
       "\n",
       "    .colab-df-convert {\n",
       "      background-color: #E8F0FE;\n",
       "      border: none;\n",
       "      border-radius: 50%;\n",
       "      cursor: pointer;\n",
       "      display: none;\n",
       "      fill: #1967D2;\n",
       "      height: 32px;\n",
       "      padding: 0 0 0 0;\n",
       "      width: 32px;\n",
       "    }\n",
       "\n",
       "    .colab-df-convert:hover {\n",
       "      background-color: #E2EBFA;\n",
       "      box-shadow: 0px 1px 2px rgba(60, 64, 67, 0.3), 0px 1px 3px 1px rgba(60, 64, 67, 0.15);\n",
       "      fill: #174EA6;\n",
       "    }\n",
       "\n",
       "    .colab-df-buttons div {\n",
       "      margin-bottom: 4px;\n",
       "    }\n",
       "\n",
       "    [theme=dark] .colab-df-convert {\n",
       "      background-color: #3B4455;\n",
       "      fill: #D2E3FC;\n",
       "    }\n",
       "\n",
       "    [theme=dark] .colab-df-convert:hover {\n",
       "      background-color: #434B5C;\n",
       "      box-shadow: 0px 1px 3px 1px rgba(0, 0, 0, 0.15);\n",
       "      filter: drop-shadow(0px 1px 2px rgba(0, 0, 0, 0.3));\n",
       "      fill: #FFFFFF;\n",
       "    }\n",
       "  </style>\n",
       "\n",
       "    <script>\n",
       "      const buttonEl =\n",
       "        document.querySelector('#df-8e16ef24-b759-49b0-853f-a15742800080 button.colab-df-convert');\n",
       "      buttonEl.style.display =\n",
       "        google.colab.kernel.accessAllowed ? 'block' : 'none';\n",
       "\n",
       "      async function convertToInteractive(key) {\n",
       "        const element = document.querySelector('#df-8e16ef24-b759-49b0-853f-a15742800080');\n",
       "        const dataTable =\n",
       "          await google.colab.kernel.invokeFunction('convertToInteractive',\n",
       "                                                    [key], {});\n",
       "        if (!dataTable) return;\n",
       "\n",
       "        const docLinkHtml = 'Like what you see? Visit the ' +\n",
       "          '<a target=\"_blank\" href=https://colab.research.google.com/notebooks/data_table.ipynb>data table notebook</a>'\n",
       "          + ' to learn more about interactive tables.';\n",
       "        element.innerHTML = '';\n",
       "        dataTable['output_type'] = 'display_data';\n",
       "        await google.colab.output.renderOutput(dataTable, element);\n",
       "        const docLink = document.createElement('div');\n",
       "        docLink.innerHTML = docLinkHtml;\n",
       "        element.appendChild(docLink);\n",
       "      }\n",
       "    </script>\n",
       "  </div>\n",
       "\n",
       "\n",
       "<div id=\"df-0be4ba0b-d1a6-4ad4-b4de-06c55603f52a\">\n",
       "  <button class=\"colab-df-quickchart\" onclick=\"quickchart('df-0be4ba0b-d1a6-4ad4-b4de-06c55603f52a')\"\n",
       "            title=\"Suggest charts\"\n",
       "            style=\"display:none;\">\n",
       "\n",
       "<svg xmlns=\"http://www.w3.org/2000/svg\" height=\"24px\"viewBox=\"0 0 24 24\"\n",
       "     width=\"24px\">\n",
       "    <g>\n",
       "        <path d=\"M19 3H5c-1.1 0-2 .9-2 2v14c0 1.1.9 2 2 2h14c1.1 0 2-.9 2-2V5c0-1.1-.9-2-2-2zM9 17H7v-7h2v7zm4 0h-2V7h2v10zm4 0h-2v-4h2v4z\"/>\n",
       "    </g>\n",
       "</svg>\n",
       "  </button>\n",
       "\n",
       "<style>\n",
       "  .colab-df-quickchart {\n",
       "      --bg-color: #E8F0FE;\n",
       "      --fill-color: #1967D2;\n",
       "      --hover-bg-color: #E2EBFA;\n",
       "      --hover-fill-color: #174EA6;\n",
       "      --disabled-fill-color: #AAA;\n",
       "      --disabled-bg-color: #DDD;\n",
       "  }\n",
       "\n",
       "  [theme=dark] .colab-df-quickchart {\n",
       "      --bg-color: #3B4455;\n",
       "      --fill-color: #D2E3FC;\n",
       "      --hover-bg-color: #434B5C;\n",
       "      --hover-fill-color: #FFFFFF;\n",
       "      --disabled-bg-color: #3B4455;\n",
       "      --disabled-fill-color: #666;\n",
       "  }\n",
       "\n",
       "  .colab-df-quickchart {\n",
       "    background-color: var(--bg-color);\n",
       "    border: none;\n",
       "    border-radius: 50%;\n",
       "    cursor: pointer;\n",
       "    display: none;\n",
       "    fill: var(--fill-color);\n",
       "    height: 32px;\n",
       "    padding: 0;\n",
       "    width: 32px;\n",
       "  }\n",
       "\n",
       "  .colab-df-quickchart:hover {\n",
       "    background-color: var(--hover-bg-color);\n",
       "    box-shadow: 0 1px 2px rgba(60, 64, 67, 0.3), 0 1px 3px 1px rgba(60, 64, 67, 0.15);\n",
       "    fill: var(--button-hover-fill-color);\n",
       "  }\n",
       "\n",
       "  .colab-df-quickchart-complete:disabled,\n",
       "  .colab-df-quickchart-complete:disabled:hover {\n",
       "    background-color: var(--disabled-bg-color);\n",
       "    fill: var(--disabled-fill-color);\n",
       "    box-shadow: none;\n",
       "  }\n",
       "\n",
       "  .colab-df-spinner {\n",
       "    border: 2px solid var(--fill-color);\n",
       "    border-color: transparent;\n",
       "    border-bottom-color: var(--fill-color);\n",
       "    animation:\n",
       "      spin 1s steps(1) infinite;\n",
       "  }\n",
       "\n",
       "  @keyframes spin {\n",
       "    0% {\n",
       "      border-color: transparent;\n",
       "      border-bottom-color: var(--fill-color);\n",
       "      border-left-color: var(--fill-color);\n",
       "    }\n",
       "    20% {\n",
       "      border-color: transparent;\n",
       "      border-left-color: var(--fill-color);\n",
       "      border-top-color: var(--fill-color);\n",
       "    }\n",
       "    30% {\n",
       "      border-color: transparent;\n",
       "      border-left-color: var(--fill-color);\n",
       "      border-top-color: var(--fill-color);\n",
       "      border-right-color: var(--fill-color);\n",
       "    }\n",
       "    40% {\n",
       "      border-color: transparent;\n",
       "      border-right-color: var(--fill-color);\n",
       "      border-top-color: var(--fill-color);\n",
       "    }\n",
       "    60% {\n",
       "      border-color: transparent;\n",
       "      border-right-color: var(--fill-color);\n",
       "    }\n",
       "    80% {\n",
       "      border-color: transparent;\n",
       "      border-right-color: var(--fill-color);\n",
       "      border-bottom-color: var(--fill-color);\n",
       "    }\n",
       "    90% {\n",
       "      border-color: transparent;\n",
       "      border-bottom-color: var(--fill-color);\n",
       "    }\n",
       "  }\n",
       "</style>\n",
       "\n",
       "  <script>\n",
       "    async function quickchart(key) {\n",
       "      const quickchartButtonEl =\n",
       "        document.querySelector('#' + key + ' button');\n",
       "      quickchartButtonEl.disabled = true;  // To prevent multiple clicks.\n",
       "      quickchartButtonEl.classList.add('colab-df-spinner');\n",
       "      try {\n",
       "        const charts = await google.colab.kernel.invokeFunction(\n",
       "            'suggestCharts', [key], {});\n",
       "      } catch (error) {\n",
       "        console.error('Error during call to suggestCharts:', error);\n",
       "      }\n",
       "      quickchartButtonEl.classList.remove('colab-df-spinner');\n",
       "      quickchartButtonEl.classList.add('colab-df-quickchart-complete');\n",
       "    }\n",
       "    (() => {\n",
       "      let quickchartButtonEl =\n",
       "        document.querySelector('#df-0be4ba0b-d1a6-4ad4-b4de-06c55603f52a button');\n",
       "      quickchartButtonEl.style.display =\n",
       "        google.colab.kernel.accessAllowed ? 'block' : 'none';\n",
       "    })();\n",
       "  </script>\n",
       "</div>\n",
       "\n",
       "  <div id=\"id_f4447dfd-1ed0-47c8-a866-bed6c27206b2\">\n",
       "    <style>\n",
       "      .colab-df-generate {\n",
       "        background-color: #E8F0FE;\n",
       "        border: none;\n",
       "        border-radius: 50%;\n",
       "        cursor: pointer;\n",
       "        display: none;\n",
       "        fill: #1967D2;\n",
       "        height: 32px;\n",
       "        padding: 0 0 0 0;\n",
       "        width: 32px;\n",
       "      }\n",
       "\n",
       "      .colab-df-generate:hover {\n",
       "        background-color: #E2EBFA;\n",
       "        box-shadow: 0px 1px 2px rgba(60, 64, 67, 0.3), 0px 1px 3px 1px rgba(60, 64, 67, 0.15);\n",
       "        fill: #174EA6;\n",
       "      }\n",
       "\n",
       "      [theme=dark] .colab-df-generate {\n",
       "        background-color: #3B4455;\n",
       "        fill: #D2E3FC;\n",
       "      }\n",
       "\n",
       "      [theme=dark] .colab-df-generate:hover {\n",
       "        background-color: #434B5C;\n",
       "        box-shadow: 0px 1px 3px 1px rgba(0, 0, 0, 0.15);\n",
       "        filter: drop-shadow(0px 1px 2px rgba(0, 0, 0, 0.3));\n",
       "        fill: #FFFFFF;\n",
       "      }\n",
       "    </style>\n",
       "    <button class=\"colab-df-generate\" onclick=\"generateWithVariable('results')\"\n",
       "            title=\"Generate code using this dataframe.\"\n",
       "            style=\"display:none;\">\n",
       "\n",
       "  <svg xmlns=\"http://www.w3.org/2000/svg\" height=\"24px\"viewBox=\"0 0 24 24\"\n",
       "       width=\"24px\">\n",
       "    <path d=\"M7,19H8.4L18.45,9,17,7.55,7,17.6ZM5,21V16.75L18.45,3.32a2,2,0,0,1,2.83,0l1.4,1.43a1.91,1.91,0,0,1,.58,1.4,1.91,1.91,0,0,1-.58,1.4L9.25,21ZM18.45,9,17,7.55Zm-12,3A5.31,5.31,0,0,0,4.9,8.1,5.31,5.31,0,0,0,1,6.5,5.31,5.31,0,0,0,4.9,4.9,5.31,5.31,0,0,0,6.5,1,5.31,5.31,0,0,0,8.1,4.9,5.31,5.31,0,0,0,12,6.5,5.46,5.46,0,0,0,6.5,12Z\"/>\n",
       "  </svg>\n",
       "    </button>\n",
       "    <script>\n",
       "      (() => {\n",
       "      const buttonEl =\n",
       "        document.querySelector('#id_f4447dfd-1ed0-47c8-a866-bed6c27206b2 button.colab-df-generate');\n",
       "      buttonEl.style.display =\n",
       "        google.colab.kernel.accessAllowed ? 'block' : 'none';\n",
       "\n",
       "      buttonEl.onclick = () => {\n",
       "        google.colab.notebook.generateWithVariable('results');\n",
       "      }\n",
       "      })();\n",
       "    </script>\n",
       "  </div>\n",
       "\n",
       "    </div>\n",
       "  </div>\n"
      ],
      "text/plain": [
       "             precision    recall  f1_score\n",
       "UPPERCASE     0.940612  0.913920  0.927074\n",
       "PERIOD        0.033963  0.070638  0.045871\n",
       "COMMA         0.061767  0.365916  0.105693\n",
       "COLON         0.002336  0.177944  0.004611\n",
       "EXCLAMATION   0.009488  0.029150  0.014317\n",
       "QUESTION      0.003312  0.227891  0.006530\n",
       "mean          0.175246  0.297577  0.184016"
      ]
     },
     "execution_count": 40,
     "metadata": {},
     "output_type": "execute_result"
    }
   ],
   "source": [
    "results"
   ]
  },
  {
   "cell_type": "markdown",
   "metadata": {
    "id": "8XezZyt7Ol2A"
   },
   "source": [
    "# RoBERTa"
   ]
  },
  {
   "cell_type": "markdown",
   "metadata": {
    "jp-MarkdownHeadingCollapsed": true
   },
   "source": [
    "## Predict Capitalization and Punctuation"
   ]
  },
  {
   "cell_type": "code",
   "execution_count": null,
   "metadata": {},
   "outputs": [],
   "source": [
    "args.pretrained_model = 'roberta-base'\n",
    "args.model_save_name = 'roberta-base-tokens'\n",
    "args.save_training_dir = '/content/gdrive/MyDrive/nlp-punctuation/punctuation-project/roberta-base'\n",
    "args.load_model = 'None'\n",
    "\n",
    "solver = initialize_model_and_components(args)\n",
    "ds_test = DatasetTextProcessor(test_text, args.classes, model.tokenizer, mapping_tokens=True, return_overflowing_tokens=True)\n",
    "dl_test = DataLoader(ds_test, batch_size=args.batch_size_train, shuffle=False, collate_fn=custom_collate_fn, num_workers=args.num_workers)\n",
    "ds_train = DatasetTextProcessor(train_text, args.classes, model.tokenizer, mapping_tokens=True)\n",
    "dl_train = DataLoader(ds_train, batch_size=args.batch_size_train, shuffle=True, collate_fn=custom_collate_fn, num_workers=args.num_workers)"
   ]
  },
  {
   "cell_type": "markdown",
   "metadata": {
    "id": "CRk8wKE_eHyG",
    "jp-MarkdownHeadingCollapsed": true
   },
   "source": [
    "### training"
   ]
  },
  {
   "cell_type": "code",
   "execution_count": null,
   "metadata": {
    "colab": {
     "base_uri": "https://localhost:8080/"
    },
    "executionInfo": {
     "elapsed": 3999454,
     "status": "ok",
     "timestamp": 1704828887826,
     "user": {
      "displayName": "Louissko",
      "userId": "00337720139601541087"
     },
     "user_tz": -180
    },
    "id": "FFgUCTnfPptb",
    "outputId": "2edf84d7-4f83-435e-acd3-a1412b4f934d"
   },
   "outputs": [
    {
     "name": "stderr",
     "output_type": "stream",
     "text": [
      "\r",
      "  0%|          | 0/18750 [00:00<?, ?it/s]"
     ]
    },
    {
     "name": "stdout",
     "output_type": "stream",
     "text": [
      "Iteration 0: average loss: 2.6429\n",
      "             precision    recall  f1_score\n",
      "UPPERCASE     0.087582  0.977742  0.160763\n",
      "PERIOD        0.035844  0.331933  0.064701\n",
      "COMMA         0.000000  0.000000  0.000000\n",
      "COLON         0.000000  0.000000  0.000000\n",
      "EXCLAMATION   0.000000  0.000000  0.000000\n",
      "QUESTION      0.006276  0.441176  0.012376\n",
      "mean          0.021617  0.291809  0.039640\n"
     ]
    },
    {
     "name": "stderr",
     "output_type": "stream",
     "text": [
      "  5%|▌         | 1000/18750 [03:18<57:57,  5.10it/s]"
     ]
    },
    {
     "name": "stdout",
     "output_type": "stream",
     "text": [
      "Iteration 1000: average loss: 0.3546\n",
      "             precision    recall  f1_score\n",
      "UPPERCASE     0.770459  0.687580  0.726664\n",
      "PERIOD        0.641340  0.604659  0.622460\n",
      "COMMA         0.596519  0.469440  0.525405\n",
      "COLON         0.000000  0.000000  0.000000\n",
      "EXCLAMATION   0.000000  0.000000  0.000000\n",
      "QUESTION      0.057078  0.031525  0.040617\n",
      "mean          0.344233  0.298867  0.319191\n"
     ]
    },
    {
     "name": "stderr",
     "output_type": "stream",
     "text": [
      " 11%|█         | 2000/18750 [06:52<54:11,  5.15it/s]"
     ]
    },
    {
     "name": "stdout",
     "output_type": "stream",
     "text": [
      "Iteration 2000: average loss: 0.2074\n",
      "             precision    recall  f1_score\n",
      "UPPERCASE     0.888154  0.823185  0.854437\n",
      "PERIOD        0.772083  0.822619  0.796550\n",
      "COMMA         0.722941  0.670619  0.695798\n",
      "COLON         1.000000  0.000684  0.001367\n",
      "EXCLAMATION   0.468340  0.040294  0.074205\n",
      "QUESTION      0.663214  0.512357  0.578106\n",
      "mean          0.752455  0.478293  0.500077\n"
     ]
    },
    {
     "name": "stderr",
     "output_type": "stream",
     "text": [
      " 16%|█▌        | 3000/18750 [10:26<50:58,  5.15it/s]"
     ]
    },
    {
     "name": "stdout",
     "output_type": "stream",
     "text": [
      "Iteration 3000: average loss: 0.1856\n",
      "             precision    recall  f1_score\n",
      "UPPERCASE     0.899404  0.841117  0.869284\n",
      "PERIOD        0.801687  0.844782  0.822671\n",
      "COMMA         0.752298  0.704415  0.727569\n",
      "COLON         0.818182  0.035642  0.068308\n",
      "EXCLAMATION   0.493357  0.147750  0.227399\n",
      "QUESTION      0.714963  0.619163  0.663624\n",
      "mean          0.746648  0.532145  0.563142\n"
     ]
    },
    {
     "name": "stderr",
     "output_type": "stream",
     "text": [
      " 21%|██▏       | 4000/18750 [13:59<47:54,  5.13it/s]"
     ]
    },
    {
     "name": "stdout",
     "output_type": "stream",
     "text": [
      "Iteration 4000: average loss: 0.1730\n",
      "             precision    recall  f1_score\n",
      "UPPERCASE     0.905604  0.851513  0.877726\n",
      "PERIOD        0.817196  0.855834  0.836069\n",
      "COMMA         0.766090  0.722679  0.743752\n",
      "COLON         0.641959  0.094450  0.164672\n",
      "EXCLAMATION   0.514208  0.194370  0.282104\n",
      "QUESTION      0.732759  0.644334  0.685708\n",
      "mean          0.729636  0.560530  0.598338\n"
     ]
    },
    {
     "name": "stderr",
     "output_type": "stream",
     "text": [
      " 27%|██▋       | 5000/18750 [17:33<44:48,  5.11it/s]"
     ]
    },
    {
     "name": "stdout",
     "output_type": "stream",
     "text": [
      "Iteration 5000: average loss: 0.1657\n",
      "             precision    recall  f1_score\n",
      "UPPERCASE     0.910322  0.860461  0.884690\n",
      "PERIOD        0.826668  0.863123  0.844502\n",
      "COMMA         0.773635  0.731340  0.751893\n",
      "COLON         0.604814  0.135014  0.220749\n",
      "EXCLAMATION   0.523940  0.223554  0.313391\n",
      "QUESTION      0.752360  0.670904  0.709301\n",
      "mean          0.731956  0.580733  0.620754\n"
     ]
    },
    {
     "name": "stderr",
     "output_type": "stream",
     "text": [
      " 32%|███▏      | 6000/18750 [21:06<41:31,  5.12it/s]"
     ]
    },
    {
     "name": "stdout",
     "output_type": "stream",
     "text": [
      "Iteration 6000: average loss: 0.1588\n",
      "             precision    recall  f1_score\n",
      "UPPERCASE     0.913724  0.866789  0.889638\n",
      "PERIOD        0.833603  0.867358  0.850146\n",
      "COMMA         0.780194  0.739717  0.759417\n",
      "COLON         0.604766  0.143079  0.231410\n",
      "EXCLAMATION   0.534541  0.232573  0.324123\n",
      "QUESTION      0.759609  0.685449  0.720626\n",
      "mean          0.737740  0.589161  0.629227\n"
     ]
    },
    {
     "name": "stderr",
     "output_type": "stream",
     "text": [
      " 37%|███▋      | 7000/18750 [24:40<38:18,  5.11it/s]"
     ]
    },
    {
     "name": "stdout",
     "output_type": "stream",
     "text": [
      "Iteration 7000: average loss: 0.1551\n",
      "             precision    recall  f1_score\n",
      "UPPERCASE     0.915804  0.870806  0.892738\n",
      "PERIOD        0.838164  0.872376  0.854928\n",
      "COMMA         0.784411  0.745998  0.764722\n",
      "COLON         0.615164  0.149457  0.240487\n",
      "EXCLAMATION   0.556058  0.252850  0.347628\n",
      "QUESTION      0.768867  0.696725  0.731020\n",
      "mean          0.746411  0.598035  0.638587\n"
     ]
    },
    {
     "name": "stderr",
     "output_type": "stream",
     "text": [
      " 43%|████▎     | 8000/18750 [28:14<34:46,  5.15it/s]"
     ]
    },
    {
     "name": "stdout",
     "output_type": "stream",
     "text": [
      "Iteration 8000: average loss: 0.1515\n",
      "             precision    recall  f1_score\n",
      "UPPERCASE     0.917561  0.874397  0.895459\n",
      "PERIOD        0.843107  0.875109  0.858810\n",
      "COMMA         0.787820  0.750039  0.768466\n",
      "COLON         0.603496  0.151885  0.242691\n",
      "EXCLAMATION   0.550372  0.244655  0.338734\n",
      "QUESTION      0.774575  0.706613  0.739035\n",
      "mean          0.746155  0.600450  0.640532\n"
     ]
    },
    {
     "name": "stderr",
     "output_type": "stream",
     "text": [
      " 48%|████▊     | 9000/18750 [31:48<31:45,  5.12it/s]"
     ]
    },
    {
     "name": "stdout",
     "output_type": "stream",
     "text": [
      "Iteration 9000: average loss: 0.1491\n",
      "             precision    recall  f1_score\n",
      "UPPERCASE     0.919083  0.876901  0.897496\n",
      "PERIOD        0.844982  0.876374  0.860392\n",
      "COMMA         0.788923  0.750277  0.769115\n",
      "COLON         0.607393  0.156774  0.249222\n",
      "EXCLAMATION   0.569240  0.269828  0.366113\n",
      "QUESTION      0.777895  0.708958  0.741828\n",
      "mean          0.751253  0.606519  0.647361\n"
     ]
    },
    {
     "name": "stderr",
     "output_type": "stream",
     "text": [
      " 53%|█████▎    | 10000/18750 [35:21<28:25,  5.13it/s]"
     ]
    },
    {
     "name": "stdout",
     "output_type": "stream",
     "text": [
      "Iteration 10000: average loss: 0.1462\n",
      "             precision    recall  f1_score\n",
      "UPPERCASE     0.920574  0.880544  0.900114\n",
      "PERIOD        0.849451  0.879555  0.864241\n",
      "COMMA         0.792462  0.755475  0.773526\n",
      "COLON         0.626671  0.176499  0.275426\n",
      "EXCLAMATION   0.567573  0.271254  0.367075\n",
      "QUESTION      0.783131  0.716817  0.748508\n",
      "mean          0.756644  0.613357  0.654815\n"
     ]
    },
    {
     "name": "stderr",
     "output_type": "stream",
     "text": [
      " 59%|█████▊    | 11000/18750 [38:55<25:07,  5.14it/s]"
     ]
    },
    {
     "name": "stdout",
     "output_type": "stream",
     "text": [
      "Iteration 11000: average loss: 0.1460\n",
      "             precision    recall  f1_score\n",
      "UPPERCASE     0.920843  0.878475  0.899160\n",
      "PERIOD        0.852032  0.881774  0.866648\n",
      "COMMA         0.793671  0.757061  0.774934\n",
      "COLON         0.626860  0.171133  0.268865\n",
      "EXCLAMATION   0.577155  0.272625  0.370323\n",
      "QUESTION      0.785921  0.718960  0.750951\n",
      "mean          0.759414  0.613338  0.655147\n"
     ]
    },
    {
     "name": "stderr",
     "output_type": "stream",
     "text": [
      " 64%|██████▍   | 12000/18750 [42:29<21:57,  5.12it/s]"
     ]
    },
    {
     "name": "stdout",
     "output_type": "stream",
     "text": [
      "Iteration 12000: average loss: 0.1418\n",
      "             precision    recall  f1_score\n",
      "UPPERCASE     0.923270  0.883439  0.902915\n",
      "PERIOD        0.853754  0.884284  0.868751\n",
      "COMMA         0.797916  0.763609  0.780385\n",
      "COLON         0.635922  0.180779  0.281526\n",
      "EXCLAMATION   0.575785  0.277207  0.374240\n",
      "QUESTION      0.792905  0.731075  0.760736\n",
      "mean          0.763259  0.620065  0.661426\n"
     ]
    },
    {
     "name": "stderr",
     "output_type": "stream",
     "text": [
      " 69%|██████▉   | 13000/18750 [46:02<18:39,  5.14it/s]"
     ]
    },
    {
     "name": "stdout",
     "output_type": "stream",
     "text": [
      "Iteration 13000: average loss: 0.1420\n",
      "             precision    recall  f1_score\n",
      "UPPERCASE     0.923630  0.882623  0.902661\n",
      "PERIOD        0.854419  0.886506  0.870167\n",
      "COMMA         0.799242  0.762551  0.780465\n",
      "COLON         0.650150  0.185396  0.288518\n",
      "EXCLAMATION   0.577927  0.283672  0.380552\n",
      "QUESTION      0.798195  0.733189  0.764312\n",
      "mean          0.767260  0.622323  0.664446\n"
     ]
    },
    {
     "name": "stderr",
     "output_type": "stream",
     "text": [
      " 75%|███████▍  | 14000/18750 [49:36<15:31,  5.10it/s]"
     ]
    },
    {
     "name": "stdout",
     "output_type": "stream",
     "text": [
      "Iteration 14000: average loss: 0.1402\n",
      "             precision    recall  f1_score\n",
      "UPPERCASE     0.924334  0.885609  0.904557\n",
      "PERIOD        0.855787  0.886300  0.870776\n",
      "COMMA         0.800177  0.764618  0.781994\n",
      "COLON         0.652039  0.203616  0.310324\n",
      "EXCLAMATION   0.585959  0.286920  0.385215\n",
      "QUESTION      0.798970  0.733542  0.764859\n",
      "mean          0.769544  0.626767  0.669621\n"
     ]
    },
    {
     "name": "stderr",
     "output_type": "stream",
     "text": [
      " 80%|████████  | 15000/18750 [53:10<12:11,  5.13it/s]"
     ]
    },
    {
     "name": "stdout",
     "output_type": "stream",
     "text": [
      "Iteration 15000: average loss: 0.1384\n",
      "             precision    recall  f1_score\n",
      "UPPERCASE     0.925446  0.887007  0.905819\n",
      "PERIOD        0.858561  0.889062  0.873545\n",
      "COMMA         0.801071  0.766581  0.783447\n",
      "COLON         0.647716  0.189261  0.292929\n",
      "EXCLAMATION   0.588075  0.288417  0.387022\n",
      "QUESTION      0.796279  0.735942  0.764922\n",
      "mean          0.769525  0.626045  0.667948\n"
     ]
    },
    {
     "name": "stderr",
     "output_type": "stream",
     "text": [
      " 85%|████████▌ | 16000/18750 [56:44<08:54,  5.14it/s]"
     ]
    },
    {
     "name": "stdout",
     "output_type": "stream",
     "text": [
      "Iteration 16000: average loss: 0.1379\n",
      "             precision    recall  f1_score\n",
      "UPPERCASE     0.925682  0.887644  0.906264\n",
      "PERIOD        0.858180  0.890069  0.873834\n",
      "COMMA         0.803220  0.768828  0.785648\n",
      "COLON         0.656288  0.209777  0.317930\n",
      "EXCLAMATION   0.585314  0.287813  0.385880\n",
      "QUESTION      0.805852  0.741775  0.772487\n",
      "mean          0.772423  0.630984  0.673674\n"
     ]
    },
    {
     "name": "stderr",
     "output_type": "stream",
     "text": [
      " 91%|█████████ | 17000/18750 [1:00:18<05:41,  5.12it/s]"
     ]
    },
    {
     "name": "stdout",
     "output_type": "stream",
     "text": [
      "Iteration 17000: average loss: 0.1365\n",
      "             precision    recall  f1_score\n",
      "UPPERCASE     0.926599  0.889412  0.907625\n",
      "PERIOD        0.860886  0.890639  0.875510\n",
      "COMMA         0.804271  0.770594  0.787072\n",
      "COLON         0.669589  0.195955  0.303183\n",
      "EXCLAMATION   0.587644  0.289824  0.388193\n",
      "QUESTION      0.799917  0.741612  0.769662\n",
      "mean          0.774818  0.629673  0.671874\n"
     ]
    },
    {
     "name": "stderr",
     "output_type": "stream",
     "text": [
      " 96%|█████████▌| 18000/18750 [1:03:51<02:26,  5.13it/s]"
     ]
    },
    {
     "name": "stdout",
     "output_type": "stream",
     "text": [
      "Iteration 18000: average loss: 0.1352\n",
      "             precision    recall  f1_score\n",
      "UPPERCASE     0.927958  0.890904  0.909053\n",
      "PERIOD        0.862445  0.892855  0.877387\n",
      "COMMA         0.804981  0.771173  0.787714\n",
      "COLON         0.657285  0.194684  0.300393\n",
      "EXCLAMATION   0.585494  0.289412  0.387353\n",
      "QUESTION      0.806135  0.747260  0.775582\n",
      "mean          0.774050  0.631048  0.672914\n"
     ]
    },
    {
     "name": "stderr",
     "output_type": "stream",
     "text": [
      "100%|██████████| 18750/18750 [1:06:37<00:00,  4.69it/s]\n"
     ]
    }
   ],
   "source": [
    "solver.train(dl=dl_train, lr=6*10**-6)"
   ]
  },
  {
   "cell_type": "markdown",
   "metadata": {
    "id": "kwT2jfSAHVuv"
   },
   "source": [
    "### testing"
   ]
  },
  {
   "cell_type": "code",
   "execution_count": null,
   "metadata": {
    "colab": {
     "base_uri": "https://localhost:8080/"
    },
    "executionInfo": {
     "elapsed": 828741,
     "status": "ok",
     "timestamp": 1704870119379,
     "user": {
      "displayName": "Louissko",
      "userId": "00337720139601541087"
     },
     "user_tz": -180
    },
    "id": "P9q80w4YG4VL",
    "outputId": "6ca69f86-4215-49e4-b006-fa6bdaf3056c"
   },
   "outputs": [
    {
     "name": "stderr",
     "output_type": "stream",
     "text": [
      "make predictions: 100%|██████████| 1875/1875 [13:20<00:00,  2.34it/s]\n"
     ]
    }
   ],
   "source": [
    "results = solver.test(dl_test)"
   ]
  },
  {
   "cell_type": "code",
   "execution_count": null,
   "metadata": {
    "id": "H4mEJdGadKJ8"
   },
   "outputs": [],
   "source": [
    "results.to_csv(os.path.join(args.save_training_dir, 'results_test_epoch_1.csv'))"
   ]
  },
  {
   "cell_type": "code",
   "execution_count": null,
   "metadata": {
    "colab": {
     "base_uri": "https://localhost:8080/",
     "height": 269
    },
    "executionInfo": {
     "elapsed": 1497,
     "status": "ok",
     "timestamp": 1704870123104,
     "user": {
      "displayName": "Louissko",
      "userId": "00337720139601541087"
     },
     "user_tz": -180
    },
    "id": "UKybkIANKNDH",
    "outputId": "edf9d4ff-236b-4c08-df69-1d00175915b8"
   },
   "outputs": [
    {
     "data": {
      "text/html": [
       "\n",
       "  <div id=\"df-b5de4144-92b3-43b9-b88b-d1d6c00b51b9\" class=\"colab-df-container\">\n",
       "    <div>\n",
       "<style scoped>\n",
       "    .dataframe tbody tr th:only-of-type {\n",
       "        vertical-align: middle;\n",
       "    }\n",
       "\n",
       "    .dataframe tbody tr th {\n",
       "        vertical-align: top;\n",
       "    }\n",
       "\n",
       "    .dataframe thead th {\n",
       "        text-align: right;\n",
       "    }\n",
       "</style>\n",
       "<table border=\"1\" class=\"dataframe\">\n",
       "  <thead>\n",
       "    <tr style=\"text-align: right;\">\n",
       "      <th></th>\n",
       "      <th>precision</th>\n",
       "      <th>recall</th>\n",
       "      <th>f1_score</th>\n",
       "    </tr>\n",
       "  </thead>\n",
       "  <tbody>\n",
       "    <tr>\n",
       "      <th>UPPERCASE</th>\n",
       "      <td>0.928107</td>\n",
       "      <td>0.908976</td>\n",
       "      <td>0.918442</td>\n",
       "    </tr>\n",
       "    <tr>\n",
       "      <th>PERIOD</th>\n",
       "      <td>0.879614</td>\n",
       "      <td>0.904612</td>\n",
       "      <td>0.891938</td>\n",
       "    </tr>\n",
       "    <tr>\n",
       "      <th>COMMA</th>\n",
       "      <td>0.809708</td>\n",
       "      <td>0.803769</td>\n",
       "      <td>0.806728</td>\n",
       "    </tr>\n",
       "    <tr>\n",
       "      <th>COLON</th>\n",
       "      <td>0.589689</td>\n",
       "      <td>0.259697</td>\n",
       "      <td>0.360591</td>\n",
       "    </tr>\n",
       "    <tr>\n",
       "      <th>EXCLAMATION</th>\n",
       "      <td>0.584309</td>\n",
       "      <td>0.362914</td>\n",
       "      <td>0.447738</td>\n",
       "    </tr>\n",
       "    <tr>\n",
       "      <th>QUESTION</th>\n",
       "      <td>0.822896</td>\n",
       "      <td>0.782670</td>\n",
       "      <td>0.802279</td>\n",
       "    </tr>\n",
       "    <tr>\n",
       "      <th>mean</th>\n",
       "      <td>0.769054</td>\n",
       "      <td>0.670440</td>\n",
       "      <td>0.704619</td>\n",
       "    </tr>\n",
       "  </tbody>\n",
       "</table>\n",
       "</div>\n",
       "    <div class=\"colab-df-buttons\">\n",
       "\n",
       "  <div class=\"colab-df-container\">\n",
       "    <button class=\"colab-df-convert\" onclick=\"convertToInteractive('df-b5de4144-92b3-43b9-b88b-d1d6c00b51b9')\"\n",
       "            title=\"Convert this dataframe to an interactive table.\"\n",
       "            style=\"display:none;\">\n",
       "\n",
       "  <svg xmlns=\"http://www.w3.org/2000/svg\" height=\"24px\" viewBox=\"0 -960 960 960\">\n",
       "    <path d=\"M120-120v-720h720v720H120Zm60-500h600v-160H180v160Zm220 220h160v-160H400v160Zm0 220h160v-160H400v160ZM180-400h160v-160H180v160Zm440 0h160v-160H620v160ZM180-180h160v-160H180v160Zm440 0h160v-160H620v160Z\"/>\n",
       "  </svg>\n",
       "    </button>\n",
       "\n",
       "  <style>\n",
       "    .colab-df-container {\n",
       "      display:flex;\n",
       "      gap: 12px;\n",
       "    }\n",
       "\n",
       "    .colab-df-convert {\n",
       "      background-color: #E8F0FE;\n",
       "      border: none;\n",
       "      border-radius: 50%;\n",
       "      cursor: pointer;\n",
       "      display: none;\n",
       "      fill: #1967D2;\n",
       "      height: 32px;\n",
       "      padding: 0 0 0 0;\n",
       "      width: 32px;\n",
       "    }\n",
       "\n",
       "    .colab-df-convert:hover {\n",
       "      background-color: #E2EBFA;\n",
       "      box-shadow: 0px 1px 2px rgba(60, 64, 67, 0.3), 0px 1px 3px 1px rgba(60, 64, 67, 0.15);\n",
       "      fill: #174EA6;\n",
       "    }\n",
       "\n",
       "    .colab-df-buttons div {\n",
       "      margin-bottom: 4px;\n",
       "    }\n",
       "\n",
       "    [theme=dark] .colab-df-convert {\n",
       "      background-color: #3B4455;\n",
       "      fill: #D2E3FC;\n",
       "    }\n",
       "\n",
       "    [theme=dark] .colab-df-convert:hover {\n",
       "      background-color: #434B5C;\n",
       "      box-shadow: 0px 1px 3px 1px rgba(0, 0, 0, 0.15);\n",
       "      filter: drop-shadow(0px 1px 2px rgba(0, 0, 0, 0.3));\n",
       "      fill: #FFFFFF;\n",
       "    }\n",
       "  </style>\n",
       "\n",
       "    <script>\n",
       "      const buttonEl =\n",
       "        document.querySelector('#df-b5de4144-92b3-43b9-b88b-d1d6c00b51b9 button.colab-df-convert');\n",
       "      buttonEl.style.display =\n",
       "        google.colab.kernel.accessAllowed ? 'block' : 'none';\n",
       "\n",
       "      async function convertToInteractive(key) {\n",
       "        const element = document.querySelector('#df-b5de4144-92b3-43b9-b88b-d1d6c00b51b9');\n",
       "        const dataTable =\n",
       "          await google.colab.kernel.invokeFunction('convertToInteractive',\n",
       "                                                    [key], {});\n",
       "        if (!dataTable) return;\n",
       "\n",
       "        const docLinkHtml = 'Like what you see? Visit the ' +\n",
       "          '<a target=\"_blank\" href=https://colab.research.google.com/notebooks/data_table.ipynb>data table notebook</a>'\n",
       "          + ' to learn more about interactive tables.';\n",
       "        element.innerHTML = '';\n",
       "        dataTable['output_type'] = 'display_data';\n",
       "        await google.colab.output.renderOutput(dataTable, element);\n",
       "        const docLink = document.createElement('div');\n",
       "        docLink.innerHTML = docLinkHtml;\n",
       "        element.appendChild(docLink);\n",
       "      }\n",
       "    </script>\n",
       "  </div>\n",
       "\n",
       "\n",
       "<div id=\"df-77e543bf-c574-4eaf-8fdb-403ec1f76b4b\">\n",
       "  <button class=\"colab-df-quickchart\" onclick=\"quickchart('df-77e543bf-c574-4eaf-8fdb-403ec1f76b4b')\"\n",
       "            title=\"Suggest charts\"\n",
       "            style=\"display:none;\">\n",
       "\n",
       "<svg xmlns=\"http://www.w3.org/2000/svg\" height=\"24px\"viewBox=\"0 0 24 24\"\n",
       "     width=\"24px\">\n",
       "    <g>\n",
       "        <path d=\"M19 3H5c-1.1 0-2 .9-2 2v14c0 1.1.9 2 2 2h14c1.1 0 2-.9 2-2V5c0-1.1-.9-2-2-2zM9 17H7v-7h2v7zm4 0h-2V7h2v10zm4 0h-2v-4h2v4z\"/>\n",
       "    </g>\n",
       "</svg>\n",
       "  </button>\n",
       "\n",
       "<style>\n",
       "  .colab-df-quickchart {\n",
       "      --bg-color: #E8F0FE;\n",
       "      --fill-color: #1967D2;\n",
       "      --hover-bg-color: #E2EBFA;\n",
       "      --hover-fill-color: #174EA6;\n",
       "      --disabled-fill-color: #AAA;\n",
       "      --disabled-bg-color: #DDD;\n",
       "  }\n",
       "\n",
       "  [theme=dark] .colab-df-quickchart {\n",
       "      --bg-color: #3B4455;\n",
       "      --fill-color: #D2E3FC;\n",
       "      --hover-bg-color: #434B5C;\n",
       "      --hover-fill-color: #FFFFFF;\n",
       "      --disabled-bg-color: #3B4455;\n",
       "      --disabled-fill-color: #666;\n",
       "  }\n",
       "\n",
       "  .colab-df-quickchart {\n",
       "    background-color: var(--bg-color);\n",
       "    border: none;\n",
       "    border-radius: 50%;\n",
       "    cursor: pointer;\n",
       "    display: none;\n",
       "    fill: var(--fill-color);\n",
       "    height: 32px;\n",
       "    padding: 0;\n",
       "    width: 32px;\n",
       "  }\n",
       "\n",
       "  .colab-df-quickchart:hover {\n",
       "    background-color: var(--hover-bg-color);\n",
       "    box-shadow: 0 1px 2px rgba(60, 64, 67, 0.3), 0 1px 3px 1px rgba(60, 64, 67, 0.15);\n",
       "    fill: var(--button-hover-fill-color);\n",
       "  }\n",
       "\n",
       "  .colab-df-quickchart-complete:disabled,\n",
       "  .colab-df-quickchart-complete:disabled:hover {\n",
       "    background-color: var(--disabled-bg-color);\n",
       "    fill: var(--disabled-fill-color);\n",
       "    box-shadow: none;\n",
       "  }\n",
       "\n",
       "  .colab-df-spinner {\n",
       "    border: 2px solid var(--fill-color);\n",
       "    border-color: transparent;\n",
       "    border-bottom-color: var(--fill-color);\n",
       "    animation:\n",
       "      spin 1s steps(1) infinite;\n",
       "  }\n",
       "\n",
       "  @keyframes spin {\n",
       "    0% {\n",
       "      border-color: transparent;\n",
       "      border-bottom-color: var(--fill-color);\n",
       "      border-left-color: var(--fill-color);\n",
       "    }\n",
       "    20% {\n",
       "      border-color: transparent;\n",
       "      border-left-color: var(--fill-color);\n",
       "      border-top-color: var(--fill-color);\n",
       "    }\n",
       "    30% {\n",
       "      border-color: transparent;\n",
       "      border-left-color: var(--fill-color);\n",
       "      border-top-color: var(--fill-color);\n",
       "      border-right-color: var(--fill-color);\n",
       "    }\n",
       "    40% {\n",
       "      border-color: transparent;\n",
       "      border-right-color: var(--fill-color);\n",
       "      border-top-color: var(--fill-color);\n",
       "    }\n",
       "    60% {\n",
       "      border-color: transparent;\n",
       "      border-right-color: var(--fill-color);\n",
       "    }\n",
       "    80% {\n",
       "      border-color: transparent;\n",
       "      border-right-color: var(--fill-color);\n",
       "      border-bottom-color: var(--fill-color);\n",
       "    }\n",
       "    90% {\n",
       "      border-color: transparent;\n",
       "      border-bottom-color: var(--fill-color);\n",
       "    }\n",
       "  }\n",
       "</style>\n",
       "\n",
       "  <script>\n",
       "    async function quickchart(key) {\n",
       "      const quickchartButtonEl =\n",
       "        document.querySelector('#' + key + ' button');\n",
       "      quickchartButtonEl.disabled = true;  // To prevent multiple clicks.\n",
       "      quickchartButtonEl.classList.add('colab-df-spinner');\n",
       "      try {\n",
       "        const charts = await google.colab.kernel.invokeFunction(\n",
       "            'suggestCharts', [key], {});\n",
       "      } catch (error) {\n",
       "        console.error('Error during call to suggestCharts:', error);\n",
       "      }\n",
       "      quickchartButtonEl.classList.remove('colab-df-spinner');\n",
       "      quickchartButtonEl.classList.add('colab-df-quickchart-complete');\n",
       "    }\n",
       "    (() => {\n",
       "      let quickchartButtonEl =\n",
       "        document.querySelector('#df-77e543bf-c574-4eaf-8fdb-403ec1f76b4b button');\n",
       "      quickchartButtonEl.style.display =\n",
       "        google.colab.kernel.accessAllowed ? 'block' : 'none';\n",
       "    })();\n",
       "  </script>\n",
       "</div>\n",
       "\n",
       "  <div id=\"id_e420d751-422d-4cf8-b70d-b29fbeff7637\">\n",
       "    <style>\n",
       "      .colab-df-generate {\n",
       "        background-color: #E8F0FE;\n",
       "        border: none;\n",
       "        border-radius: 50%;\n",
       "        cursor: pointer;\n",
       "        display: none;\n",
       "        fill: #1967D2;\n",
       "        height: 32px;\n",
       "        padding: 0 0 0 0;\n",
       "        width: 32px;\n",
       "      }\n",
       "\n",
       "      .colab-df-generate:hover {\n",
       "        background-color: #E2EBFA;\n",
       "        box-shadow: 0px 1px 2px rgba(60, 64, 67, 0.3), 0px 1px 3px 1px rgba(60, 64, 67, 0.15);\n",
       "        fill: #174EA6;\n",
       "      }\n",
       "\n",
       "      [theme=dark] .colab-df-generate {\n",
       "        background-color: #3B4455;\n",
       "        fill: #D2E3FC;\n",
       "      }\n",
       "\n",
       "      [theme=dark] .colab-df-generate:hover {\n",
       "        background-color: #434B5C;\n",
       "        box-shadow: 0px 1px 3px 1px rgba(0, 0, 0, 0.15);\n",
       "        filter: drop-shadow(0px 1px 2px rgba(0, 0, 0, 0.3));\n",
       "        fill: #FFFFFF;\n",
       "      }\n",
       "    </style>\n",
       "    <button class=\"colab-df-generate\" onclick=\"generateWithVariable('results')\"\n",
       "            title=\"Generate code using this dataframe.\"\n",
       "            style=\"display:none;\">\n",
       "\n",
       "  <svg xmlns=\"http://www.w3.org/2000/svg\" height=\"24px\"viewBox=\"0 0 24 24\"\n",
       "       width=\"24px\">\n",
       "    <path d=\"M7,19H8.4L18.45,9,17,7.55,7,17.6ZM5,21V16.75L18.45,3.32a2,2,0,0,1,2.83,0l1.4,1.43a1.91,1.91,0,0,1,.58,1.4,1.91,1.91,0,0,1-.58,1.4L9.25,21ZM18.45,9,17,7.55Zm-12,3A5.31,5.31,0,0,0,4.9,8.1,5.31,5.31,0,0,0,1,6.5,5.31,5.31,0,0,0,4.9,4.9,5.31,5.31,0,0,0,6.5,1,5.31,5.31,0,0,0,8.1,4.9,5.31,5.31,0,0,0,12,6.5,5.46,5.46,0,0,0,6.5,12Z\"/>\n",
       "  </svg>\n",
       "    </button>\n",
       "    <script>\n",
       "      (() => {\n",
       "      const buttonEl =\n",
       "        document.querySelector('#id_e420d751-422d-4cf8-b70d-b29fbeff7637 button.colab-df-generate');\n",
       "      buttonEl.style.display =\n",
       "        google.colab.kernel.accessAllowed ? 'block' : 'none';\n",
       "\n",
       "      buttonEl.onclick = () => {\n",
       "        google.colab.notebook.generateWithVariable('results');\n",
       "      }\n",
       "      })();\n",
       "    </script>\n",
       "  </div>\n",
       "\n",
       "    </div>\n",
       "  </div>\n"
      ],
      "text/plain": [
       "             precision    recall  f1_score\n",
       "UPPERCASE     0.928107  0.908976  0.918442\n",
       "PERIOD        0.879614  0.904612  0.891938\n",
       "COMMA         0.809708  0.803769  0.806728\n",
       "COLON         0.589689  0.259697  0.360591\n",
       "EXCLAMATION   0.584309  0.362914  0.447738\n",
       "QUESTION      0.822896  0.782670  0.802279\n",
       "mean          0.769054  0.670440  0.704619"
      ]
     },
     "execution_count": 14,
     "metadata": {},
     "output_type": "execute_result"
    }
   ],
   "source": [
    "results"
   ]
  },
  {
   "cell_type": "markdown",
   "metadata": {
    "id": "H2fEcPOnmTZo",
    "jp-MarkdownHeadingCollapsed": true
   },
   "source": [
    "# DeBERTa v3 Results on the BehancePR Dataset"
   ]
  },
  {
   "cell_type": "markdown",
   "metadata": {
    "jp-MarkdownHeadingCollapsed": true
   },
   "source": [
    "## Trained DeBERTa v3 on Testset"
   ]
  },
  {
   "cell_type": "code",
   "execution_count": null,
   "metadata": {},
   "outputs": [],
   "source": [
    "!git clone https://github.com/nlp-uoregon/behancepr.git"
   ]
  },
  {
   "cell_type": "code",
   "execution_count": 5,
   "metadata": {
    "executionInfo": {
     "elapsed": 1,
     "status": "ok",
     "timestamp": 1704958182247,
     "user": {
      "displayName": "Louissko",
      "userId": "00337720139601541087"
     },
     "user_tz": -180
    },
    "id": "9sBRz2Q2mYeB"
   },
   "outputs": [],
   "source": [
    "mapping = {0: 'O', 1: 'PERIOD', 2: 'COMMA', 3: 'COLON', 4:'EXCLAMATION', 5: 'QUESTION'}\n",
    "mapping_reverse = {item: key for key, item in mapping.items()}"
   ]
  },
  {
   "cell_type": "code",
   "execution_count": 23,
   "metadata": {
    "executionInfo": {
     "elapsed": 540,
     "status": "ok",
     "timestamp": 1704959552452,
     "user": {
      "displayName": "Louissko",
      "userId": "00337720139601541087"
     },
     "user_tz": -180
    },
    "id": "AUUL2dl0zukU"
   },
   "outputs": [],
   "source": [
    "directory = '/content/behancepr/data/test'\n",
    "dataset = DatasetTextProcessor(directory, args.classes, solver.model.tokenizer, mapping_reverse, is_directory=True, return_overflowing_tokens=True)\n",
    "dl_test = DataLoader(dataset, batch_size=args.batch_size_train, shuffle=False, collate_fn=custom_collate_fn, num_workers=args.num_workers)"
   ]
  },
  {
   "cell_type": "code",
   "execution_count": 37,
   "metadata": {
    "colab": {
     "base_uri": "https://localhost:8080/"
    },
    "executionInfo": {
     "elapsed": 9518,
     "status": "ok",
     "timestamp": 1704959926606,
     "user": {
      "displayName": "Louissko",
      "userId": "00337720139601541087"
     },
     "user_tz": -180
    },
    "id": "jmirsTux0fPz",
    "outputId": "cd05c9fe-b5f4-441b-8392-29e8845b0fa1"
   },
   "outputs": [
    {
     "name": "stderr",
     "output_type": "stream",
     "text": [
      "/usr/local/lib/python3.10/dist-packages/transformers/convert_slow_tokenizer.py:473: UserWarning: The sentencepiece tokenizer that you are converting to a fast tokenizer uses the byte fallback option which is not implemented in the fast tokenizers. In practice this means that the fast version of the tokenizer can produce unknown tokens whereas the sentencepiece version would have converted these unknown tokens into a sequence of byte tokens matching the original piece of text.\n",
      "  warnings.warn(\n",
      "make predictions: 100%|██████████| 5/5 [00:04<00:00,  1.07it/s]\n"
     ]
    }
   ],
   "source": [
    "args.pretrained_model = 'microsoft/deberta-v3-base'\n",
    "args.load_model = '/content/gdrive/MyDrive/nlp-punctuation/punctuation-project/deberta-v3-base/model_deberta-v3-tokens_2_last.pth'\n",
    "solver = initialize_model_and_components(args)\n",
    "results = solver.test(dl_test)"
   ]
  },
  {
   "cell_type": "code",
   "execution_count": 39,
   "metadata": {
    "executionInfo": {
     "elapsed": 551,
     "status": "ok",
     "timestamp": 1704959940488,
     "user": {
      "displayName": "Louissko",
      "userId": "00337720139601541087"
     },
     "user_tz": -180
    },
    "id": "1nRYlYEPh6DE"
   },
   "outputs": [],
   "source": [
    "results.to_csv(os.path.join(args.save_training_dir, 'results_asr_deberta-v3-tokens_2_last.csv'))"
   ]
  },
  {
   "cell_type": "markdown",
   "metadata": {
    "id": "kUz1yLPNSOUM",
    "jp-MarkdownHeadingCollapsed": true
   },
   "source": [
    "## Further finetune the model on BehancePR Trainset"
   ]
  },
  {
   "cell_type": "markdown",
   "metadata": {},
   "source": [
    "now we further finetune the model on the available train set"
   ]
  },
  {
   "cell_type": "code",
   "execution_count": 28,
   "metadata": {
    "executionInfo": {
     "elapsed": 586,
     "status": "ok",
     "timestamp": 1704959753800,
     "user": {
      "displayName": "Louissko",
      "userId": "00337720139601541087"
     },
     "user_tz": -180
    },
    "id": "EHmLbPR9S30i"
   },
   "outputs": [],
   "source": [
    "args.model_save_name = 'deberta-v3-tokens_2_asr'\n",
    "args.save_training_dir = '/content/gdrive/MyDrive/nlp-punctuation/punctuation-project/deberta-v3-base'\n",
    "args.pretrained_model = 'microsoft/deberta-v3-base'\n",
    "args.load_model = '/content/gdrive/MyDrive/nlp-punctuation/punctuation-project/deberta-v3-base/model_deberta-v3-tokens_2_last.pth'\n",
    "args.epochs = 20"
   ]
  },
  {
   "cell_type": "code",
   "execution_count": 29,
   "metadata": {
    "colab": {
     "base_uri": "https://localhost:8080/"
    },
    "executionInfo": {
     "elapsed": 4916,
     "status": "ok",
     "timestamp": 1704959761000,
     "user": {
      "displayName": "Louissko",
      "userId": "00337720139601541087"
     },
     "user_tz": -180
    },
    "id": "j08rNxUITGql",
    "outputId": "b08281b9-ffbc-4061-ecd2-6368d0711f72"
   },
   "outputs": [
    {
     "name": "stderr",
     "output_type": "stream",
     "text": [
      "/usr/local/lib/python3.10/dist-packages/transformers/convert_slow_tokenizer.py:473: UserWarning: The sentencepiece tokenizer that you are converting to a fast tokenizer uses the byte fallback option which is not implemented in the fast tokenizers. In practice this means that the fast version of the tokenizer can produce unknown tokens whereas the sentencepiece version would have converted these unknown tokens into a sequence of byte tokens matching the original piece of text.\n",
      "  warnings.warn(\n"
     ]
    }
   ],
   "source": [
    "solver = initialize_model_and_components(args)"
   ]
  },
  {
   "cell_type": "code",
   "execution_count": 8,
   "metadata": {
    "executionInfo": {
     "elapsed": 2,
     "status": "ok",
     "timestamp": 1704958198654,
     "user": {
      "displayName": "Louissko",
      "userId": "00337720139601541087"
     },
     "user_tz": -180
    },
    "id": "43ljM6UfTqgE"
   },
   "outputs": [],
   "source": [
    "directory = '/content/behancepr/data/train'\n",
    "ds_train = DatasetTextProcessor(directory, args.classes, solver.model.tokenizer, mapping_reverse, is_directory=True, return_overflowing_tokens=False)\n",
    "dl_train = DataLoader(ds_train, batch_size=args.batch_size_train, shuffle=True, collate_fn=custom_collate_fn, num_workers=args.num_workers)\n",
    "directory = '/content/behancepr/data/dev'\n",
    "ds_valid = DatasetTextProcessor(directory, args.classes, solver.model.tokenizer, mapping_reverse, is_directory=True, return_overflowing_tokens=False)\n",
    "dl_valid = DataLoader(ds_valid, batch_size=args.batch_size_train, shuffle=False, collate_fn=custom_collate_fn, num_workers=args.num_workers)"
   ]
  },
  {
   "cell_type": "code",
   "execution_count": 10,
   "metadata": {
    "colab": {
     "base_uri": "https://localhost:8080/"
    },
    "executionInfo": {
     "elapsed": 674210,
     "status": "ok",
     "timestamp": 1704958874689,
     "user": {
      "displayName": "Louissko",
      "userId": "00337720139601541087"
     },
     "user_tz": -180
    },
    "id": "4J7lYcreStKE",
    "outputId": "11a874e1-2701-4906-e448-67548208b8c8"
   },
   "outputs": [
    {
     "name": "stderr",
     "output_type": "stream",
     "text": [
      "  1%|          | 1/136 [00:01<03:55,  1.75s/it]"
     ]
    },
    {
     "name": "stdout",
     "output_type": "stream",
     "text": [
      "Iteration 0: average loss: 0.3898\n",
      "             precision    recall  f1_score\n",
      "UPPERCASE     0.000000  0.000000  0.000000\n",
      "PERIOD        0.659574  0.500000  0.568807\n",
      "COMMA         0.567100  0.178474  0.271503\n",
      "COLON         0.000000  0.000000  0.000000\n",
      "EXCLAMATION   0.750000  0.090909  0.162162\n",
      "QUESTION      0.607143  0.283333  0.386364\n",
      "mean          0.430636  0.175453  0.231473\n"
     ]
    },
    {
     "name": "stderr",
     "output_type": "stream",
     "text": [
      "100%|██████████| 136/136 [00:47<00:00,  2.87it/s]\n",
      "make predictions: 100%|██████████| 4/4 [00:02<00:00,  1.51it/s]\n"
     ]
    },
    {
     "name": "stdout",
     "output_type": "stream",
     "text": [
      "f1 score test: 0.3577574776304693. Best f1 score: -inf\n",
      "new best model saved\n"
     ]
    },
    {
     "name": "stderr",
     "output_type": "stream",
     "text": [
      "\r",
      "  0%|          | 0/136 [00:00<?, ?it/s]"
     ]
    },
    {
     "name": "stdout",
     "output_type": "stream",
     "text": [
      "Iteration 0: average loss: 0.2845\n"
     ]
    },
    {
     "name": "stderr",
     "output_type": "stream",
     "text": [
      "\r",
      "  1%|          | 1/136 [00:02<06:23,  2.84s/it]"
     ]
    },
    {
     "name": "stdout",
     "output_type": "stream",
     "text": [
      "             precision    recall  f1_score\n",
      "UPPERCASE     0.000000  0.000000  0.000000\n",
      "PERIOD        0.642400  0.684192  0.662637\n",
      "COMMA         0.566151  0.474649  0.516378\n",
      "COLON         0.000000  0.000000  0.000000\n",
      "EXCLAMATION   0.481621  0.087545  0.148159\n",
      "QUESTION      0.600416  0.438765  0.507018\n",
      "mean          0.381765  0.280859  0.305699\n"
     ]
    },
    {
     "name": "stderr",
     "output_type": "stream",
     "text": [
      "100%|██████████| 136/136 [00:40<00:00,  3.35it/s]\n",
      "make predictions: 100%|██████████| 4/4 [00:02<00:00,  1.52it/s]\n"
     ]
    },
    {
     "name": "stdout",
     "output_type": "stream",
     "text": [
      "f1 score test: 0.36971748808741167. Best f1 score: 0.3577574776304693\n",
      "new best model saved\n"
     ]
    },
    {
     "name": "stderr",
     "output_type": "stream",
     "text": [
      "\r",
      "  0%|          | 0/136 [00:00<?, ?it/s]"
     ]
    },
    {
     "name": "stdout",
     "output_type": "stream",
     "text": [
      "Iteration 0: average loss: 0.2709\n"
     ]
    },
    {
     "name": "stderr",
     "output_type": "stream",
     "text": [
      "\r",
      "  1%|          | 1/136 [00:02<06:35,  2.93s/it]"
     ]
    },
    {
     "name": "stdout",
     "output_type": "stream",
     "text": [
      "             precision    recall  f1_score\n",
      "UPPERCASE     0.000000  0.000000  0.000000\n",
      "PERIOD        0.659676  0.724640  0.690634\n",
      "COMMA         0.623482  0.507249  0.559392\n",
      "COLON         0.000000  0.000000  0.000000\n",
      "EXCLAMATION   0.523343  0.155240  0.239451\n",
      "QUESTION      0.603331  0.495023  0.543837\n",
      "mean          0.401639  0.313692  0.338886\n"
     ]
    },
    {
     "name": "stderr",
     "output_type": "stream",
     "text": [
      "100%|██████████| 136/136 [00:40<00:00,  3.34it/s]\n",
      "make predictions: 100%|██████████| 4/4 [00:02<00:00,  1.53it/s]\n"
     ]
    },
    {
     "name": "stdout",
     "output_type": "stream",
     "text": [
      "f1 score test: 0.35993926975050766. Best f1 score: 0.36971748808741167\n"
     ]
    },
    {
     "name": "stderr",
     "output_type": "stream",
     "text": [
      "\r",
      "  0%|          | 0/136 [00:00<?, ?it/s]"
     ]
    },
    {
     "name": "stdout",
     "output_type": "stream",
     "text": [
      "Iteration 0: average loss: 0.2642\n"
     ]
    },
    {
     "name": "stderr",
     "output_type": "stream",
     "text": [
      "\r",
      "  1%|          | 1/136 [00:02<06:27,  2.87s/it]"
     ]
    },
    {
     "name": "stdout",
     "output_type": "stream",
     "text": [
      "             precision    recall  f1_score\n",
      "UPPERCASE     0.000000  0.000000  0.000000\n",
      "PERIOD        0.669138  0.729215  0.697886\n",
      "COMMA         0.631962  0.516191  0.568240\n",
      "COLON         0.000000  0.000000  0.000000\n",
      "EXCLAMATION   0.517523  0.186183  0.273847\n",
      "QUESTION      0.625833  0.504365  0.558572\n",
      "mean          0.407409  0.322659  0.349758\n"
     ]
    },
    {
     "name": "stderr",
     "output_type": "stream",
     "text": [
      "100%|██████████| 136/136 [00:40<00:00,  3.36it/s]\n",
      "make predictions: 100%|██████████| 4/4 [00:02<00:00,  1.64it/s]\n"
     ]
    },
    {
     "name": "stdout",
     "output_type": "stream",
     "text": [
      "f1 score test: 0.3618217381003725. Best f1 score: 0.36971748808741167\n"
     ]
    },
    {
     "name": "stderr",
     "output_type": "stream",
     "text": [
      "\r",
      "  0%|          | 0/136 [00:00<?, ?it/s]"
     ]
    },
    {
     "name": "stdout",
     "output_type": "stream",
     "text": [
      "Iteration 0: average loss: 0.2599\n"
     ]
    },
    {
     "name": "stderr",
     "output_type": "stream",
     "text": [
      "\r",
      "  1%|          | 1/136 [00:02<06:34,  2.92s/it]"
     ]
    },
    {
     "name": "stdout",
     "output_type": "stream",
     "text": [
      "             precision    recall  f1_score\n",
      "UPPERCASE     0.000000  0.000000  0.000000\n",
      "PERIOD        0.673924  0.733944  0.702655\n",
      "COMMA         0.638709  0.522609  0.574855\n",
      "COLON         0.000000  0.000000  0.000000\n",
      "EXCLAMATION   0.533767  0.183207  0.272785\n",
      "QUESTION      0.630986  0.518325  0.569134\n",
      "mean          0.412898  0.326348  0.353238\n"
     ]
    },
    {
     "name": "stderr",
     "output_type": "stream",
     "text": [
      "100%|██████████| 136/136 [00:40<00:00,  3.34it/s]\n",
      "make predictions: 100%|██████████| 4/4 [00:02<00:00,  1.52it/s]\n"
     ]
    },
    {
     "name": "stdout",
     "output_type": "stream",
     "text": [
      "f1 score test: 0.38252289339666906. Best f1 score: 0.36971748808741167\n",
      "new best model saved\n"
     ]
    },
    {
     "name": "stderr",
     "output_type": "stream",
     "text": [
      "\r",
      "  0%|          | 0/136 [00:00<?, ?it/s]"
     ]
    },
    {
     "name": "stdout",
     "output_type": "stream",
     "text": [
      "Iteration 0: average loss: 0.2565\n"
     ]
    },
    {
     "name": "stderr",
     "output_type": "stream",
     "text": [
      "\r",
      "  1%|          | 1/136 [00:03<06:45,  3.01s/it]"
     ]
    },
    {
     "name": "stdout",
     "output_type": "stream",
     "text": [
      "             precision    recall  f1_score\n",
      "UPPERCASE     0.000000  0.000000  0.000000\n",
      "PERIOD        0.677694  0.739920  0.707441\n",
      "COMMA         0.643511  0.529896  0.581203\n",
      "COLON         0.000000  0.000000  0.000000\n",
      "EXCLAMATION   0.543892  0.200582  0.293080\n",
      "QUESTION      0.640974  0.537916  0.584940\n",
      "mean          0.417679  0.334719  0.361111\n"
     ]
    },
    {
     "name": "stderr",
     "output_type": "stream",
     "text": [
      "100%|██████████| 136/136 [00:40<00:00,  3.33it/s]\n",
      "make predictions: 100%|██████████| 4/4 [00:02<00:00,  1.46it/s]\n"
     ]
    },
    {
     "name": "stdout",
     "output_type": "stream",
     "text": [
      "f1 score test: 0.3845845704296505. Best f1 score: 0.38252289339666906\n",
      "new best model saved\n"
     ]
    },
    {
     "name": "stderr",
     "output_type": "stream",
     "text": [
      "\r",
      "  0%|          | 0/136 [00:00<?, ?it/s]"
     ]
    },
    {
     "name": "stdout",
     "output_type": "stream",
     "text": [
      "Iteration 0: average loss: 0.2538\n"
     ]
    },
    {
     "name": "stderr",
     "output_type": "stream",
     "text": [
      "\r",
      "  1%|          | 1/136 [00:02<06:37,  2.94s/it]"
     ]
    },
    {
     "name": "stdout",
     "output_type": "stream",
     "text": [
      "             precision    recall  f1_score\n",
      "UPPERCASE     0.000000  0.000000  0.000000\n",
      "PERIOD        0.684136  0.740385  0.711150\n",
      "COMMA         0.646872  0.532059  0.583875\n",
      "COLON         0.000000  0.000000  0.000000\n",
      "EXCLAMATION   0.555347  0.203997  0.298387\n",
      "QUESTION      0.651771  0.544202  0.593149\n",
      "mean          0.423021  0.336774  0.364427\n"
     ]
    },
    {
     "name": "stderr",
     "output_type": "stream",
     "text": [
      "100%|██████████| 136/136 [00:40<00:00,  3.35it/s]\n",
      "make predictions: 100%|██████████| 4/4 [00:02<00:00,  1.57it/s]\n"
     ]
    },
    {
     "name": "stdout",
     "output_type": "stream",
     "text": [
      "f1 score test: 0.3778826292386781. Best f1 score: 0.3845845704296505\n"
     ]
    },
    {
     "name": "stderr",
     "output_type": "stream",
     "text": [
      "\r",
      "  0%|          | 0/136 [00:00<?, ?it/s]"
     ]
    },
    {
     "name": "stdout",
     "output_type": "stream",
     "text": [
      "Iteration 0: average loss: 0.2515\n"
     ]
    },
    {
     "name": "stderr",
     "output_type": "stream",
     "text": [
      "\r",
      "  1%|          | 1/136 [00:02<06:25,  2.86s/it]"
     ]
    },
    {
     "name": "stdout",
     "output_type": "stream",
     "text": [
      "             precision    recall  f1_score\n",
      "UPPERCASE     0.000000  0.000000  0.000000\n",
      "PERIOD        0.687001  0.744192  0.714454\n",
      "COMMA         0.648001  0.538779  0.588364\n",
      "COLON         0.000000  0.000000  0.000000\n",
      "EXCLAMATION   0.556448  0.213053  0.308129\n",
      "QUESTION      0.659023  0.554903  0.602497\n",
      "mean          0.425079  0.341821  0.368907\n"
     ]
    },
    {
     "name": "stderr",
     "output_type": "stream",
     "text": [
      "100%|██████████| 136/136 [00:40<00:00,  3.35it/s]\n",
      "make predictions: 100%|██████████| 4/4 [00:02<00:00,  1.51it/s]\n"
     ]
    },
    {
     "name": "stdout",
     "output_type": "stream",
     "text": [
      "f1 score test: 0.3876711358642539. Best f1 score: 0.3845845704296505\n",
      "new best model saved\n"
     ]
    },
    {
     "name": "stderr",
     "output_type": "stream",
     "text": [
      "\r",
      "  0%|          | 0/136 [00:00<?, ?it/s]"
     ]
    },
    {
     "name": "stdout",
     "output_type": "stream",
     "text": [
      "Iteration 0: average loss: 0.2457\n"
     ]
    },
    {
     "name": "stderr",
     "output_type": "stream",
     "text": [
      "\r",
      "  1%|          | 1/136 [00:02<06:44,  3.00s/it]"
     ]
    },
    {
     "name": "stdout",
     "output_type": "stream",
     "text": [
      "             precision    recall  f1_score\n",
      "UPPERCASE     0.000000  0.000000  0.000000\n",
      "PERIOD        0.690797  0.747726  0.718135\n",
      "COMMA         0.653094  0.540707  0.591610\n",
      "COLON         0.000000  0.000000  0.000000\n",
      "EXCLAMATION   0.567203  0.224944  0.322134\n",
      "QUESTION      0.666799  0.564924  0.611649\n",
      "mean          0.429649  0.346383  0.373921\n"
     ]
    },
    {
     "name": "stderr",
     "output_type": "stream",
     "text": [
      "100%|██████████| 136/136 [00:40<00:00,  3.34it/s]\n",
      "make predictions: 100%|██████████| 4/4 [00:02<00:00,  1.50it/s]\n"
     ]
    },
    {
     "name": "stdout",
     "output_type": "stream",
     "text": [
      "f1 score test: 0.3897929063655674. Best f1 score: 0.3876711358642539\n",
      "new best model saved\n"
     ]
    },
    {
     "name": "stderr",
     "output_type": "stream",
     "text": [
      "\r",
      "  0%|          | 0/136 [00:00<?, ?it/s]"
     ]
    },
    {
     "name": "stdout",
     "output_type": "stream",
     "text": [
      "Iteration 0: average loss: 0.2416\n"
     ]
    },
    {
     "name": "stderr",
     "output_type": "stream",
     "text": [
      "\r",
      "  1%|          | 1/136 [00:02<06:26,  2.86s/it]"
     ]
    },
    {
     "name": "stdout",
     "output_type": "stream",
     "text": [
      "             precision    recall  f1_score\n",
      "UPPERCASE     0.000000  0.000000  0.000000\n",
      "PERIOD        0.693688  0.751821  0.721586\n",
      "COMMA         0.654535  0.545389  0.594998\n",
      "COLON         0.000000  0.000000  0.000000\n",
      "EXCLAMATION   0.573813  0.230175  0.328556\n",
      "QUESTION      0.670787  0.575202  0.619328\n",
      "mean          0.432137  0.350431  0.377411\n"
     ]
    },
    {
     "name": "stderr",
     "output_type": "stream",
     "text": [
      "100%|██████████| 136/136 [00:40<00:00,  3.35it/s]\n",
      "make predictions: 100%|██████████| 4/4 [00:02<00:00,  1.52it/s]\n"
     ]
    },
    {
     "name": "stdout",
     "output_type": "stream",
     "text": [
      "f1 score test: 0.3920190014524499. Best f1 score: 0.3897929063655674\n",
      "new best model saved\n"
     ]
    },
    {
     "name": "stderr",
     "output_type": "stream",
     "text": [
      "\r",
      "  0%|          | 0/136 [00:00<?, ?it/s]"
     ]
    },
    {
     "name": "stdout",
     "output_type": "stream",
     "text": [
      "Iteration 0: average loss: 0.2386\n"
     ]
    },
    {
     "name": "stderr",
     "output_type": "stream",
     "text": [
      "\r",
      "  1%|          | 1/136 [00:02<06:41,  2.98s/it]"
     ]
    },
    {
     "name": "stdout",
     "output_type": "stream",
     "text": [
      "             precision    recall  f1_score\n",
      "UPPERCASE     0.000000  0.000000  0.000000\n",
      "PERIOD        0.697232  0.754740  0.724847\n",
      "COMMA         0.657117  0.549945  0.598773\n",
      "COLON         0.000000  0.000000  0.000000\n",
      "EXCLAMATION   0.572591  0.229292  0.327455\n",
      "QUESTION      0.675729  0.579406  0.623871\n",
      "mean          0.433778  0.352230  0.379158\n"
     ]
    },
    {
     "name": "stderr",
     "output_type": "stream",
     "text": [
      "100%|██████████| 136/136 [00:40<00:00,  3.34it/s]\n",
      "make predictions: 100%|██████████| 4/4 [00:02<00:00,  1.52it/s]\n"
     ]
    },
    {
     "name": "stdout",
     "output_type": "stream",
     "text": [
      "f1 score test: 0.3912789202785207. Best f1 score: 0.3920190014524499\n"
     ]
    },
    {
     "name": "stderr",
     "output_type": "stream",
     "text": [
      "\r",
      "  0%|          | 0/136 [00:00<?, ?it/s]"
     ]
    },
    {
     "name": "stdout",
     "output_type": "stream",
     "text": [
      "Iteration 0: average loss: 0.2357\n"
     ]
    },
    {
     "name": "stderr",
     "output_type": "stream",
     "text": [
      "\r",
      "  1%|          | 1/136 [00:02<06:18,  2.80s/it]"
     ]
    },
    {
     "name": "stdout",
     "output_type": "stream",
     "text": [
      "             precision    recall  f1_score\n",
      "UPPERCASE     0.000000  0.000000  0.000000\n",
      "PERIOD        0.703113  0.757050  0.729086\n",
      "COMMA         0.658571  0.554465  0.602050\n",
      "COLON         0.000000  0.000000  0.000000\n",
      "EXCLAMATION   0.582520  0.245377  0.345301\n",
      "QUESTION      0.685535  0.587107  0.632514\n",
      "mean          0.438290  0.357333  0.384825\n"
     ]
    },
    {
     "name": "stderr",
     "output_type": "stream",
     "text": [
      "100%|██████████| 136/136 [00:40<00:00,  3.36it/s]\n",
      "make predictions: 100%|██████████| 4/4 [00:02<00:00,  1.52it/s]\n"
     ]
    },
    {
     "name": "stdout",
     "output_type": "stream",
     "text": [
      "f1 score test: 0.38713735509301395. Best f1 score: 0.3920190014524499\n"
     ]
    },
    {
     "name": "stderr",
     "output_type": "stream",
     "text": [
      "\r",
      "  0%|          | 0/136 [00:00<?, ?it/s]"
     ]
    },
    {
     "name": "stdout",
     "output_type": "stream",
     "text": [
      "Iteration 0: average loss: 0.2332\n"
     ]
    },
    {
     "name": "stderr",
     "output_type": "stream",
     "text": [
      "\r",
      "  1%|          | 1/136 [00:02<06:33,  2.91s/it]"
     ]
    },
    {
     "name": "stdout",
     "output_type": "stream",
     "text": [
      "             precision    recall  f1_score\n",
      "UPPERCASE     0.000000  0.000000  0.000000\n",
      "PERIOD        0.705813  0.760149  0.731974\n",
      "COMMA         0.662954  0.559977  0.607130\n",
      "COLON         0.000000  0.000000  0.000000\n",
      "EXCLAMATION   0.585336  0.247035  0.347437\n",
      "QUESTION      0.693858  0.597339  0.641991\n",
      "mean          0.441327  0.360750  0.388089\n"
     ]
    },
    {
     "name": "stderr",
     "output_type": "stream",
     "text": [
      "100%|██████████| 136/136 [00:40<00:00,  3.35it/s]\n",
      "make predictions: 100%|██████████| 4/4 [00:02<00:00,  1.51it/s]\n"
     ]
    },
    {
     "name": "stdout",
     "output_type": "stream",
     "text": [
      "f1 score test: 0.39128614142658885. Best f1 score: 0.3920190014524499\n"
     ]
    },
    {
     "name": "stderr",
     "output_type": "stream",
     "text": [
      "\r",
      "  0%|          | 0/136 [00:00<?, ?it/s]"
     ]
    },
    {
     "name": "stdout",
     "output_type": "stream",
     "text": [
      "Iteration 0: average loss: 0.2307\n"
     ]
    },
    {
     "name": "stderr",
     "output_type": "stream",
     "text": [
      "\r",
      "  1%|          | 1/136 [00:02<06:21,  2.83s/it]"
     ]
    },
    {
     "name": "stdout",
     "output_type": "stream",
     "text": [
      "             precision    recall  f1_score\n",
      "UPPERCASE     0.000000  0.000000  0.000000\n",
      "PERIOD        0.710510  0.764195  0.736375\n",
      "COMMA         0.665367  0.565003  0.611091\n",
      "COLON         0.000000  0.000000  0.000000\n",
      "EXCLAMATION   0.594972  0.256671  0.358629\n",
      "QUESTION      0.698929  0.604209  0.648126\n",
      "mean          0.444963  0.365013  0.392370\n"
     ]
    },
    {
     "name": "stderr",
     "output_type": "stream",
     "text": [
      "100%|██████████| 136/136 [00:40<00:00,  3.35it/s]\n",
      "make predictions: 100%|██████████| 4/4 [00:02<00:00,  1.51it/s]\n"
     ]
    },
    {
     "name": "stdout",
     "output_type": "stream",
     "text": [
      "f1 score test: 0.3825418963951612. Best f1 score: 0.3920190014524499\n"
     ]
    },
    {
     "name": "stderr",
     "output_type": "stream",
     "text": [
      "\r",
      "  0%|          | 0/136 [00:00<?, ?it/s]"
     ]
    },
    {
     "name": "stdout",
     "output_type": "stream",
     "text": [
      "Iteration 0: average loss: 0.2280\n"
     ]
    },
    {
     "name": "stderr",
     "output_type": "stream",
     "text": [
      "\r",
      "  1%|          | 1/136 [00:02<06:36,  2.94s/it]"
     ]
    },
    {
     "name": "stdout",
     "output_type": "stream",
     "text": [
      "             precision    recall  f1_score\n",
      "UPPERCASE     0.000000  0.000000  0.000000\n",
      "PERIOD        0.714961  0.766811  0.739979\n",
      "COMMA         0.668574  0.569015  0.614790\n",
      "COLON         0.000000  0.000000  0.000000\n",
      "EXCLAMATION   0.588347  0.267182  0.367482\n",
      "QUESTION      0.704223  0.618927  0.658826\n",
      "mean          0.446017  0.370322  0.396846\n"
     ]
    },
    {
     "name": "stderr",
     "output_type": "stream",
     "text": [
      "100%|██████████| 136/136 [00:40<00:00,  3.35it/s]\n",
      "make predictions: 100%|██████████| 4/4 [00:02<00:00,  1.52it/s]"
     ]
    },
    {
     "name": "stdout",
     "output_type": "stream",
     "text": [
      "f1 score test: 0.3831757818894541. Best f1 score: 0.3920190014524499\n",
      "early stopping\n"
     ]
    },
    {
     "name": "stderr",
     "output_type": "stream",
     "text": [
      "\n"
     ]
    }
   ],
   "source": [
    "solver.train(dl=dl_train, lr=3*10**-6, early_stopping=True, dl_test = dl_valid)"
   ]
  },
  {
   "cell_type": "markdown",
   "metadata": {},
   "source": [
    "get the performance on the testset for the further finetuned model"
   ]
  },
  {
   "cell_type": "code",
   "execution_count": 30,
   "metadata": {
    "executionInfo": {
     "elapsed": 4781,
     "status": "ok",
     "timestamp": 1704959768854,
     "user": {
      "displayName": "Louissko",
      "userId": "00337720139601541087"
     },
     "user_tz": -180
    },
    "id": "ozcBSePYepqx"
   },
   "outputs": [],
   "source": [
    "args.load_model = '/content/gdrive/MyDrive/nlp-punctuation/punctuation-project/deberta-v3-base/deberta-v3-tokens_2_asr_best_last.pth'\n",
    "solver = initialize_model_and_components(args)\n",
    "directory = '/content/behancepr/data/test'\n",
    "dataset = DatasetTextProcessor(directory, args.classes, solver.model.tokenizer, mapping_reverse, is_directory=True, return_overflowing_tokens=True)\n",
    "dl_test = DataLoader(dataset, batch_size=args.batch_size_train, shuffle=False, collate_fn=custom_collate_fn, num_workers=args.num_workers)"
   ]
  },
  {
   "cell_type": "code",
   "execution_count": 35,
   "metadata": {
    "colab": {
     "base_uri": "https://localhost:8080/"
    },
    "executionInfo": {
     "elapsed": 4830,
     "status": "ok",
     "timestamp": 1704959855013,
     "user": {
      "displayName": "Louissko",
      "userId": "00337720139601541087"
     },
     "user_tz": -180
    },
    "id": "NkD4THWFeeA5",
    "outputId": "7247f627-3c80-4aa1-eb5d-fa3c2fefb9bd"
   },
   "outputs": [
    {
     "name": "stderr",
     "output_type": "stream",
     "text": [
      "make predictions: 100%|██████████| 5/5 [00:04<00:00,  1.12it/s]\n"
     ]
    }
   ],
   "source": [
    "#finetuned for 10 epochs\n",
    "results = solver.test(dl_test)"
   ]
  },
  {
   "cell_type": "code",
   "execution_count": 36,
   "metadata": {
    "executionInfo": {
     "elapsed": 355,
     "status": "ok",
     "timestamp": 1704959898171,
     "user": {
      "displayName": "Louissko",
      "userId": "00337720139601541087"
     },
     "user_tz": -180
    },
    "id": "M_N_DtGLhj1v"
   },
   "outputs": [],
   "source": [
    "results.to_csv(os.path.join(args.save_training_dir, 'results_asr_deberta-v3-tokens_2_last_finetuned_10_epochs.csv'))"
   ]
  },
  {
   "cell_type": "markdown",
   "metadata": {
    "id": "zD_DaCnwgzhS"
   },
   "source": [
    "# Get Results"
   ]
  },
  {
   "cell_type": "markdown",
   "metadata": {
    "jp-MarkdownHeadingCollapsed": true
   },
   "source": [
    "## Results on Gutenberg Corpus"
   ]
  },
  {
   "cell_type": "code",
   "execution_count": 14,
   "metadata": {
    "executionInfo": {
     "elapsed": 3303,
     "status": "ok",
     "timestamp": 1704910680186,
     "user": {
      "displayName": "Louissko",
      "userId": "00337720139601541087"
     },
     "user_tz": -180
    },
    "id": "onxQnl2cU1BW"
   },
   "outputs": [],
   "source": [
    "results_roberta = pd.read_csv('/content/gdrive/MyDrive/nlp-punctuation/punctuation-project/roberta-base/results_test_epoch_1.csv', index_col=0).T\n",
    "results_deberta_1 = pd.read_csv('/content/gdrive/MyDrive/nlp-punctuation/punctuation-project/deberta-v3-base/results_test_epoch_1.csv', index_col=0).T\n",
    "results_deberta_2 = pd.read_csv('/content/gdrive/MyDrive/nlp-punctuation/punctuation-project/deberta-v3-base/results_test_epoch_2.csv', index_col=0).T"
   ]
  },
  {
   "cell_type": "code",
   "execution_count": 55,
   "metadata": {
    "executionInfo": {
     "elapsed": 3,
     "status": "ok",
     "timestamp": 1704911510198,
     "user": {
      "displayName": "Louissko",
      "userId": "00337720139601541087"
     },
     "user_tz": -180
    },
    "id": "zT99orHfmP7s"
   },
   "outputs": [],
   "source": [
    "# results of separately trained models\n",
    "results_deberta_1_cap = pd.read_csv('/content/gdrive/MyDrive/nlp-punctuation/punctuation-project/deberta-v3-base/results_test_cap_epoch_1.csv', index_col=0).T\n",
    "results_deberta_1_punc = pd.read_csv('/content/gdrive/MyDrive/nlp-punctuation/punctuation-project/deberta-v3-base/results_test_punc_epoch_1.csv', index_col=0).T\n",
    "results_deberta_duo = pd.concat((results_deberta_1_cap.loc[:,['UPPERCASE']] , results_deberta_1_punc.loc[:,'PERIOD':'QUESTION']), axis=1).astype(float)\n",
    "results_deberta_duo['mean']=results_deberta_duo.mean(axis=1)"
   ]
  },
  {
   "cell_type": "code",
   "execution_count": 61,
   "metadata": {
    "executionInfo": {
     "elapsed": 3,
     "status": "ok",
     "timestamp": 1704911784633,
     "user": {
      "displayName": "Louissko",
      "userId": "00337720139601541087"
     },
     "user_tz": -180
    },
    "id": "XBW0kDeWU13T"
   },
   "outputs": [],
   "source": [
    "results = pd.concat([results_roberta, results_deberta_duo, results_deberta_1, results_deberta_2], keys = ['RoBERTa (1 epoch)', 'Dual DeBERTa v3 (1 epoch)', 'DeBERTa v3 (1 epoch)', 'DeBERTa v3 (2 epoch)'])"
   ]
  },
  {
   "cell_type": "code",
   "execution_count": 62,
   "metadata": {
    "executionInfo": {
     "elapsed": 855,
     "status": "ok",
     "timestamp": 1704911788314,
     "user": {
      "displayName": "Louissko",
      "userId": "00337720139601541087"
     },
     "user_tz": -180
    },
    "id": "m9RXXJsqU10q"
   },
   "outputs": [],
   "source": [
    "results = np.round(results*100, 2)"
   ]
  },
  {
   "cell_type": "code",
   "execution_count": 63,
   "metadata": {
    "colab": {
     "base_uri": "https://localhost:8080/",
     "height": 446
    },
    "executionInfo": {
     "elapsed": 5,
     "status": "ok",
     "timestamp": 1704911790243,
     "user": {
      "displayName": "Louissko",
      "userId": "00337720139601541087"
     },
     "user_tz": -180
    },
    "id": "Wr2uNRlkU2WB",
    "outputId": "68101583-7d2a-4057-8500-bf026d254ac2"
   },
   "outputs": [
    {
     "data": {
      "text/html": [
       "\n",
       "  <div id=\"df-671eea90-2cb9-483c-bb7a-2b62fa5fffd9\" class=\"colab-df-container\">\n",
       "    <div>\n",
       "<style scoped>\n",
       "    .dataframe tbody tr th:only-of-type {\n",
       "        vertical-align: middle;\n",
       "    }\n",
       "\n",
       "    .dataframe tbody tr th {\n",
       "        vertical-align: top;\n",
       "    }\n",
       "\n",
       "    .dataframe thead th {\n",
       "        text-align: right;\n",
       "    }\n",
       "</style>\n",
       "<table border=\"1\" class=\"dataframe\">\n",
       "  <thead>\n",
       "    <tr style=\"text-align: right;\">\n",
       "      <th></th>\n",
       "      <th></th>\n",
       "      <th>UPPERCASE</th>\n",
       "      <th>PERIOD</th>\n",
       "      <th>COMMA</th>\n",
       "      <th>COLON</th>\n",
       "      <th>EXCLAMATION</th>\n",
       "      <th>QUESTION</th>\n",
       "      <th>mean</th>\n",
       "    </tr>\n",
       "  </thead>\n",
       "  <tbody>\n",
       "    <tr>\n",
       "      <th rowspan=\"3\" valign=\"top\">RoBERTa (1 epoch)</th>\n",
       "      <th>precision</th>\n",
       "      <td>92.81</td>\n",
       "      <td>87.96</td>\n",
       "      <td>80.97</td>\n",
       "      <td>58.97</td>\n",
       "      <td>58.43</td>\n",
       "      <td>82.29</td>\n",
       "      <td>76.91</td>\n",
       "    </tr>\n",
       "    <tr>\n",
       "      <th>recall</th>\n",
       "      <td>90.90</td>\n",
       "      <td>90.46</td>\n",
       "      <td>80.38</td>\n",
       "      <td>25.97</td>\n",
       "      <td>36.29</td>\n",
       "      <td>78.27</td>\n",
       "      <td>67.04</td>\n",
       "    </tr>\n",
       "    <tr>\n",
       "      <th>f1_score</th>\n",
       "      <td>91.84</td>\n",
       "      <td>89.19</td>\n",
       "      <td>80.67</td>\n",
       "      <td>36.06</td>\n",
       "      <td>44.77</td>\n",
       "      <td>80.23</td>\n",
       "      <td>70.46</td>\n",
       "    </tr>\n",
       "    <tr>\n",
       "      <th rowspan=\"3\" valign=\"top\">Dual DeBERTa v3 (1 epoch)</th>\n",
       "      <th>precision</th>\n",
       "      <td>94.06</td>\n",
       "      <td>87.93</td>\n",
       "      <td>83.71</td>\n",
       "      <td>65.28</td>\n",
       "      <td>59.53</td>\n",
       "      <td>82.10</td>\n",
       "      <td>78.77</td>\n",
       "    </tr>\n",
       "    <tr>\n",
       "      <th>recall</th>\n",
       "      <td>91.39</td>\n",
       "      <td>92.24</td>\n",
       "      <td>80.50</td>\n",
       "      <td>24.46</td>\n",
       "      <td>41.58</td>\n",
       "      <td>82.71</td>\n",
       "      <td>68.81</td>\n",
       "    </tr>\n",
       "    <tr>\n",
       "      <th>f1_score</th>\n",
       "      <td>92.71</td>\n",
       "      <td>90.03</td>\n",
       "      <td>82.08</td>\n",
       "      <td>35.58</td>\n",
       "      <td>48.96</td>\n",
       "      <td>82.40</td>\n",
       "      <td>71.96</td>\n",
       "    </tr>\n",
       "    <tr>\n",
       "      <th rowspan=\"3\" valign=\"top\">DeBERTa v3 (1 epoch)</th>\n",
       "      <th>precision</th>\n",
       "      <td>94.01</td>\n",
       "      <td>88.74</td>\n",
       "      <td>82.26</td>\n",
       "      <td>65.93</td>\n",
       "      <td>57.95</td>\n",
       "      <td>80.92</td>\n",
       "      <td>78.30</td>\n",
       "    </tr>\n",
       "    <tr>\n",
       "      <th>recall</th>\n",
       "      <td>90.70</td>\n",
       "      <td>91.12</td>\n",
       "      <td>81.41</td>\n",
       "      <td>22.64</td>\n",
       "      <td>41.02</td>\n",
       "      <td>82.56</td>\n",
       "      <td>68.24</td>\n",
       "    </tr>\n",
       "    <tr>\n",
       "      <th>f1_score</th>\n",
       "      <td>92.33</td>\n",
       "      <td>89.91</td>\n",
       "      <td>81.84</td>\n",
       "      <td>33.71</td>\n",
       "      <td>48.04</td>\n",
       "      <td>81.73</td>\n",
       "      <td>71.26</td>\n",
       "    </tr>\n",
       "    <tr>\n",
       "      <th rowspan=\"3\" valign=\"top\">DeBERTa v3 (2 epoch)</th>\n",
       "      <th>precision</th>\n",
       "      <td>93.95</td>\n",
       "      <td>89.81</td>\n",
       "      <td>83.10</td>\n",
       "      <td>61.73</td>\n",
       "      <td>54.34</td>\n",
       "      <td>82.25</td>\n",
       "      <td>77.53</td>\n",
       "    </tr>\n",
       "    <tr>\n",
       "      <th>recall</th>\n",
       "      <td>92.04</td>\n",
       "      <td>91.54</td>\n",
       "      <td>82.19</td>\n",
       "      <td>28.13</td>\n",
       "      <td>49.25</td>\n",
       "      <td>84.01</td>\n",
       "      <td>71.20</td>\n",
       "    </tr>\n",
       "    <tr>\n",
       "      <th>f1_score</th>\n",
       "      <td>92.99</td>\n",
       "      <td>90.67</td>\n",
       "      <td>82.64</td>\n",
       "      <td>38.65</td>\n",
       "      <td>51.67</td>\n",
       "      <td>83.12</td>\n",
       "      <td>73.29</td>\n",
       "    </tr>\n",
       "  </tbody>\n",
       "</table>\n",
       "</div>\n",
       "    <div class=\"colab-df-buttons\">\n",
       "\n",
       "  <div class=\"colab-df-container\">\n",
       "    <button class=\"colab-df-convert\" onclick=\"convertToInteractive('df-671eea90-2cb9-483c-bb7a-2b62fa5fffd9')\"\n",
       "            title=\"Convert this dataframe to an interactive table.\"\n",
       "            style=\"display:none;\">\n",
       "\n",
       "  <svg xmlns=\"http://www.w3.org/2000/svg\" height=\"24px\" viewBox=\"0 -960 960 960\">\n",
       "    <path d=\"M120-120v-720h720v720H120Zm60-500h600v-160H180v160Zm220 220h160v-160H400v160Zm0 220h160v-160H400v160ZM180-400h160v-160H180v160Zm440 0h160v-160H620v160ZM180-180h160v-160H180v160Zm440 0h160v-160H620v160Z\"/>\n",
       "  </svg>\n",
       "    </button>\n",
       "\n",
       "  <style>\n",
       "    .colab-df-container {\n",
       "      display:flex;\n",
       "      gap: 12px;\n",
       "    }\n",
       "\n",
       "    .colab-df-convert {\n",
       "      background-color: #E8F0FE;\n",
       "      border: none;\n",
       "      border-radius: 50%;\n",
       "      cursor: pointer;\n",
       "      display: none;\n",
       "      fill: #1967D2;\n",
       "      height: 32px;\n",
       "      padding: 0 0 0 0;\n",
       "      width: 32px;\n",
       "    }\n",
       "\n",
       "    .colab-df-convert:hover {\n",
       "      background-color: #E2EBFA;\n",
       "      box-shadow: 0px 1px 2px rgba(60, 64, 67, 0.3), 0px 1px 3px 1px rgba(60, 64, 67, 0.15);\n",
       "      fill: #174EA6;\n",
       "    }\n",
       "\n",
       "    .colab-df-buttons div {\n",
       "      margin-bottom: 4px;\n",
       "    }\n",
       "\n",
       "    [theme=dark] .colab-df-convert {\n",
       "      background-color: #3B4455;\n",
       "      fill: #D2E3FC;\n",
       "    }\n",
       "\n",
       "    [theme=dark] .colab-df-convert:hover {\n",
       "      background-color: #434B5C;\n",
       "      box-shadow: 0px 1px 3px 1px rgba(0, 0, 0, 0.15);\n",
       "      filter: drop-shadow(0px 1px 2px rgba(0, 0, 0, 0.3));\n",
       "      fill: #FFFFFF;\n",
       "    }\n",
       "  </style>\n",
       "\n",
       "    <script>\n",
       "      const buttonEl =\n",
       "        document.querySelector('#df-671eea90-2cb9-483c-bb7a-2b62fa5fffd9 button.colab-df-convert');\n",
       "      buttonEl.style.display =\n",
       "        google.colab.kernel.accessAllowed ? 'block' : 'none';\n",
       "\n",
       "      async function convertToInteractive(key) {\n",
       "        const element = document.querySelector('#df-671eea90-2cb9-483c-bb7a-2b62fa5fffd9');\n",
       "        const dataTable =\n",
       "          await google.colab.kernel.invokeFunction('convertToInteractive',\n",
       "                                                    [key], {});\n",
       "        if (!dataTable) return;\n",
       "\n",
       "        const docLinkHtml = 'Like what you see? Visit the ' +\n",
       "          '<a target=\"_blank\" href=https://colab.research.google.com/notebooks/data_table.ipynb>data table notebook</a>'\n",
       "          + ' to learn more about interactive tables.';\n",
       "        element.innerHTML = '';\n",
       "        dataTable['output_type'] = 'display_data';\n",
       "        await google.colab.output.renderOutput(dataTable, element);\n",
       "        const docLink = document.createElement('div');\n",
       "        docLink.innerHTML = docLinkHtml;\n",
       "        element.appendChild(docLink);\n",
       "      }\n",
       "    </script>\n",
       "  </div>\n",
       "\n",
       "\n",
       "<div id=\"df-b2e3c3ea-1bcb-4692-8296-363503bfc308\">\n",
       "  <button class=\"colab-df-quickchart\" onclick=\"quickchart('df-b2e3c3ea-1bcb-4692-8296-363503bfc308')\"\n",
       "            title=\"Suggest charts\"\n",
       "            style=\"display:none;\">\n",
       "\n",
       "<svg xmlns=\"http://www.w3.org/2000/svg\" height=\"24px\"viewBox=\"0 0 24 24\"\n",
       "     width=\"24px\">\n",
       "    <g>\n",
       "        <path d=\"M19 3H5c-1.1 0-2 .9-2 2v14c0 1.1.9 2 2 2h14c1.1 0 2-.9 2-2V5c0-1.1-.9-2-2-2zM9 17H7v-7h2v7zm4 0h-2V7h2v10zm4 0h-2v-4h2v4z\"/>\n",
       "    </g>\n",
       "</svg>\n",
       "  </button>\n",
       "\n",
       "<style>\n",
       "  .colab-df-quickchart {\n",
       "      --bg-color: #E8F0FE;\n",
       "      --fill-color: #1967D2;\n",
       "      --hover-bg-color: #E2EBFA;\n",
       "      --hover-fill-color: #174EA6;\n",
       "      --disabled-fill-color: #AAA;\n",
       "      --disabled-bg-color: #DDD;\n",
       "  }\n",
       "\n",
       "  [theme=dark] .colab-df-quickchart {\n",
       "      --bg-color: #3B4455;\n",
       "      --fill-color: #D2E3FC;\n",
       "      --hover-bg-color: #434B5C;\n",
       "      --hover-fill-color: #FFFFFF;\n",
       "      --disabled-bg-color: #3B4455;\n",
       "      --disabled-fill-color: #666;\n",
       "  }\n",
       "\n",
       "  .colab-df-quickchart {\n",
       "    background-color: var(--bg-color);\n",
       "    border: none;\n",
       "    border-radius: 50%;\n",
       "    cursor: pointer;\n",
       "    display: none;\n",
       "    fill: var(--fill-color);\n",
       "    height: 32px;\n",
       "    padding: 0;\n",
       "    width: 32px;\n",
       "  }\n",
       "\n",
       "  .colab-df-quickchart:hover {\n",
       "    background-color: var(--hover-bg-color);\n",
       "    box-shadow: 0 1px 2px rgba(60, 64, 67, 0.3), 0 1px 3px 1px rgba(60, 64, 67, 0.15);\n",
       "    fill: var(--button-hover-fill-color);\n",
       "  }\n",
       "\n",
       "  .colab-df-quickchart-complete:disabled,\n",
       "  .colab-df-quickchart-complete:disabled:hover {\n",
       "    background-color: var(--disabled-bg-color);\n",
       "    fill: var(--disabled-fill-color);\n",
       "    box-shadow: none;\n",
       "  }\n",
       "\n",
       "  .colab-df-spinner {\n",
       "    border: 2px solid var(--fill-color);\n",
       "    border-color: transparent;\n",
       "    border-bottom-color: var(--fill-color);\n",
       "    animation:\n",
       "      spin 1s steps(1) infinite;\n",
       "  }\n",
       "\n",
       "  @keyframes spin {\n",
       "    0% {\n",
       "      border-color: transparent;\n",
       "      border-bottom-color: var(--fill-color);\n",
       "      border-left-color: var(--fill-color);\n",
       "    }\n",
       "    20% {\n",
       "      border-color: transparent;\n",
       "      border-left-color: var(--fill-color);\n",
       "      border-top-color: var(--fill-color);\n",
       "    }\n",
       "    30% {\n",
       "      border-color: transparent;\n",
       "      border-left-color: var(--fill-color);\n",
       "      border-top-color: var(--fill-color);\n",
       "      border-right-color: var(--fill-color);\n",
       "    }\n",
       "    40% {\n",
       "      border-color: transparent;\n",
       "      border-right-color: var(--fill-color);\n",
       "      border-top-color: var(--fill-color);\n",
       "    }\n",
       "    60% {\n",
       "      border-color: transparent;\n",
       "      border-right-color: var(--fill-color);\n",
       "    }\n",
       "    80% {\n",
       "      border-color: transparent;\n",
       "      border-right-color: var(--fill-color);\n",
       "      border-bottom-color: var(--fill-color);\n",
       "    }\n",
       "    90% {\n",
       "      border-color: transparent;\n",
       "      border-bottom-color: var(--fill-color);\n",
       "    }\n",
       "  }\n",
       "</style>\n",
       "\n",
       "  <script>\n",
       "    async function quickchart(key) {\n",
       "      const quickchartButtonEl =\n",
       "        document.querySelector('#' + key + ' button');\n",
       "      quickchartButtonEl.disabled = true;  // To prevent multiple clicks.\n",
       "      quickchartButtonEl.classList.add('colab-df-spinner');\n",
       "      try {\n",
       "        const charts = await google.colab.kernel.invokeFunction(\n",
       "            'suggestCharts', [key], {});\n",
       "      } catch (error) {\n",
       "        console.error('Error during call to suggestCharts:', error);\n",
       "      }\n",
       "      quickchartButtonEl.classList.remove('colab-df-spinner');\n",
       "      quickchartButtonEl.classList.add('colab-df-quickchart-complete');\n",
       "    }\n",
       "    (() => {\n",
       "      let quickchartButtonEl =\n",
       "        document.querySelector('#df-b2e3c3ea-1bcb-4692-8296-363503bfc308 button');\n",
       "      quickchartButtonEl.style.display =\n",
       "        google.colab.kernel.accessAllowed ? 'block' : 'none';\n",
       "    })();\n",
       "  </script>\n",
       "</div>\n",
       "\n",
       "  <div id=\"id_8b167e6a-60b1-467f-b339-a2d25774cbb9\">\n",
       "    <style>\n",
       "      .colab-df-generate {\n",
       "        background-color: #E8F0FE;\n",
       "        border: none;\n",
       "        border-radius: 50%;\n",
       "        cursor: pointer;\n",
       "        display: none;\n",
       "        fill: #1967D2;\n",
       "        height: 32px;\n",
       "        padding: 0 0 0 0;\n",
       "        width: 32px;\n",
       "      }\n",
       "\n",
       "      .colab-df-generate:hover {\n",
       "        background-color: #E2EBFA;\n",
       "        box-shadow: 0px 1px 2px rgba(60, 64, 67, 0.3), 0px 1px 3px 1px rgba(60, 64, 67, 0.15);\n",
       "        fill: #174EA6;\n",
       "      }\n",
       "\n",
       "      [theme=dark] .colab-df-generate {\n",
       "        background-color: #3B4455;\n",
       "        fill: #D2E3FC;\n",
       "      }\n",
       "\n",
       "      [theme=dark] .colab-df-generate:hover {\n",
       "        background-color: #434B5C;\n",
       "        box-shadow: 0px 1px 3px 1px rgba(0, 0, 0, 0.15);\n",
       "        filter: drop-shadow(0px 1px 2px rgba(0, 0, 0, 0.3));\n",
       "        fill: #FFFFFF;\n",
       "      }\n",
       "    </style>\n",
       "    <button class=\"colab-df-generate\" onclick=\"generateWithVariable('results')\"\n",
       "            title=\"Generate code using this dataframe.\"\n",
       "            style=\"display:none;\">\n",
       "\n",
       "  <svg xmlns=\"http://www.w3.org/2000/svg\" height=\"24px\"viewBox=\"0 0 24 24\"\n",
       "       width=\"24px\">\n",
       "    <path d=\"M7,19H8.4L18.45,9,17,7.55,7,17.6ZM5,21V16.75L18.45,3.32a2,2,0,0,1,2.83,0l1.4,1.43a1.91,1.91,0,0,1,.58,1.4,1.91,1.91,0,0,1-.58,1.4L9.25,21ZM18.45,9,17,7.55Zm-12,3A5.31,5.31,0,0,0,4.9,8.1,5.31,5.31,0,0,0,1,6.5,5.31,5.31,0,0,0,4.9,4.9,5.31,5.31,0,0,0,6.5,1,5.31,5.31,0,0,0,8.1,4.9,5.31,5.31,0,0,0,12,6.5,5.46,5.46,0,0,0,6.5,12Z\"/>\n",
       "  </svg>\n",
       "    </button>\n",
       "    <script>\n",
       "      (() => {\n",
       "      const buttonEl =\n",
       "        document.querySelector('#id_8b167e6a-60b1-467f-b339-a2d25774cbb9 button.colab-df-generate');\n",
       "      buttonEl.style.display =\n",
       "        google.colab.kernel.accessAllowed ? 'block' : 'none';\n",
       "\n",
       "      buttonEl.onclick = () => {\n",
       "        google.colab.notebook.generateWithVariable('results');\n",
       "      }\n",
       "      })();\n",
       "    </script>\n",
       "  </div>\n",
       "\n",
       "    </div>\n",
       "  </div>\n"
      ],
      "text/plain": [
       "                                     UPPERCASE  PERIOD  COMMA  COLON  \\\n",
       "RoBERTa (1 epoch)         precision      92.81   87.96  80.97  58.97   \n",
       "                          recall         90.90   90.46  80.38  25.97   \n",
       "                          f1_score       91.84   89.19  80.67  36.06   \n",
       "Dual DeBERTa v3 (1 epoch) precision      94.06   87.93  83.71  65.28   \n",
       "                          recall         91.39   92.24  80.50  24.46   \n",
       "                          f1_score       92.71   90.03  82.08  35.58   \n",
       "DeBERTa v3 (1 epoch)      precision      94.01   88.74  82.26  65.93   \n",
       "                          recall         90.70   91.12  81.41  22.64   \n",
       "                          f1_score       92.33   89.91  81.84  33.71   \n",
       "DeBERTa v3 (2 epoch)      precision      93.95   89.81  83.10  61.73   \n",
       "                          recall         92.04   91.54  82.19  28.13   \n",
       "                          f1_score       92.99   90.67  82.64  38.65   \n",
       "\n",
       "                                     EXCLAMATION  QUESTION   mean  \n",
       "RoBERTa (1 epoch)         precision        58.43     82.29  76.91  \n",
       "                          recall           36.29     78.27  67.04  \n",
       "                          f1_score         44.77     80.23  70.46  \n",
       "Dual DeBERTa v3 (1 epoch) precision        59.53     82.10  78.77  \n",
       "                          recall           41.58     82.71  68.81  \n",
       "                          f1_score         48.96     82.40  71.96  \n",
       "DeBERTa v3 (1 epoch)      precision        57.95     80.92  78.30  \n",
       "                          recall           41.02     82.56  68.24  \n",
       "                          f1_score         48.04     81.73  71.26  \n",
       "DeBERTa v3 (2 epoch)      precision        54.34     82.25  77.53  \n",
       "                          recall           49.25     84.01  71.20  \n",
       "                          f1_score         51.67     83.12  73.29  "
      ]
     },
     "execution_count": 63,
     "metadata": {},
     "output_type": "execute_result"
    }
   ],
   "source": [
    "results"
   ]
  },
  {
   "cell_type": "code",
   "execution_count": 64,
   "metadata": {
    "colab": {
     "base_uri": "https://localhost:8080/"
    },
    "executionInfo": {
     "elapsed": 808,
     "status": "ok",
     "timestamp": 1704911871879,
     "user": {
      "displayName": "Louissko",
      "userId": "00337720139601541087"
     },
     "user_tz": -180
    },
    "id": "aONqvR_DXyol",
    "outputId": "1fb328d8-3805-4387-9635-93ec5a8ca31b"
   },
   "outputs": [
    {
     "name": "stdout",
     "output_type": "stream",
     "text": [
      "\\begin{tabular}{ccccccc}\n",
      "\\toprule\n",
      "                     &          &  UPPERCASE &  PERIOD &  COMMA &  COLON &  EXCLAMATION &  QUESTION &   mean \\\\\n",
      "\\midrule\n",
      "\\multirow{3}{*}{RoBERTa (1 epoch)} & precision &      92.81 &   87.96 &  80.97 &  58.97 &        58.43 &     82.29 &  76.91 \\\\\n",
      "                     & recall &      90.90 &   90.46 &  80.38 &  25.97 &        36.29 &     78.27 &  67.04 \\\\\n",
      "                     & f1_score &      91.84 &   89.19 &  80.67 &  36.06 &        44.77 &     80.23 &  70.46 \\\\\n",
      "\\cline{1-9}\n",
      "\\multirow{3}{*}{Dual DeBERTa v3 (1 epoch)} & precision &      94.06 &   87.93 &  83.71 &  65.28 &        59.53 &     82.10 &  78.77 \\\\\n",
      "                     & recall &      91.39 &   92.24 &  80.50 &  24.46 &        41.58 &     82.71 &  68.81 \\\\\n",
      "                     & f1_score &      92.71 &   90.03 &  82.08 &  35.58 &        48.96 &     82.40 &  71.96 \\\\\n",
      "\\cline{1-9}\n",
      "\\multirow{3}{*}{DeBERTa v3 (1 epoch)} & precision &      94.01 &   88.74 &  82.26 &  65.93 &        57.95 &     80.92 &  78.30 \\\\\n",
      "                     & recall &      90.70 &   91.12 &  81.41 &  22.64 &        41.02 &     82.56 &  68.24 \\\\\n",
      "                     & f1_score &      92.33 &   89.91 &  81.84 &  33.71 &        48.04 &     81.73 &  71.26 \\\\\n",
      "\\cline{1-9}\n",
      "\\multirow{3}{*}{DeBERTa v3 (2 epoch)} & precision &      93.95 &   89.81 &  83.10 &  61.73 &        54.34 &     82.25 &  77.53 \\\\\n",
      "                     & recall &      92.04 &   91.54 &  82.19 &  28.13 &        49.25 &     84.01 &  71.20 \\\\\n",
      "                     & f1_score &      92.99 &   90.67 &  82.64 &  38.65 &        51.67 &     83.12 &  73.29 \\\\\n",
      "\\bottomrule\n",
      "\\end{tabular}\n",
      "\n"
     ]
    },
    {
     "name": "stderr",
     "output_type": "stream",
     "text": [
      "<ipython-input-64-ba05ebb07a9f>:1: FutureWarning: In future versions `DataFrame.to_latex` is expected to utilise the base implementation of `Styler.to_latex` for formatting and rendering. The arguments signature may therefore change. It is recommended instead to use `DataFrame.style.to_latex` which also contains additional functionality.\n",
      "  print(results.to_latex(escape=False, multirow=True, column_format='ccccccc'))\n"
     ]
    }
   ],
   "source": [
    "print(results.to_latex(escape=False, multirow=True, column_format='ccccccc'))"
   ]
  },
  {
   "cell_type": "markdown",
   "metadata": {
    "jp-MarkdownHeadingCollapsed": true
   },
   "source": [
    "## Results on BehancePR Dataset"
   ]
  },
  {
   "cell_type": "code",
   "execution_count": 80,
   "metadata": {
    "executionInfo": {
     "elapsed": 3,
     "status": "ok",
     "timestamp": 1704960711134,
     "user": {
      "displayName": "Louissko",
      "userId": "00337720139601541087"
     },
     "user_tz": -180
    },
    "id": "iO4HbsitiIIm"
   },
   "outputs": [],
   "source": [
    "results_books = pd.read_csv('/content/gdrive/MyDrive/nlp-punctuation/punctuation-project/deberta-v3-base/results_asr_deberta-v3-tokens_2_last.csv', index_col=0).T\n",
    "results_books_asr = pd.read_csv('/content/gdrive/MyDrive/nlp-punctuation/punctuation-project/deberta-v3-base/results_asr_deberta-v3-tokens_2_last_finetuned_10_epochs.csv', index_col=0).T"
   ]
  },
  {
   "cell_type": "code",
   "execution_count": 81,
   "metadata": {
    "executionInfo": {
     "elapsed": 1,
     "status": "ok",
     "timestamp": 1704960712553,
     "user": {
      "displayName": "Louissko",
      "userId": "00337720139601541087"
     },
     "user_tz": -180
    },
    "id": "iQwzmjc9hd3x"
   },
   "outputs": [],
   "source": [
    "results = pd.concat((results_books, results_books_asr), keys=['DeBERTa v3', 'DeBERTa v3 tuned'])"
   ]
  },
  {
   "cell_type": "code",
   "execution_count": 82,
   "metadata": {
    "executionInfo": {
     "elapsed": 2,
     "status": "ok",
     "timestamp": 1704960712940,
     "user": {
      "displayName": "Louissko",
      "userId": "00337720139601541087"
     },
     "user_tz": -180
    },
    "id": "lRaIVjEYjhds"
   },
   "outputs": [],
   "source": [
    "results['mean'] = results[['PERIOD', 'COMMA', 'EXCLAMATION', 'QUESTION']].mean(axis=1)"
   ]
  },
  {
   "cell_type": "code",
   "execution_count": 83,
   "metadata": {
    "executionInfo": {
     "elapsed": 2,
     "status": "ok",
     "timestamp": 1704960713342,
     "user": {
      "displayName": "Louissko",
      "userId": "00337720139601541087"
     },
     "user_tz": -180
    },
    "id": "ezEF1We3kNv8"
   },
   "outputs": [],
   "source": [
    "results = np.round(results*100, 2)\n",
    "results['UPPERCASE'] = '-'\n",
    "results['COLON'] = '-'"
   ]
  },
  {
   "cell_type": "code",
   "execution_count": 84,
   "metadata": {
    "colab": {
     "base_uri": "https://localhost:8080/",
     "height": 258
    },
    "executionInfo": {
     "elapsed": 3,
     "status": "ok",
     "timestamp": 1704960714921,
     "user": {
      "displayName": "Louissko",
      "userId": "00337720139601541087"
     },
     "user_tz": -180
    },
    "id": "lDD1pZfgk4jn",
    "outputId": "823ddf17-029f-4595-96fc-cff1bffc2f72"
   },
   "outputs": [
    {
     "data": {
      "text/html": [
       "\n",
       "  <div id=\"df-74ee17ed-7c0b-4b44-9510-b52d232d1d08\" class=\"colab-df-container\">\n",
       "    <div>\n",
       "<style scoped>\n",
       "    .dataframe tbody tr th:only-of-type {\n",
       "        vertical-align: middle;\n",
       "    }\n",
       "\n",
       "    .dataframe tbody tr th {\n",
       "        vertical-align: top;\n",
       "    }\n",
       "\n",
       "    .dataframe thead th {\n",
       "        text-align: right;\n",
       "    }\n",
       "</style>\n",
       "<table border=\"1\" class=\"dataframe\">\n",
       "  <thead>\n",
       "    <tr style=\"text-align: right;\">\n",
       "      <th></th>\n",
       "      <th></th>\n",
       "      <th>UPPERCASE</th>\n",
       "      <th>PERIOD</th>\n",
       "      <th>COMMA</th>\n",
       "      <th>COLON</th>\n",
       "      <th>EXCLAMATION</th>\n",
       "      <th>QUESTION</th>\n",
       "      <th>mean</th>\n",
       "    </tr>\n",
       "  </thead>\n",
       "  <tbody>\n",
       "    <tr>\n",
       "      <th rowspan=\"3\" valign=\"top\">DeBERTa v3</th>\n",
       "      <th>precision</th>\n",
       "      <td>-</td>\n",
       "      <td>61.70</td>\n",
       "      <td>58.17</td>\n",
       "      <td>-</td>\n",
       "      <td>70.00</td>\n",
       "      <td>60.65</td>\n",
       "      <td>62.63</td>\n",
       "    </tr>\n",
       "    <tr>\n",
       "      <th>recall</th>\n",
       "      <td>-</td>\n",
       "      <td>64.01</td>\n",
       "      <td>32.86</td>\n",
       "      <td>-</td>\n",
       "      <td>8.75</td>\n",
       "      <td>46.91</td>\n",
       "      <td>38.13</td>\n",
       "    </tr>\n",
       "    <tr>\n",
       "      <th>f1_score</th>\n",
       "      <td>-</td>\n",
       "      <td>62.84</td>\n",
       "      <td>42.00</td>\n",
       "      <td>-</td>\n",
       "      <td>15.56</td>\n",
       "      <td>52.90</td>\n",
       "      <td>43.32</td>\n",
       "    </tr>\n",
       "    <tr>\n",
       "      <th rowspan=\"3\" valign=\"top\">DeBERTa v3 tuned</th>\n",
       "      <th>precision</th>\n",
       "      <td>-</td>\n",
       "      <td>64.21</td>\n",
       "      <td>63.63</td>\n",
       "      <td>-</td>\n",
       "      <td>71.74</td>\n",
       "      <td>70.18</td>\n",
       "      <td>67.44</td>\n",
       "    </tr>\n",
       "    <tr>\n",
       "      <th>recall</th>\n",
       "      <td>-</td>\n",
       "      <td>72.78</td>\n",
       "      <td>59.09</td>\n",
       "      <td>-</td>\n",
       "      <td>20.62</td>\n",
       "      <td>53.32</td>\n",
       "      <td>51.45</td>\n",
       "    </tr>\n",
       "    <tr>\n",
       "      <th>f1_score</th>\n",
       "      <td>-</td>\n",
       "      <td>68.22</td>\n",
       "      <td>61.28</td>\n",
       "      <td>-</td>\n",
       "      <td>32.04</td>\n",
       "      <td>60.60</td>\n",
       "      <td>55.54</td>\n",
       "    </tr>\n",
       "  </tbody>\n",
       "</table>\n",
       "</div>\n",
       "    <div class=\"colab-df-buttons\">\n",
       "\n",
       "  <div class=\"colab-df-container\">\n",
       "    <button class=\"colab-df-convert\" onclick=\"convertToInteractive('df-74ee17ed-7c0b-4b44-9510-b52d232d1d08')\"\n",
       "            title=\"Convert this dataframe to an interactive table.\"\n",
       "            style=\"display:none;\">\n",
       "\n",
       "  <svg xmlns=\"http://www.w3.org/2000/svg\" height=\"24px\" viewBox=\"0 -960 960 960\">\n",
       "    <path d=\"M120-120v-720h720v720H120Zm60-500h600v-160H180v160Zm220 220h160v-160H400v160Zm0 220h160v-160H400v160ZM180-400h160v-160H180v160Zm440 0h160v-160H620v160ZM180-180h160v-160H180v160Zm440 0h160v-160H620v160Z\"/>\n",
       "  </svg>\n",
       "    </button>\n",
       "\n",
       "  <style>\n",
       "    .colab-df-container {\n",
       "      display:flex;\n",
       "      gap: 12px;\n",
       "    }\n",
       "\n",
       "    .colab-df-convert {\n",
       "      background-color: #E8F0FE;\n",
       "      border: none;\n",
       "      border-radius: 50%;\n",
       "      cursor: pointer;\n",
       "      display: none;\n",
       "      fill: #1967D2;\n",
       "      height: 32px;\n",
       "      padding: 0 0 0 0;\n",
       "      width: 32px;\n",
       "    }\n",
       "\n",
       "    .colab-df-convert:hover {\n",
       "      background-color: #E2EBFA;\n",
       "      box-shadow: 0px 1px 2px rgba(60, 64, 67, 0.3), 0px 1px 3px 1px rgba(60, 64, 67, 0.15);\n",
       "      fill: #174EA6;\n",
       "    }\n",
       "\n",
       "    .colab-df-buttons div {\n",
       "      margin-bottom: 4px;\n",
       "    }\n",
       "\n",
       "    [theme=dark] .colab-df-convert {\n",
       "      background-color: #3B4455;\n",
       "      fill: #D2E3FC;\n",
       "    }\n",
       "\n",
       "    [theme=dark] .colab-df-convert:hover {\n",
       "      background-color: #434B5C;\n",
       "      box-shadow: 0px 1px 3px 1px rgba(0, 0, 0, 0.15);\n",
       "      filter: drop-shadow(0px 1px 2px rgba(0, 0, 0, 0.3));\n",
       "      fill: #FFFFFF;\n",
       "    }\n",
       "  </style>\n",
       "\n",
       "    <script>\n",
       "      const buttonEl =\n",
       "        document.querySelector('#df-74ee17ed-7c0b-4b44-9510-b52d232d1d08 button.colab-df-convert');\n",
       "      buttonEl.style.display =\n",
       "        google.colab.kernel.accessAllowed ? 'block' : 'none';\n",
       "\n",
       "      async function convertToInteractive(key) {\n",
       "        const element = document.querySelector('#df-74ee17ed-7c0b-4b44-9510-b52d232d1d08');\n",
       "        const dataTable =\n",
       "          await google.colab.kernel.invokeFunction('convertToInteractive',\n",
       "                                                    [key], {});\n",
       "        if (!dataTable) return;\n",
       "\n",
       "        const docLinkHtml = 'Like what you see? Visit the ' +\n",
       "          '<a target=\"_blank\" href=https://colab.research.google.com/notebooks/data_table.ipynb>data table notebook</a>'\n",
       "          + ' to learn more about interactive tables.';\n",
       "        element.innerHTML = '';\n",
       "        dataTable['output_type'] = 'display_data';\n",
       "        await google.colab.output.renderOutput(dataTable, element);\n",
       "        const docLink = document.createElement('div');\n",
       "        docLink.innerHTML = docLinkHtml;\n",
       "        element.appendChild(docLink);\n",
       "      }\n",
       "    </script>\n",
       "  </div>\n",
       "\n",
       "\n",
       "<div id=\"df-bfec1d7b-e3f2-4556-aac6-d24b376330e4\">\n",
       "  <button class=\"colab-df-quickchart\" onclick=\"quickchart('df-bfec1d7b-e3f2-4556-aac6-d24b376330e4')\"\n",
       "            title=\"Suggest charts\"\n",
       "            style=\"display:none;\">\n",
       "\n",
       "<svg xmlns=\"http://www.w3.org/2000/svg\" height=\"24px\"viewBox=\"0 0 24 24\"\n",
       "     width=\"24px\">\n",
       "    <g>\n",
       "        <path d=\"M19 3H5c-1.1 0-2 .9-2 2v14c0 1.1.9 2 2 2h14c1.1 0 2-.9 2-2V5c0-1.1-.9-2-2-2zM9 17H7v-7h2v7zm4 0h-2V7h2v10zm4 0h-2v-4h2v4z\"/>\n",
       "    </g>\n",
       "</svg>\n",
       "  </button>\n",
       "\n",
       "<style>\n",
       "  .colab-df-quickchart {\n",
       "      --bg-color: #E8F0FE;\n",
       "      --fill-color: #1967D2;\n",
       "      --hover-bg-color: #E2EBFA;\n",
       "      --hover-fill-color: #174EA6;\n",
       "      --disabled-fill-color: #AAA;\n",
       "      --disabled-bg-color: #DDD;\n",
       "  }\n",
       "\n",
       "  [theme=dark] .colab-df-quickchart {\n",
       "      --bg-color: #3B4455;\n",
       "      --fill-color: #D2E3FC;\n",
       "      --hover-bg-color: #434B5C;\n",
       "      --hover-fill-color: #FFFFFF;\n",
       "      --disabled-bg-color: #3B4455;\n",
       "      --disabled-fill-color: #666;\n",
       "  }\n",
       "\n",
       "  .colab-df-quickchart {\n",
       "    background-color: var(--bg-color);\n",
       "    border: none;\n",
       "    border-radius: 50%;\n",
       "    cursor: pointer;\n",
       "    display: none;\n",
       "    fill: var(--fill-color);\n",
       "    height: 32px;\n",
       "    padding: 0;\n",
       "    width: 32px;\n",
       "  }\n",
       "\n",
       "  .colab-df-quickchart:hover {\n",
       "    background-color: var(--hover-bg-color);\n",
       "    box-shadow: 0 1px 2px rgba(60, 64, 67, 0.3), 0 1px 3px 1px rgba(60, 64, 67, 0.15);\n",
       "    fill: var(--button-hover-fill-color);\n",
       "  }\n",
       "\n",
       "  .colab-df-quickchart-complete:disabled,\n",
       "  .colab-df-quickchart-complete:disabled:hover {\n",
       "    background-color: var(--disabled-bg-color);\n",
       "    fill: var(--disabled-fill-color);\n",
       "    box-shadow: none;\n",
       "  }\n",
       "\n",
       "  .colab-df-spinner {\n",
       "    border: 2px solid var(--fill-color);\n",
       "    border-color: transparent;\n",
       "    border-bottom-color: var(--fill-color);\n",
       "    animation:\n",
       "      spin 1s steps(1) infinite;\n",
       "  }\n",
       "\n",
       "  @keyframes spin {\n",
       "    0% {\n",
       "      border-color: transparent;\n",
       "      border-bottom-color: var(--fill-color);\n",
       "      border-left-color: var(--fill-color);\n",
       "    }\n",
       "    20% {\n",
       "      border-color: transparent;\n",
       "      border-left-color: var(--fill-color);\n",
       "      border-top-color: var(--fill-color);\n",
       "    }\n",
       "    30% {\n",
       "      border-color: transparent;\n",
       "      border-left-color: var(--fill-color);\n",
       "      border-top-color: var(--fill-color);\n",
       "      border-right-color: var(--fill-color);\n",
       "    }\n",
       "    40% {\n",
       "      border-color: transparent;\n",
       "      border-right-color: var(--fill-color);\n",
       "      border-top-color: var(--fill-color);\n",
       "    }\n",
       "    60% {\n",
       "      border-color: transparent;\n",
       "      border-right-color: var(--fill-color);\n",
       "    }\n",
       "    80% {\n",
       "      border-color: transparent;\n",
       "      border-right-color: var(--fill-color);\n",
       "      border-bottom-color: var(--fill-color);\n",
       "    }\n",
       "    90% {\n",
       "      border-color: transparent;\n",
       "      border-bottom-color: var(--fill-color);\n",
       "    }\n",
       "  }\n",
       "</style>\n",
       "\n",
       "  <script>\n",
       "    async function quickchart(key) {\n",
       "      const quickchartButtonEl =\n",
       "        document.querySelector('#' + key + ' button');\n",
       "      quickchartButtonEl.disabled = true;  // To prevent multiple clicks.\n",
       "      quickchartButtonEl.classList.add('colab-df-spinner');\n",
       "      try {\n",
       "        const charts = await google.colab.kernel.invokeFunction(\n",
       "            'suggestCharts', [key], {});\n",
       "      } catch (error) {\n",
       "        console.error('Error during call to suggestCharts:', error);\n",
       "      }\n",
       "      quickchartButtonEl.classList.remove('colab-df-spinner');\n",
       "      quickchartButtonEl.classList.add('colab-df-quickchart-complete');\n",
       "    }\n",
       "    (() => {\n",
       "      let quickchartButtonEl =\n",
       "        document.querySelector('#df-bfec1d7b-e3f2-4556-aac6-d24b376330e4 button');\n",
       "      quickchartButtonEl.style.display =\n",
       "        google.colab.kernel.accessAllowed ? 'block' : 'none';\n",
       "    })();\n",
       "  </script>\n",
       "</div>\n",
       "\n",
       "  <div id=\"id_de2845e9-cc91-4b69-9dab-220de9fa3397\">\n",
       "    <style>\n",
       "      .colab-df-generate {\n",
       "        background-color: #E8F0FE;\n",
       "        border: none;\n",
       "        border-radius: 50%;\n",
       "        cursor: pointer;\n",
       "        display: none;\n",
       "        fill: #1967D2;\n",
       "        height: 32px;\n",
       "        padding: 0 0 0 0;\n",
       "        width: 32px;\n",
       "      }\n",
       "\n",
       "      .colab-df-generate:hover {\n",
       "        background-color: #E2EBFA;\n",
       "        box-shadow: 0px 1px 2px rgba(60, 64, 67, 0.3), 0px 1px 3px 1px rgba(60, 64, 67, 0.15);\n",
       "        fill: #174EA6;\n",
       "      }\n",
       "\n",
       "      [theme=dark] .colab-df-generate {\n",
       "        background-color: #3B4455;\n",
       "        fill: #D2E3FC;\n",
       "      }\n",
       "\n",
       "      [theme=dark] .colab-df-generate:hover {\n",
       "        background-color: #434B5C;\n",
       "        box-shadow: 0px 1px 3px 1px rgba(0, 0, 0, 0.15);\n",
       "        filter: drop-shadow(0px 1px 2px rgba(0, 0, 0, 0.3));\n",
       "        fill: #FFFFFF;\n",
       "      }\n",
       "    </style>\n",
       "    <button class=\"colab-df-generate\" onclick=\"generateWithVariable('results')\"\n",
       "            title=\"Generate code using this dataframe.\"\n",
       "            style=\"display:none;\">\n",
       "\n",
       "  <svg xmlns=\"http://www.w3.org/2000/svg\" height=\"24px\"viewBox=\"0 0 24 24\"\n",
       "       width=\"24px\">\n",
       "    <path d=\"M7,19H8.4L18.45,9,17,7.55,7,17.6ZM5,21V16.75L18.45,3.32a2,2,0,0,1,2.83,0l1.4,1.43a1.91,1.91,0,0,1,.58,1.4,1.91,1.91,0,0,1-.58,1.4L9.25,21ZM18.45,9,17,7.55Zm-12,3A5.31,5.31,0,0,0,4.9,8.1,5.31,5.31,0,0,0,1,6.5,5.31,5.31,0,0,0,4.9,4.9,5.31,5.31,0,0,0,6.5,1,5.31,5.31,0,0,0,8.1,4.9,5.31,5.31,0,0,0,12,6.5,5.46,5.46,0,0,0,6.5,12Z\"/>\n",
       "  </svg>\n",
       "    </button>\n",
       "    <script>\n",
       "      (() => {\n",
       "      const buttonEl =\n",
       "        document.querySelector('#id_de2845e9-cc91-4b69-9dab-220de9fa3397 button.colab-df-generate');\n",
       "      buttonEl.style.display =\n",
       "        google.colab.kernel.accessAllowed ? 'block' : 'none';\n",
       "\n",
       "      buttonEl.onclick = () => {\n",
       "        google.colab.notebook.generateWithVariable('results');\n",
       "      }\n",
       "      })();\n",
       "    </script>\n",
       "  </div>\n",
       "\n",
       "    </div>\n",
       "  </div>\n"
      ],
      "text/plain": [
       "                           UPPERCASE  PERIOD  COMMA COLON  EXCLAMATION  \\\n",
       "DeBERTa v3       precision         -   61.70  58.17     -        70.00   \n",
       "                 recall            -   64.01  32.86     -         8.75   \n",
       "                 f1_score          -   62.84  42.00     -        15.56   \n",
       "DeBERTa v3 tuned precision         -   64.21  63.63     -        71.74   \n",
       "                 recall            -   72.78  59.09     -        20.62   \n",
       "                 f1_score          -   68.22  61.28     -        32.04   \n",
       "\n",
       "                            QUESTION   mean  \n",
       "DeBERTa v3       precision     60.65  62.63  \n",
       "                 recall        46.91  38.13  \n",
       "                 f1_score      52.90  43.32  \n",
       "DeBERTa v3 tuned precision     70.18  67.44  \n",
       "                 recall        53.32  51.45  \n",
       "                 f1_score      60.60  55.54  "
      ]
     },
     "execution_count": 84,
     "metadata": {},
     "output_type": "execute_result"
    }
   ],
   "source": [
    "results"
   ]
  },
  {
   "cell_type": "code",
   "execution_count": 85,
   "metadata": {
    "colab": {
     "base_uri": "https://localhost:8080/"
    },
    "executionInfo": {
     "elapsed": 2,
     "status": "ok",
     "timestamp": 1704960721541,
     "user": {
      "displayName": "Louissko",
      "userId": "00337720139601541087"
     },
     "user_tz": -180
    },
    "id": "1-HS0Qn9kYrK",
    "outputId": "053417d1-6e64-4ce3-ac7d-a5e961656fe3"
   },
   "outputs": [
    {
     "name": "stdout",
     "output_type": "stream",
     "text": [
      "\\begin{tabular}{lllrrlrrr}\n",
      "\\toprule\n",
      "                 &          & UPPERCASE &  PERIOD &  COMMA & COLON &  EXCLAMATION &  QUESTION &   mean \\\\\n",
      "\\midrule\n",
      "\\multirow{3}{*}{DeBERTa v3} & precision &         - &   61.70 &  58.17 &     - &        70.00 &     60.65 &  62.63 \\\\\n",
      "                 & recall &         - &   64.01 &  32.86 &     - &         8.75 &     46.91 &  38.13 \\\\\n",
      "                 & f1_score &         - &   62.84 &  42.00 &     - &        15.56 &     52.90 &  43.32 \\\\\n",
      "\\cline{1-9}\n",
      "\\multirow{3}{*}{DeBERTa v3 tuned} & precision &         - &   64.21 &  63.63 &     - &        71.74 &     70.18 &  67.44 \\\\\n",
      "                 & recall &         - &   72.78 &  59.09 &     - &        20.62 &     53.32 &  51.45 \\\\\n",
      "                 & f1_score &         - &   68.22 &  61.28 &     - &        32.04 &     60.60 &  55.54 \\\\\n",
      "\\bottomrule\n",
      "\\end{tabular}\n",
      "\n"
     ]
    },
    {
     "name": "stderr",
     "output_type": "stream",
     "text": [
      "<ipython-input-85-b896a64ab36c>:1: FutureWarning: In future versions `DataFrame.to_latex` is expected to utilise the base implementation of `Styler.to_latex` for formatting and rendering. The arguments signature may therefore change. It is recommended instead to use `DataFrame.style.to_latex` which also contains additional functionality.\n",
      "  print(results.to_latex(escape=False, multirow=True))\n"
     ]
    }
   ],
   "source": [
    "print(results.to_latex(escape=False, multirow=True))"
   ]
  }
 ],
 "metadata": {
  "accelerator": "GPU",
  "colab": {
   "collapsed_sections": [
    "EQPyrqkOYn9B",
    "fC0b99uMAN58",
    "8XezZyt7Ol2A",
    "CRk8wKE_eHyG",
    "kwT2jfSAHVuv",
    "5uRmSMmk01LP",
    "TsVpjTys01Le",
    "vDtsXMoMMlky",
    "2OoLFxaXMoX9",
    "VSNJp9v_b0y6",
    "P0GzRl7Hb0zA",
    "rPJIdOfCu7mI",
    "5Ag1H74Au7mP",
    "IvRik5avU26v"
   ],
   "gpuType": "V100",
   "machine_shape": "hm",
   "provenance": [
    {
     "file_id": "10zhiUs7w28gY7GEDmU6AXUiD-KrQSgH2",
     "timestamp": 1700914101044
    }
   ]
  },
  "kernelspec": {
   "display_name": "Python 3 (ipykernel)",
   "language": "python",
   "name": "python3"
  },
  "language_info": {
   "codemirror_mode": {
    "name": "ipython",
    "version": 3
   },
   "file_extension": ".py",
   "mimetype": "text/x-python",
   "name": "python",
   "nbconvert_exporter": "python",
   "pygments_lexer": "ipython3",
   "version": "3.8.18"
  },
  "widgets": {
   "application/vnd.jupyter.widget-state+json": {
    "01f047b66b4a4d31bc3813d1e7b88635": {
     "model_module": "@jupyter-widgets/controls",
     "model_module_version": "1.5.0",
     "model_name": "DescriptionStyleModel",
     "state": {
      "_model_module": "@jupyter-widgets/controls",
      "_model_module_version": "1.5.0",
      "_model_name": "DescriptionStyleModel",
      "_view_count": null,
      "_view_module": "@jupyter-widgets/base",
      "_view_module_version": "1.2.0",
      "_view_name": "StyleView",
      "description_width": ""
     }
    },
    "038b2325f3aa4db1b6d42e581671e7de": {
     "model_module": "@jupyter-widgets/controls",
     "model_module_version": "1.5.0",
     "model_name": "HBoxModel",
     "state": {
      "_dom_classes": [],
      "_model_module": "@jupyter-widgets/controls",
      "_model_module_version": "1.5.0",
      "_model_name": "HBoxModel",
      "_view_count": null,
      "_view_module": "@jupyter-widgets/controls",
      "_view_module_version": "1.5.0",
      "_view_name": "HBoxView",
      "box_style": "",
      "children": [
       "IPY_MODEL_5f731628836045cfb0b2adf7c56a9205",
       "IPY_MODEL_3a32f5b20d704b40b9b47cd5226ff7f3",
       "IPY_MODEL_b030038552294669a3e02f0367907fa2"
      ],
      "layout": "IPY_MODEL_a33034972dfd4eb08fc807aab2fc4f7b"
     }
    },
    "04442a102489495f8bee5c3715e75008": {
     "model_module": "@jupyter-widgets/controls",
     "model_module_version": "1.5.0",
     "model_name": "ProgressStyleModel",
     "state": {
      "_model_module": "@jupyter-widgets/controls",
      "_model_module_version": "1.5.0",
      "_model_name": "ProgressStyleModel",
      "_view_count": null,
      "_view_module": "@jupyter-widgets/base",
      "_view_module_version": "1.2.0",
      "_view_name": "StyleView",
      "bar_color": null,
      "description_width": ""
     }
    },
    "0494d237cc2d42dabe6f259244f44cee": {
     "model_module": "@jupyter-widgets/controls",
     "model_module_version": "1.5.0",
     "model_name": "ProgressStyleModel",
     "state": {
      "_model_module": "@jupyter-widgets/controls",
      "_model_module_version": "1.5.0",
      "_model_name": "ProgressStyleModel",
      "_view_count": null,
      "_view_module": "@jupyter-widgets/base",
      "_view_module_version": "1.2.0",
      "_view_name": "StyleView",
      "bar_color": null,
      "description_width": ""
     }
    },
    "0535874d4cdf4fa194cbe6d99eca2992": {
     "model_module": "@jupyter-widgets/controls",
     "model_module_version": "1.5.0",
     "model_name": "HTMLModel",
     "state": {
      "_dom_classes": [],
      "_model_module": "@jupyter-widgets/controls",
      "_model_module_version": "1.5.0",
      "_model_name": "HTMLModel",
      "_view_count": null,
      "_view_module": "@jupyter-widgets/controls",
      "_view_module_version": "1.5.0",
      "_view_name": "HTMLView",
      "description": "",
      "description_tooltip": null,
      "layout": "IPY_MODEL_b0e317a2900540adae99b4eae021763a",
      "placeholder": "​",
      "style": "IPY_MODEL_fb70e506c211493db39b115106db8c5c",
      "value": "config.json: 100%"
     }
    },
    "0541d50a27c04fb687b8c5b637623ac8": {
     "model_module": "@jupyter-widgets/controls",
     "model_module_version": "1.5.0",
     "model_name": "HTMLModel",
     "state": {
      "_dom_classes": [],
      "_model_module": "@jupyter-widgets/controls",
      "_model_module_version": "1.5.0",
      "_model_name": "HTMLModel",
      "_view_count": null,
      "_view_module": "@jupyter-widgets/controls",
      "_view_module_version": "1.5.0",
      "_view_name": "HTMLView",
      "description": "",
      "description_tooltip": null,
      "layout": "IPY_MODEL_87e3271aba1f4dbdb9ce48e676f9216d",
      "placeholder": "​",
      "style": "IPY_MODEL_da66a6f5af904c6da1bd2789672b84d3",
      "value": "model.safetensors: 100%"
     }
    },
    "08af3d4938d044bd89e383b5d0e85858": {
     "model_module": "@jupyter-widgets/controls",
     "model_module_version": "1.5.0",
     "model_name": "HTMLModel",
     "state": {
      "_dom_classes": [],
      "_model_module": "@jupyter-widgets/controls",
      "_model_module_version": "1.5.0",
      "_model_name": "HTMLModel",
      "_view_count": null,
      "_view_module": "@jupyter-widgets/controls",
      "_view_module_version": "1.5.0",
      "_view_name": "HTMLView",
      "description": "",
      "description_tooltip": null,
      "layout": "IPY_MODEL_40dc312b849d4ee498887d608cc25d12",
      "placeholder": "​",
      "style": "IPY_MODEL_251dd3b195624e588a61e5f4217aa2a1",
      "value": " 579/579 [00:00&lt;00:00, 54.7kB/s]"
     }
    },
    "0918c9fa7f554ed6afb59d143ecb551f": {
     "model_module": "@jupyter-widgets/controls",
     "model_module_version": "1.5.0",
     "model_name": "ProgressStyleModel",
     "state": {
      "_model_module": "@jupyter-widgets/controls",
      "_model_module_version": "1.5.0",
      "_model_name": "ProgressStyleModel",
      "_view_count": null,
      "_view_module": "@jupyter-widgets/base",
      "_view_module_version": "1.2.0",
      "_view_name": "StyleView",
      "bar_color": null,
      "description_width": ""
     }
    },
    "1150ba3c0a6f49aca5cc7fcba2c15b2b": {
     "model_module": "@jupyter-widgets/controls",
     "model_module_version": "1.5.0",
     "model_name": "ProgressStyleModel",
     "state": {
      "_model_module": "@jupyter-widgets/controls",
      "_model_module_version": "1.5.0",
      "_model_name": "ProgressStyleModel",
      "_view_count": null,
      "_view_module": "@jupyter-widgets/base",
      "_view_module_version": "1.2.0",
      "_view_name": "StyleView",
      "bar_color": null,
      "description_width": ""
     }
    },
    "12912dfee48c44d2b226070e88cc85ec": {
     "model_module": "@jupyter-widgets/controls",
     "model_module_version": "1.5.0",
     "model_name": "DescriptionStyleModel",
     "state": {
      "_model_module": "@jupyter-widgets/controls",
      "_model_module_version": "1.5.0",
      "_model_name": "DescriptionStyleModel",
      "_view_count": null,
      "_view_module": "@jupyter-widgets/base",
      "_view_module_version": "1.2.0",
      "_view_name": "StyleView",
      "description_width": ""
     }
    },
    "1699193a8e204677b2f6b7f3fb4188fb": {
     "model_module": "@jupyter-widgets/controls",
     "model_module_version": "1.5.0",
     "model_name": "ProgressStyleModel",
     "state": {
      "_model_module": "@jupyter-widgets/controls",
      "_model_module_version": "1.5.0",
      "_model_name": "ProgressStyleModel",
      "_view_count": null,
      "_view_module": "@jupyter-widgets/base",
      "_view_module_version": "1.2.0",
      "_view_name": "StyleView",
      "bar_color": null,
      "description_width": ""
     }
    },
    "170ce8d70e2e434a957a204fef958d0e": {
     "model_module": "@jupyter-widgets/base",
     "model_module_version": "1.2.0",
     "model_name": "LayoutModel",
     "state": {
      "_model_module": "@jupyter-widgets/base",
      "_model_module_version": "1.2.0",
      "_model_name": "LayoutModel",
      "_view_count": null,
      "_view_module": "@jupyter-widgets/base",
      "_view_module_version": "1.2.0",
      "_view_name": "LayoutView",
      "align_content": null,
      "align_items": null,
      "align_self": null,
      "border": null,
      "bottom": null,
      "display": null,
      "flex": null,
      "flex_flow": null,
      "grid_area": null,
      "grid_auto_columns": null,
      "grid_auto_flow": null,
      "grid_auto_rows": null,
      "grid_column": null,
      "grid_gap": null,
      "grid_row": null,
      "grid_template_areas": null,
      "grid_template_columns": null,
      "grid_template_rows": null,
      "height": null,
      "justify_content": null,
      "justify_items": null,
      "left": null,
      "margin": null,
      "max_height": null,
      "max_width": null,
      "min_height": null,
      "min_width": null,
      "object_fit": null,
      "object_position": null,
      "order": null,
      "overflow": null,
      "overflow_x": null,
      "overflow_y": null,
      "padding": null,
      "right": null,
      "top": null,
      "visibility": null,
      "width": null
     }
    },
    "19b664cb659b4281addeacb6c8af421b": {
     "model_module": "@jupyter-widgets/controls",
     "model_module_version": "1.5.0",
     "model_name": "DescriptionStyleModel",
     "state": {
      "_model_module": "@jupyter-widgets/controls",
      "_model_module_version": "1.5.0",
      "_model_name": "DescriptionStyleModel",
      "_view_count": null,
      "_view_module": "@jupyter-widgets/base",
      "_view_module_version": "1.2.0",
      "_view_name": "StyleView",
      "description_width": ""
     }
    },
    "203440420d264cb68fd0b23967f325a1": {
     "model_module": "@jupyter-widgets/controls",
     "model_module_version": "1.5.0",
     "model_name": "FloatProgressModel",
     "state": {
      "_dom_classes": [],
      "_model_module": "@jupyter-widgets/controls",
      "_model_module_version": "1.5.0",
      "_model_name": "FloatProgressModel",
      "_view_count": null,
      "_view_module": "@jupyter-widgets/controls",
      "_view_module_version": "1.5.0",
      "_view_name": "ProgressView",
      "bar_style": "success",
      "description": "",
      "description_tooltip": null,
      "layout": "IPY_MODEL_4499e8bca8ea42e4b7c018efec5cee91",
      "max": 52,
      "min": 0,
      "orientation": "horizontal",
      "style": "IPY_MODEL_04442a102489495f8bee5c3715e75008",
      "value": 52
     }
    },
    "20f431bdaec44f8c9a2fb5f93d14e52b": {
     "model_module": "@jupyter-widgets/controls",
     "model_module_version": "1.5.0",
     "model_name": "FloatProgressModel",
     "state": {
      "_dom_classes": [],
      "_model_module": "@jupyter-widgets/controls",
      "_model_module_version": "1.5.0",
      "_model_name": "FloatProgressModel",
      "_view_count": null,
      "_view_module": "@jupyter-widgets/controls",
      "_view_module_version": "1.5.0",
      "_view_name": "ProgressView",
      "bar_style": "success",
      "description": "",
      "description_tooltip": null,
      "layout": "IPY_MODEL_d8405598ccfa4498a9db2e4ec5aa8526",
      "max": 456318,
      "min": 0,
      "orientation": "horizontal",
      "style": "IPY_MODEL_60cf29b1f258459ea3c913b17eb74c89",
      "value": 456318
     }
    },
    "251dd3b195624e588a61e5f4217aa2a1": {
     "model_module": "@jupyter-widgets/controls",
     "model_module_version": "1.5.0",
     "model_name": "DescriptionStyleModel",
     "state": {
      "_model_module": "@jupyter-widgets/controls",
      "_model_module_version": "1.5.0",
      "_model_name": "DescriptionStyleModel",
      "_view_count": null,
      "_view_module": "@jupyter-widgets/base",
      "_view_module_version": "1.2.0",
      "_view_name": "StyleView",
      "description_width": ""
     }
    },
    "258999b58d0f42bfa536ad023b8c68e9": {
     "model_module": "@jupyter-widgets/base",
     "model_module_version": "1.2.0",
     "model_name": "LayoutModel",
     "state": {
      "_model_module": "@jupyter-widgets/base",
      "_model_module_version": "1.2.0",
      "_model_name": "LayoutModel",
      "_view_count": null,
      "_view_module": "@jupyter-widgets/base",
      "_view_module_version": "1.2.0",
      "_view_name": "LayoutView",
      "align_content": null,
      "align_items": null,
      "align_self": null,
      "border": null,
      "bottom": null,
      "display": null,
      "flex": null,
      "flex_flow": null,
      "grid_area": null,
      "grid_auto_columns": null,
      "grid_auto_flow": null,
      "grid_auto_rows": null,
      "grid_column": null,
      "grid_gap": null,
      "grid_row": null,
      "grid_template_areas": null,
      "grid_template_columns": null,
      "grid_template_rows": null,
      "height": null,
      "justify_content": null,
      "justify_items": null,
      "left": null,
      "margin": null,
      "max_height": null,
      "max_width": null,
      "min_height": null,
      "min_width": null,
      "object_fit": null,
      "object_position": null,
      "order": null,
      "overflow": null,
      "overflow_x": null,
      "overflow_y": null,
      "padding": null,
      "right": null,
      "top": null,
      "visibility": null,
      "width": null
     }
    },
    "269b7139fa674430809b185d3ecdd6d4": {
     "model_module": "@jupyter-widgets/base",
     "model_module_version": "1.2.0",
     "model_name": "LayoutModel",
     "state": {
      "_model_module": "@jupyter-widgets/base",
      "_model_module_version": "1.2.0",
      "_model_name": "LayoutModel",
      "_view_count": null,
      "_view_module": "@jupyter-widgets/base",
      "_view_module_version": "1.2.0",
      "_view_name": "LayoutView",
      "align_content": null,
      "align_items": null,
      "align_self": null,
      "border": null,
      "bottom": null,
      "display": null,
      "flex": null,
      "flex_flow": null,
      "grid_area": null,
      "grid_auto_columns": null,
      "grid_auto_flow": null,
      "grid_auto_rows": null,
      "grid_column": null,
      "grid_gap": null,
      "grid_row": null,
      "grid_template_areas": null,
      "grid_template_columns": null,
      "grid_template_rows": null,
      "height": null,
      "justify_content": null,
      "justify_items": null,
      "left": null,
      "margin": null,
      "max_height": null,
      "max_width": null,
      "min_height": null,
      "min_width": null,
      "object_fit": null,
      "object_position": null,
      "order": null,
      "overflow": null,
      "overflow_x": null,
      "overflow_y": null,
      "padding": null,
      "right": null,
      "top": null,
      "visibility": null,
      "width": null
     }
    },
    "290c3a3ea5374b26b98e84463cb975d7": {
     "model_module": "@jupyter-widgets/controls",
     "model_module_version": "1.5.0",
     "model_name": "HBoxModel",
     "state": {
      "_dom_classes": [],
      "_model_module": "@jupyter-widgets/controls",
      "_model_module_version": "1.5.0",
      "_model_name": "HBoxModel",
      "_view_count": null,
      "_view_module": "@jupyter-widgets/controls",
      "_view_module_version": "1.5.0",
      "_view_name": "HBoxView",
      "box_style": "",
      "children": [
       "IPY_MODEL_b193582ca97a4e6e814a1bb2a78960af",
       "IPY_MODEL_658c161376064619981a93cd88191408",
       "IPY_MODEL_ad7639bc9d514887898fb70126f2d6d7"
      ],
      "layout": "IPY_MODEL_d0c580f7f01048809d75098819369eb1"
     }
    },
    "291f141dfb0b450ba63bef953c90d85b": {
     "model_module": "@jupyter-widgets/controls",
     "model_module_version": "1.5.0",
     "model_name": "DescriptionStyleModel",
     "state": {
      "_model_module": "@jupyter-widgets/controls",
      "_model_module_version": "1.5.0",
      "_model_name": "DescriptionStyleModel",
      "_view_count": null,
      "_view_module": "@jupyter-widgets/base",
      "_view_module_version": "1.2.0",
      "_view_name": "StyleView",
      "description_width": ""
     }
    },
    "29682c88753f4224acef5321c78cb951": {
     "model_module": "@jupyter-widgets/base",
     "model_module_version": "1.2.0",
     "model_name": "LayoutModel",
     "state": {
      "_model_module": "@jupyter-widgets/base",
      "_model_module_version": "1.2.0",
      "_model_name": "LayoutModel",
      "_view_count": null,
      "_view_module": "@jupyter-widgets/base",
      "_view_module_version": "1.2.0",
      "_view_name": "LayoutView",
      "align_content": null,
      "align_items": null,
      "align_self": null,
      "border": null,
      "bottom": null,
      "display": null,
      "flex": null,
      "flex_flow": null,
      "grid_area": null,
      "grid_auto_columns": null,
      "grid_auto_flow": null,
      "grid_auto_rows": null,
      "grid_column": null,
      "grid_gap": null,
      "grid_row": null,
      "grid_template_areas": null,
      "grid_template_columns": null,
      "grid_template_rows": null,
      "height": null,
      "justify_content": null,
      "justify_items": null,
      "left": null,
      "margin": null,
      "max_height": null,
      "max_width": null,
      "min_height": null,
      "min_width": null,
      "object_fit": null,
      "object_position": null,
      "order": null,
      "overflow": null,
      "overflow_x": null,
      "overflow_y": null,
      "padding": null,
      "right": null,
      "top": null,
      "visibility": null,
      "width": null
     }
    },
    "3225bcd8785e460a855105d386a4cb93": {
     "model_module": "@jupyter-widgets/controls",
     "model_module_version": "1.5.0",
     "model_name": "FloatProgressModel",
     "state": {
      "_dom_classes": [],
      "_model_module": "@jupyter-widgets/controls",
      "_model_module_version": "1.5.0",
      "_model_name": "FloatProgressModel",
      "_view_count": null,
      "_view_module": "@jupyter-widgets/controls",
      "_view_module_version": "1.5.0",
      "_view_name": "ProgressView",
      "bar_style": "success",
      "description": "",
      "description_tooltip": null,
      "layout": "IPY_MODEL_b8104c55b6b546ebbfb6025acbcd7ed3",
      "max": 579,
      "min": 0,
      "orientation": "horizontal",
      "style": "IPY_MODEL_0494d237cc2d42dabe6f259244f44cee",
      "value": 579
     }
    },
    "3a32f5b20d704b40b9b47cd5226ff7f3": {
     "model_module": "@jupyter-widgets/controls",
     "model_module_version": "1.5.0",
     "model_name": "FloatProgressModel",
     "state": {
      "_dom_classes": [],
      "_model_module": "@jupyter-widgets/controls",
      "_model_module_version": "1.5.0",
      "_model_name": "FloatProgressModel",
      "_view_count": null,
      "_view_module": "@jupyter-widgets/controls",
      "_view_module_version": "1.5.0",
      "_view_name": "ProgressView",
      "bar_style": "success",
      "description": "",
      "description_tooltip": null,
      "layout": "IPY_MODEL_571f25f68523404c8b1eddcf7b6beeca",
      "max": 481,
      "min": 0,
      "orientation": "horizontal",
      "style": "IPY_MODEL_1150ba3c0a6f49aca5cc7fcba2c15b2b",
      "value": 481
     }
    },
    "40dc312b849d4ee498887d608cc25d12": {
     "model_module": "@jupyter-widgets/base",
     "model_module_version": "1.2.0",
     "model_name": "LayoutModel",
     "state": {
      "_model_module": "@jupyter-widgets/base",
      "_model_module_version": "1.2.0",
      "_model_name": "LayoutModel",
      "_view_count": null,
      "_view_module": "@jupyter-widgets/base",
      "_view_module_version": "1.2.0",
      "_view_name": "LayoutView",
      "align_content": null,
      "align_items": null,
      "align_self": null,
      "border": null,
      "bottom": null,
      "display": null,
      "flex": null,
      "flex_flow": null,
      "grid_area": null,
      "grid_auto_columns": null,
      "grid_auto_flow": null,
      "grid_auto_rows": null,
      "grid_column": null,
      "grid_gap": null,
      "grid_row": null,
      "grid_template_areas": null,
      "grid_template_columns": null,
      "grid_template_rows": null,
      "height": null,
      "justify_content": null,
      "justify_items": null,
      "left": null,
      "margin": null,
      "max_height": null,
      "max_width": null,
      "min_height": null,
      "min_width": null,
      "object_fit": null,
      "object_position": null,
      "order": null,
      "overflow": null,
      "overflow_x": null,
      "overflow_y": null,
      "padding": null,
      "right": null,
      "top": null,
      "visibility": null,
      "width": null
     }
    },
    "4172a10e755d4ca6a0ae926c73f07687": {
     "model_module": "@jupyter-widgets/controls",
     "model_module_version": "1.5.0",
     "model_name": "DescriptionStyleModel",
     "state": {
      "_model_module": "@jupyter-widgets/controls",
      "_model_module_version": "1.5.0",
      "_model_name": "DescriptionStyleModel",
      "_view_count": null,
      "_view_module": "@jupyter-widgets/base",
      "_view_module_version": "1.2.0",
      "_view_name": "StyleView",
      "description_width": ""
     }
    },
    "4499e8bca8ea42e4b7c018efec5cee91": {
     "model_module": "@jupyter-widgets/base",
     "model_module_version": "1.2.0",
     "model_name": "LayoutModel",
     "state": {
      "_model_module": "@jupyter-widgets/base",
      "_model_module_version": "1.2.0",
      "_model_name": "LayoutModel",
      "_view_count": null,
      "_view_module": "@jupyter-widgets/base",
      "_view_module_version": "1.2.0",
      "_view_name": "LayoutView",
      "align_content": null,
      "align_items": null,
      "align_self": null,
      "border": null,
      "bottom": null,
      "display": null,
      "flex": null,
      "flex_flow": null,
      "grid_area": null,
      "grid_auto_columns": null,
      "grid_auto_flow": null,
      "grid_auto_rows": null,
      "grid_column": null,
      "grid_gap": null,
      "grid_row": null,
      "grid_template_areas": null,
      "grid_template_columns": null,
      "grid_template_rows": null,
      "height": null,
      "justify_content": null,
      "justify_items": null,
      "left": null,
      "margin": null,
      "max_height": null,
      "max_width": null,
      "min_height": null,
      "min_width": null,
      "object_fit": null,
      "object_position": null,
      "order": null,
      "overflow": null,
      "overflow_x": null,
      "overflow_y": null,
      "padding": null,
      "right": null,
      "top": null,
      "visibility": null,
      "width": null
     }
    },
    "454910232aff4f5b88926b845d82fa98": {
     "model_module": "@jupyter-widgets/controls",
     "model_module_version": "1.5.0",
     "model_name": "DescriptionStyleModel",
     "state": {
      "_model_module": "@jupyter-widgets/controls",
      "_model_module_version": "1.5.0",
      "_model_name": "DescriptionStyleModel",
      "_view_count": null,
      "_view_module": "@jupyter-widgets/base",
      "_view_module_version": "1.2.0",
      "_view_name": "StyleView",
      "description_width": ""
     }
    },
    "4742b40dabd04f1086af6ab4444abad2": {
     "model_module": "@jupyter-widgets/base",
     "model_module_version": "1.2.0",
     "model_name": "LayoutModel",
     "state": {
      "_model_module": "@jupyter-widgets/base",
      "_model_module_version": "1.2.0",
      "_model_name": "LayoutModel",
      "_view_count": null,
      "_view_module": "@jupyter-widgets/base",
      "_view_module_version": "1.2.0",
      "_view_name": "LayoutView",
      "align_content": null,
      "align_items": null,
      "align_self": null,
      "border": null,
      "bottom": null,
      "display": null,
      "flex": null,
      "flex_flow": null,
      "grid_area": null,
      "grid_auto_columns": null,
      "grid_auto_flow": null,
      "grid_auto_rows": null,
      "grid_column": null,
      "grid_gap": null,
      "grid_row": null,
      "grid_template_areas": null,
      "grid_template_columns": null,
      "grid_template_rows": null,
      "height": null,
      "justify_content": null,
      "justify_items": null,
      "left": null,
      "margin": null,
      "max_height": null,
      "max_width": null,
      "min_height": null,
      "min_width": null,
      "object_fit": null,
      "object_position": null,
      "order": null,
      "overflow": null,
      "overflow_x": null,
      "overflow_y": null,
      "padding": null,
      "right": null,
      "top": null,
      "visibility": null,
      "width": null
     }
    },
    "48824a1149cc4762a8d0215df696e0f7": {
     "model_module": "@jupyter-widgets/controls",
     "model_module_version": "1.5.0",
     "model_name": "HTMLModel",
     "state": {
      "_dom_classes": [],
      "_model_module": "@jupyter-widgets/controls",
      "_model_module_version": "1.5.0",
      "_model_name": "HTMLModel",
      "_view_count": null,
      "_view_module": "@jupyter-widgets/controls",
      "_view_module_version": "1.5.0",
      "_view_name": "HTMLView",
      "description": "",
      "description_tooltip": null,
      "layout": "IPY_MODEL_97f00d8e122d421e89aa2f555b3272f4",
      "placeholder": "​",
      "style": "IPY_MODEL_8f2d09458a0547b8add2c9c2e9a13bdd",
      "value": " 371M/371M [00:01&lt;00:00, 348MB/s]"
     }
    },
    "4960f58dc2c545caa531a5ee1b3b6b65": {
     "model_module": "@jupyter-widgets/controls",
     "model_module_version": "1.5.0",
     "model_name": "DescriptionStyleModel",
     "state": {
      "_model_module": "@jupyter-widgets/controls",
      "_model_module_version": "1.5.0",
      "_model_name": "DescriptionStyleModel",
      "_view_count": null,
      "_view_module": "@jupyter-widgets/base",
      "_view_module_version": "1.2.0",
      "_view_name": "StyleView",
      "description_width": ""
     }
    },
    "4d11f5f9585e4e4a861048edbe98bce3": {
     "model_module": "@jupyter-widgets/controls",
     "model_module_version": "1.5.0",
     "model_name": "HTMLModel",
     "state": {
      "_dom_classes": [],
      "_model_module": "@jupyter-widgets/controls",
      "_model_module_version": "1.5.0",
      "_model_name": "HTMLModel",
      "_view_count": null,
      "_view_module": "@jupyter-widgets/controls",
      "_view_module_version": "1.5.0",
      "_view_name": "HTMLView",
      "description": "",
      "description_tooltip": null,
      "layout": "IPY_MODEL_4742b40dabd04f1086af6ab4444abad2",
      "placeholder": "​",
      "style": "IPY_MODEL_bcd8dc198b2c48e6af3b175826679cb5",
      "value": "tokenizer_config.json: 100%"
     }
    },
    "571f25f68523404c8b1eddcf7b6beeca": {
     "model_module": "@jupyter-widgets/base",
     "model_module_version": "1.2.0",
     "model_name": "LayoutModel",
     "state": {
      "_model_module": "@jupyter-widgets/base",
      "_model_module_version": "1.2.0",
      "_model_name": "LayoutModel",
      "_view_count": null,
      "_view_module": "@jupyter-widgets/base",
      "_view_module_version": "1.2.0",
      "_view_name": "LayoutView",
      "align_content": null,
      "align_items": null,
      "align_self": null,
      "border": null,
      "bottom": null,
      "display": null,
      "flex": null,
      "flex_flow": null,
      "grid_area": null,
      "grid_auto_columns": null,
      "grid_auto_flow": null,
      "grid_auto_rows": null,
      "grid_column": null,
      "grid_gap": null,
      "grid_row": null,
      "grid_template_areas": null,
      "grid_template_columns": null,
      "grid_template_rows": null,
      "height": null,
      "justify_content": null,
      "justify_items": null,
      "left": null,
      "margin": null,
      "max_height": null,
      "max_width": null,
      "min_height": null,
      "min_width": null,
      "object_fit": null,
      "object_position": null,
      "order": null,
      "overflow": null,
      "overflow_x": null,
      "overflow_y": null,
      "padding": null,
      "right": null,
      "top": null,
      "visibility": null,
      "width": null
     }
    },
    "5c915ed456564abbafca2c2b5a29c29c": {
     "model_module": "@jupyter-widgets/base",
     "model_module_version": "1.2.0",
     "model_name": "LayoutModel",
     "state": {
      "_model_module": "@jupyter-widgets/base",
      "_model_module_version": "1.2.0",
      "_model_name": "LayoutModel",
      "_view_count": null,
      "_view_module": "@jupyter-widgets/base",
      "_view_module_version": "1.2.0",
      "_view_name": "LayoutView",
      "align_content": null,
      "align_items": null,
      "align_self": null,
      "border": null,
      "bottom": null,
      "display": null,
      "flex": null,
      "flex_flow": null,
      "grid_area": null,
      "grid_auto_columns": null,
      "grid_auto_flow": null,
      "grid_auto_rows": null,
      "grid_column": null,
      "grid_gap": null,
      "grid_row": null,
      "grid_template_areas": null,
      "grid_template_columns": null,
      "grid_template_rows": null,
      "height": null,
      "justify_content": null,
      "justify_items": null,
      "left": null,
      "margin": null,
      "max_height": null,
      "max_width": null,
      "min_height": null,
      "min_width": null,
      "object_fit": null,
      "object_position": null,
      "order": null,
      "overflow": null,
      "overflow_x": null,
      "overflow_y": null,
      "padding": null,
      "right": null,
      "top": null,
      "visibility": null,
      "width": null
     }
    },
    "5ea7e4afe7614470a43efa1efd623247": {
     "model_module": "@jupyter-widgets/controls",
     "model_module_version": "1.5.0",
     "model_name": "FloatProgressModel",
     "state": {
      "_dom_classes": [],
      "_model_module": "@jupyter-widgets/controls",
      "_model_module_version": "1.5.0",
      "_model_name": "FloatProgressModel",
      "_view_count": null,
      "_view_module": "@jupyter-widgets/controls",
      "_view_module_version": "1.5.0",
      "_view_name": "ProgressView",
      "bar_style": "success",
      "description": "",
      "description_tooltip": null,
      "layout": "IPY_MODEL_ee6381137a6a45bf9cb7fc8d81c684a1",
      "max": 1355863,
      "min": 0,
      "orientation": "horizontal",
      "style": "IPY_MODEL_a79918717684443bbf29351a7cb0ea4d",
      "value": 1355863
     }
    },
    "5f731628836045cfb0b2adf7c56a9205": {
     "model_module": "@jupyter-widgets/controls",
     "model_module_version": "1.5.0",
     "model_name": "HTMLModel",
     "state": {
      "_dom_classes": [],
      "_model_module": "@jupyter-widgets/controls",
      "_model_module_version": "1.5.0",
      "_model_name": "HTMLModel",
      "_view_count": null,
      "_view_module": "@jupyter-widgets/controls",
      "_view_module_version": "1.5.0",
      "_view_name": "HTMLView",
      "description": "",
      "description_tooltip": null,
      "layout": "IPY_MODEL_c215edb6e4c5437f93f19a190f800830",
      "placeholder": "​",
      "style": "IPY_MODEL_454910232aff4f5b88926b845d82fa98",
      "value": "config.json: 100%"
     }
    },
    "60cf29b1f258459ea3c913b17eb74c89": {
     "model_module": "@jupyter-widgets/controls",
     "model_module_version": "1.5.0",
     "model_name": "ProgressStyleModel",
     "state": {
      "_model_module": "@jupyter-widgets/controls",
      "_model_module_version": "1.5.0",
      "_model_name": "ProgressStyleModel",
      "_view_count": null,
      "_view_module": "@jupyter-widgets/base",
      "_view_module_version": "1.2.0",
      "_view_name": "StyleView",
      "bar_color": null,
      "description_width": ""
     }
    },
    "658c161376064619981a93cd88191408": {
     "model_module": "@jupyter-widgets/controls",
     "model_module_version": "1.5.0",
     "model_name": "FloatProgressModel",
     "state": {
      "_dom_classes": [],
      "_model_module": "@jupyter-widgets/controls",
      "_model_module_version": "1.5.0",
      "_model_name": "FloatProgressModel",
      "_view_count": null,
      "_view_module": "@jupyter-widgets/controls",
      "_view_module_version": "1.5.0",
      "_view_name": "ProgressView",
      "bar_style": "success",
      "description": "",
      "description_tooltip": null,
      "layout": "IPY_MODEL_258999b58d0f42bfa536ad023b8c68e9",
      "max": 898823,
      "min": 0,
      "orientation": "horizontal",
      "style": "IPY_MODEL_0918c9fa7f554ed6afb59d143ecb551f",
      "value": 898823
     }
    },
    "69084ce20f31454da9d6f694277b0436": {
     "model_module": "@jupyter-widgets/controls",
     "model_module_version": "1.5.0",
     "model_name": "HBoxModel",
     "state": {
      "_dom_classes": [],
      "_model_module": "@jupyter-widgets/controls",
      "_model_module_version": "1.5.0",
      "_model_name": "HBoxModel",
      "_view_count": null,
      "_view_module": "@jupyter-widgets/controls",
      "_view_module_version": "1.5.0",
      "_view_name": "HBoxView",
      "box_style": "",
      "children": [
       "IPY_MODEL_bf68f5b870bc4eceb97d46ed88c262b3",
       "IPY_MODEL_d769756c12f140668ce7cebaf28afd00",
       "IPY_MODEL_9f7e540e05ca4493a97f4fb3b730baff"
      ],
      "layout": "IPY_MODEL_8849c9cf2d8f46deb0b7c28e6b77776b"
     }
    },
    "6e43ee6969db441492b4cc20bd4770a3": {
     "model_module": "@jupyter-widgets/base",
     "model_module_version": "1.2.0",
     "model_name": "LayoutModel",
     "state": {
      "_model_module": "@jupyter-widgets/base",
      "_model_module_version": "1.2.0",
      "_model_name": "LayoutModel",
      "_view_count": null,
      "_view_module": "@jupyter-widgets/base",
      "_view_module_version": "1.2.0",
      "_view_name": "LayoutView",
      "align_content": null,
      "align_items": null,
      "align_self": null,
      "border": null,
      "bottom": null,
      "display": null,
      "flex": null,
      "flex_flow": null,
      "grid_area": null,
      "grid_auto_columns": null,
      "grid_auto_flow": null,
      "grid_auto_rows": null,
      "grid_column": null,
      "grid_gap": null,
      "grid_row": null,
      "grid_template_areas": null,
      "grid_template_columns": null,
      "grid_template_rows": null,
      "height": null,
      "justify_content": null,
      "justify_items": null,
      "left": null,
      "margin": null,
      "max_height": null,
      "max_width": null,
      "min_height": null,
      "min_width": null,
      "object_fit": null,
      "object_position": null,
      "order": null,
      "overflow": null,
      "overflow_x": null,
      "overflow_y": null,
      "padding": null,
      "right": null,
      "top": null,
      "visibility": null,
      "width": null
     }
    },
    "6efe97fa547d48eeb00d36e5d2fde750": {
     "model_module": "@jupyter-widgets/controls",
     "model_module_version": "1.5.0",
     "model_name": "DescriptionStyleModel",
     "state": {
      "_model_module": "@jupyter-widgets/controls",
      "_model_module_version": "1.5.0",
      "_model_name": "DescriptionStyleModel",
      "_view_count": null,
      "_view_module": "@jupyter-widgets/base",
      "_view_module_version": "1.2.0",
      "_view_name": "StyleView",
      "description_width": ""
     }
    },
    "78b76b48c8804d9ea1695d1926073aaf": {
     "model_module": "@jupyter-widgets/base",
     "model_module_version": "1.2.0",
     "model_name": "LayoutModel",
     "state": {
      "_model_module": "@jupyter-widgets/base",
      "_model_module_version": "1.2.0",
      "_model_name": "LayoutModel",
      "_view_count": null,
      "_view_module": "@jupyter-widgets/base",
      "_view_module_version": "1.2.0",
      "_view_name": "LayoutView",
      "align_content": null,
      "align_items": null,
      "align_self": null,
      "border": null,
      "bottom": null,
      "display": null,
      "flex": null,
      "flex_flow": null,
      "grid_area": null,
      "grid_auto_columns": null,
      "grid_auto_flow": null,
      "grid_auto_rows": null,
      "grid_column": null,
      "grid_gap": null,
      "grid_row": null,
      "grid_template_areas": null,
      "grid_template_columns": null,
      "grid_template_rows": null,
      "height": null,
      "justify_content": null,
      "justify_items": null,
      "left": null,
      "margin": null,
      "max_height": null,
      "max_width": null,
      "min_height": null,
      "min_width": null,
      "object_fit": null,
      "object_position": null,
      "order": null,
      "overflow": null,
      "overflow_x": null,
      "overflow_y": null,
      "padding": null,
      "right": null,
      "top": null,
      "visibility": null,
      "width": null
     }
    },
    "7a4a77d1eae041ffbaeb3657db8ba4b7": {
     "model_module": "@jupyter-widgets/base",
     "model_module_version": "1.2.0",
     "model_name": "LayoutModel",
     "state": {
      "_model_module": "@jupyter-widgets/base",
      "_model_module_version": "1.2.0",
      "_model_name": "LayoutModel",
      "_view_count": null,
      "_view_module": "@jupyter-widgets/base",
      "_view_module_version": "1.2.0",
      "_view_name": "LayoutView",
      "align_content": null,
      "align_items": null,
      "align_self": null,
      "border": null,
      "bottom": null,
      "display": null,
      "flex": null,
      "flex_flow": null,
      "grid_area": null,
      "grid_auto_columns": null,
      "grid_auto_flow": null,
      "grid_auto_rows": null,
      "grid_column": null,
      "grid_gap": null,
      "grid_row": null,
      "grid_template_areas": null,
      "grid_template_columns": null,
      "grid_template_rows": null,
      "height": null,
      "justify_content": null,
      "justify_items": null,
      "left": null,
      "margin": null,
      "max_height": null,
      "max_width": null,
      "min_height": null,
      "min_width": null,
      "object_fit": null,
      "object_position": null,
      "order": null,
      "overflow": null,
      "overflow_x": null,
      "overflow_y": null,
      "padding": null,
      "right": null,
      "top": null,
      "visibility": null,
      "width": null
     }
    },
    "7e620b6819984680bfb170253b97116d": {
     "model_module": "@jupyter-widgets/base",
     "model_module_version": "1.2.0",
     "model_name": "LayoutModel",
     "state": {
      "_model_module": "@jupyter-widgets/base",
      "_model_module_version": "1.2.0",
      "_model_name": "LayoutModel",
      "_view_count": null,
      "_view_module": "@jupyter-widgets/base",
      "_view_module_version": "1.2.0",
      "_view_name": "LayoutView",
      "align_content": null,
      "align_items": null,
      "align_self": null,
      "border": null,
      "bottom": null,
      "display": null,
      "flex": null,
      "flex_flow": null,
      "grid_area": null,
      "grid_auto_columns": null,
      "grid_auto_flow": null,
      "grid_auto_rows": null,
      "grid_column": null,
      "grid_gap": null,
      "grid_row": null,
      "grid_template_areas": null,
      "grid_template_columns": null,
      "grid_template_rows": null,
      "height": null,
      "justify_content": null,
      "justify_items": null,
      "left": null,
      "margin": null,
      "max_height": null,
      "max_width": null,
      "min_height": null,
      "min_width": null,
      "object_fit": null,
      "object_position": null,
      "order": null,
      "overflow": null,
      "overflow_x": null,
      "overflow_y": null,
      "padding": null,
      "right": null,
      "top": null,
      "visibility": null,
      "width": null
     }
    },
    "7e9d5230ee174abfa484e8618a1cdbbd": {
     "model_module": "@jupyter-widgets/base",
     "model_module_version": "1.2.0",
     "model_name": "LayoutModel",
     "state": {
      "_model_module": "@jupyter-widgets/base",
      "_model_module_version": "1.2.0",
      "_model_name": "LayoutModel",
      "_view_count": null,
      "_view_module": "@jupyter-widgets/base",
      "_view_module_version": "1.2.0",
      "_view_name": "LayoutView",
      "align_content": null,
      "align_items": null,
      "align_self": null,
      "border": null,
      "bottom": null,
      "display": null,
      "flex": null,
      "flex_flow": null,
      "grid_area": null,
      "grid_auto_columns": null,
      "grid_auto_flow": null,
      "grid_auto_rows": null,
      "grid_column": null,
      "grid_gap": null,
      "grid_row": null,
      "grid_template_areas": null,
      "grid_template_columns": null,
      "grid_template_rows": null,
      "height": null,
      "justify_content": null,
      "justify_items": null,
      "left": null,
      "margin": null,
      "max_height": null,
      "max_width": null,
      "min_height": null,
      "min_width": null,
      "object_fit": null,
      "object_position": null,
      "order": null,
      "overflow": null,
      "overflow_x": null,
      "overflow_y": null,
      "padding": null,
      "right": null,
      "top": null,
      "visibility": null,
      "width": null
     }
    },
    "8066bc3b957d407cab97d6ecbd2474a5": {
     "model_module": "@jupyter-widgets/controls",
     "model_module_version": "1.5.0",
     "model_name": "DescriptionStyleModel",
     "state": {
      "_model_module": "@jupyter-widgets/controls",
      "_model_module_version": "1.5.0",
      "_model_name": "DescriptionStyleModel",
      "_view_count": null,
      "_view_module": "@jupyter-widgets/base",
      "_view_module_version": "1.2.0",
      "_view_name": "StyleView",
      "description_width": ""
     }
    },
    "81d82ef12a37457eb7db85d90fa51f87": {
     "model_module": "@jupyter-widgets/controls",
     "model_module_version": "1.5.0",
     "model_name": "HBoxModel",
     "state": {
      "_dom_classes": [],
      "_model_module": "@jupyter-widgets/controls",
      "_model_module_version": "1.5.0",
      "_model_name": "HBoxModel",
      "_view_count": null,
      "_view_module": "@jupyter-widgets/controls",
      "_view_module_version": "1.5.0",
      "_view_name": "HBoxView",
      "box_style": "",
      "children": [
       "IPY_MODEL_f41254fce5714f47aa9d08dad526c492",
       "IPY_MODEL_5ea7e4afe7614470a43efa1efd623247",
       "IPY_MODEL_e857e6af9134469b83febc4eb1a7bf7e"
      ],
      "layout": "IPY_MODEL_a8334610fc914c1583d5972ef62337be"
     }
    },
    "87e3271aba1f4dbdb9ce48e676f9216d": {
     "model_module": "@jupyter-widgets/base",
     "model_module_version": "1.2.0",
     "model_name": "LayoutModel",
     "state": {
      "_model_module": "@jupyter-widgets/base",
      "_model_module_version": "1.2.0",
      "_model_name": "LayoutModel",
      "_view_count": null,
      "_view_module": "@jupyter-widgets/base",
      "_view_module_version": "1.2.0",
      "_view_name": "LayoutView",
      "align_content": null,
      "align_items": null,
      "align_self": null,
      "border": null,
      "bottom": null,
      "display": null,
      "flex": null,
      "flex_flow": null,
      "grid_area": null,
      "grid_auto_columns": null,
      "grid_auto_flow": null,
      "grid_auto_rows": null,
      "grid_column": null,
      "grid_gap": null,
      "grid_row": null,
      "grid_template_areas": null,
      "grid_template_columns": null,
      "grid_template_rows": null,
      "height": null,
      "justify_content": null,
      "justify_items": null,
      "left": null,
      "margin": null,
      "max_height": null,
      "max_width": null,
      "min_height": null,
      "min_width": null,
      "object_fit": null,
      "object_position": null,
      "order": null,
      "overflow": null,
      "overflow_x": null,
      "overflow_y": null,
      "padding": null,
      "right": null,
      "top": null,
      "visibility": null,
      "width": null
     }
    },
    "8849c9cf2d8f46deb0b7c28e6b77776b": {
     "model_module": "@jupyter-widgets/base",
     "model_module_version": "1.2.0",
     "model_name": "LayoutModel",
     "state": {
      "_model_module": "@jupyter-widgets/base",
      "_model_module_version": "1.2.0",
      "_model_name": "LayoutModel",
      "_view_count": null,
      "_view_module": "@jupyter-widgets/base",
      "_view_module_version": "1.2.0",
      "_view_name": "LayoutView",
      "align_content": null,
      "align_items": null,
      "align_self": null,
      "border": null,
      "bottom": null,
      "display": null,
      "flex": null,
      "flex_flow": null,
      "grid_area": null,
      "grid_auto_columns": null,
      "grid_auto_flow": null,
      "grid_auto_rows": null,
      "grid_column": null,
      "grid_gap": null,
      "grid_row": null,
      "grid_template_areas": null,
      "grid_template_columns": null,
      "grid_template_rows": null,
      "height": null,
      "justify_content": null,
      "justify_items": null,
      "left": null,
      "margin": null,
      "max_height": null,
      "max_width": null,
      "min_height": null,
      "min_width": null,
      "object_fit": null,
      "object_position": null,
      "order": null,
      "overflow": null,
      "overflow_x": null,
      "overflow_y": null,
      "padding": null,
      "right": null,
      "top": null,
      "visibility": null,
      "width": null
     }
    },
    "884b8e972da842bf9f071ff3d2219664": {
     "model_module": "@jupyter-widgets/base",
     "model_module_version": "1.2.0",
     "model_name": "LayoutModel",
     "state": {
      "_model_module": "@jupyter-widgets/base",
      "_model_module_version": "1.2.0",
      "_model_name": "LayoutModel",
      "_view_count": null,
      "_view_module": "@jupyter-widgets/base",
      "_view_module_version": "1.2.0",
      "_view_name": "LayoutView",
      "align_content": null,
      "align_items": null,
      "align_self": null,
      "border": null,
      "bottom": null,
      "display": null,
      "flex": null,
      "flex_flow": null,
      "grid_area": null,
      "grid_auto_columns": null,
      "grid_auto_flow": null,
      "grid_auto_rows": null,
      "grid_column": null,
      "grid_gap": null,
      "grid_row": null,
      "grid_template_areas": null,
      "grid_template_columns": null,
      "grid_template_rows": null,
      "height": null,
      "justify_content": null,
      "justify_items": null,
      "left": null,
      "margin": null,
      "max_height": null,
      "max_width": null,
      "min_height": null,
      "min_width": null,
      "object_fit": null,
      "object_position": null,
      "order": null,
      "overflow": null,
      "overflow_x": null,
      "overflow_y": null,
      "padding": null,
      "right": null,
      "top": null,
      "visibility": null,
      "width": null
     }
    },
    "8ac5ffc4b19d4ad7bfb614bdee42872e": {
     "model_module": "@jupyter-widgets/controls",
     "model_module_version": "1.5.0",
     "model_name": "DescriptionStyleModel",
     "state": {
      "_model_module": "@jupyter-widgets/controls",
      "_model_module_version": "1.5.0",
      "_model_name": "DescriptionStyleModel",
      "_view_count": null,
      "_view_module": "@jupyter-widgets/base",
      "_view_module_version": "1.2.0",
      "_view_name": "StyleView",
      "description_width": ""
     }
    },
    "8b7c5ec1401d483a8a10d7c2916bf2c1": {
     "model_module": "@jupyter-widgets/controls",
     "model_module_version": "1.5.0",
     "model_name": "HBoxModel",
     "state": {
      "_dom_classes": [],
      "_model_module": "@jupyter-widgets/controls",
      "_model_module_version": "1.5.0",
      "_model_name": "HBoxModel",
      "_view_count": null,
      "_view_module": "@jupyter-widgets/controls",
      "_view_module_version": "1.5.0",
      "_view_name": "HBoxView",
      "box_style": "",
      "children": [
       "IPY_MODEL_0535874d4cdf4fa194cbe6d99eca2992",
       "IPY_MODEL_3225bcd8785e460a855105d386a4cb93",
       "IPY_MODEL_08af3d4938d044bd89e383b5d0e85858"
      ],
      "layout": "IPY_MODEL_9b23d060ed864a26b504086401f35238"
     }
    },
    "8d33e380d03e407aa60aff281f0b0afd": {
     "model_module": "@jupyter-widgets/controls",
     "model_module_version": "1.5.0",
     "model_name": "ProgressStyleModel",
     "state": {
      "_model_module": "@jupyter-widgets/controls",
      "_model_module_version": "1.5.0",
      "_model_name": "ProgressStyleModel",
      "_view_count": null,
      "_view_module": "@jupyter-widgets/base",
      "_view_module_version": "1.2.0",
      "_view_name": "StyleView",
      "bar_color": null,
      "description_width": ""
     }
    },
    "8f2d09458a0547b8add2c9c2e9a13bdd": {
     "model_module": "@jupyter-widgets/controls",
     "model_module_version": "1.5.0",
     "model_name": "DescriptionStyleModel",
     "state": {
      "_model_module": "@jupyter-widgets/controls",
      "_model_module_version": "1.5.0",
      "_model_name": "DescriptionStyleModel",
      "_view_count": null,
      "_view_module": "@jupyter-widgets/base",
      "_view_module_version": "1.2.0",
      "_view_name": "StyleView",
      "description_width": ""
     }
    },
    "96c5a59b21d44979ab59e1ce7b482cd5": {
     "model_module": "@jupyter-widgets/controls",
     "model_module_version": "1.5.0",
     "model_name": "HTMLModel",
     "state": {
      "_dom_classes": [],
      "_model_module": "@jupyter-widgets/controls",
      "_model_module_version": "1.5.0",
      "_model_name": "HTMLModel",
      "_view_count": null,
      "_view_module": "@jupyter-widgets/controls",
      "_view_module_version": "1.5.0",
      "_view_name": "HTMLView",
      "description": "",
      "description_tooltip": null,
      "layout": "IPY_MODEL_7e9d5230ee174abfa484e8618a1cdbbd",
      "placeholder": "​",
      "style": "IPY_MODEL_4960f58dc2c545caa531a5ee1b3b6b65",
      "value": "merges.txt: 100%"
     }
    },
    "97f00d8e122d421e89aa2f555b3272f4": {
     "model_module": "@jupyter-widgets/base",
     "model_module_version": "1.2.0",
     "model_name": "LayoutModel",
     "state": {
      "_model_module": "@jupyter-widgets/base",
      "_model_module_version": "1.2.0",
      "_model_name": "LayoutModel",
      "_view_count": null,
      "_view_module": "@jupyter-widgets/base",
      "_view_module_version": "1.2.0",
      "_view_name": "LayoutView",
      "align_content": null,
      "align_items": null,
      "align_self": null,
      "border": null,
      "bottom": null,
      "display": null,
      "flex": null,
      "flex_flow": null,
      "grid_area": null,
      "grid_auto_columns": null,
      "grid_auto_flow": null,
      "grid_auto_rows": null,
      "grid_column": null,
      "grid_gap": null,
      "grid_row": null,
      "grid_template_areas": null,
      "grid_template_columns": null,
      "grid_template_rows": null,
      "height": null,
      "justify_content": null,
      "justify_items": null,
      "left": null,
      "margin": null,
      "max_height": null,
      "max_width": null,
      "min_height": null,
      "min_width": null,
      "object_fit": null,
      "object_position": null,
      "order": null,
      "overflow": null,
      "overflow_x": null,
      "overflow_y": null,
      "padding": null,
      "right": null,
      "top": null,
      "visibility": null,
      "width": null
     }
    },
    "98ce8126be9a4139ac4d56def58c506f": {
     "model_module": "@jupyter-widgets/base",
     "model_module_version": "1.2.0",
     "model_name": "LayoutModel",
     "state": {
      "_model_module": "@jupyter-widgets/base",
      "_model_module_version": "1.2.0",
      "_model_name": "LayoutModel",
      "_view_count": null,
      "_view_module": "@jupyter-widgets/base",
      "_view_module_version": "1.2.0",
      "_view_name": "LayoutView",
      "align_content": null,
      "align_items": null,
      "align_self": null,
      "border": null,
      "bottom": null,
      "display": null,
      "flex": null,
      "flex_flow": null,
      "grid_area": null,
      "grid_auto_columns": null,
      "grid_auto_flow": null,
      "grid_auto_rows": null,
      "grid_column": null,
      "grid_gap": null,
      "grid_row": null,
      "grid_template_areas": null,
      "grid_template_columns": null,
      "grid_template_rows": null,
      "height": null,
      "justify_content": null,
      "justify_items": null,
      "left": null,
      "margin": null,
      "max_height": null,
      "max_width": null,
      "min_height": null,
      "min_width": null,
      "object_fit": null,
      "object_position": null,
      "order": null,
      "overflow": null,
      "overflow_x": null,
      "overflow_y": null,
      "padding": null,
      "right": null,
      "top": null,
      "visibility": null,
      "width": null
     }
    },
    "9b23d060ed864a26b504086401f35238": {
     "model_module": "@jupyter-widgets/base",
     "model_module_version": "1.2.0",
     "model_name": "LayoutModel",
     "state": {
      "_model_module": "@jupyter-widgets/base",
      "_model_module_version": "1.2.0",
      "_model_name": "LayoutModel",
      "_view_count": null,
      "_view_module": "@jupyter-widgets/base",
      "_view_module_version": "1.2.0",
      "_view_name": "LayoutView",
      "align_content": null,
      "align_items": null,
      "align_self": null,
      "border": null,
      "bottom": null,
      "display": null,
      "flex": null,
      "flex_flow": null,
      "grid_area": null,
      "grid_auto_columns": null,
      "grid_auto_flow": null,
      "grid_auto_rows": null,
      "grid_column": null,
      "grid_gap": null,
      "grid_row": null,
      "grid_template_areas": null,
      "grid_template_columns": null,
      "grid_template_rows": null,
      "height": null,
      "justify_content": null,
      "justify_items": null,
      "left": null,
      "margin": null,
      "max_height": null,
      "max_width": null,
      "min_height": null,
      "min_width": null,
      "object_fit": null,
      "object_position": null,
      "order": null,
      "overflow": null,
      "overflow_x": null,
      "overflow_y": null,
      "padding": null,
      "right": null,
      "top": null,
      "visibility": null,
      "width": null
     }
    },
    "9ee54b7b42174eeeb4ec58fdf52bc6d3": {
     "model_module": "@jupyter-widgets/base",
     "model_module_version": "1.2.0",
     "model_name": "LayoutModel",
     "state": {
      "_model_module": "@jupyter-widgets/base",
      "_model_module_version": "1.2.0",
      "_model_name": "LayoutModel",
      "_view_count": null,
      "_view_module": "@jupyter-widgets/base",
      "_view_module_version": "1.2.0",
      "_view_name": "LayoutView",
      "align_content": null,
      "align_items": null,
      "align_self": null,
      "border": null,
      "bottom": null,
      "display": null,
      "flex": null,
      "flex_flow": null,
      "grid_area": null,
      "grid_auto_columns": null,
      "grid_auto_flow": null,
      "grid_auto_rows": null,
      "grid_column": null,
      "grid_gap": null,
      "grid_row": null,
      "grid_template_areas": null,
      "grid_template_columns": null,
      "grid_template_rows": null,
      "height": null,
      "justify_content": null,
      "justify_items": null,
      "left": null,
      "margin": null,
      "max_height": null,
      "max_width": null,
      "min_height": null,
      "min_width": null,
      "object_fit": null,
      "object_position": null,
      "order": null,
      "overflow": null,
      "overflow_x": null,
      "overflow_y": null,
      "padding": null,
      "right": null,
      "top": null,
      "visibility": null,
      "width": null
     }
    },
    "9f7e540e05ca4493a97f4fb3b730baff": {
     "model_module": "@jupyter-widgets/controls",
     "model_module_version": "1.5.0",
     "model_name": "HTMLModel",
     "state": {
      "_dom_classes": [],
      "_model_module": "@jupyter-widgets/controls",
      "_model_module_version": "1.5.0",
      "_model_name": "HTMLModel",
      "_view_count": null,
      "_view_module": "@jupyter-widgets/controls",
      "_view_module_version": "1.5.0",
      "_view_name": "HTMLView",
      "description": "",
      "description_tooltip": null,
      "layout": "IPY_MODEL_269b7139fa674430809b185d3ecdd6d4",
      "placeholder": "​",
      "style": "IPY_MODEL_6efe97fa547d48eeb00d36e5d2fde750",
      "value": " 2.46M/2.46M [00:00&lt;00:00, 54.8MB/s]"
     }
    },
    "a33034972dfd4eb08fc807aab2fc4f7b": {
     "model_module": "@jupyter-widgets/base",
     "model_module_version": "1.2.0",
     "model_name": "LayoutModel",
     "state": {
      "_model_module": "@jupyter-widgets/base",
      "_model_module_version": "1.2.0",
      "_model_name": "LayoutModel",
      "_view_count": null,
      "_view_module": "@jupyter-widgets/base",
      "_view_module_version": "1.2.0",
      "_view_name": "LayoutView",
      "align_content": null,
      "align_items": null,
      "align_self": null,
      "border": null,
      "bottom": null,
      "display": null,
      "flex": null,
      "flex_flow": null,
      "grid_area": null,
      "grid_auto_columns": null,
      "grid_auto_flow": null,
      "grid_auto_rows": null,
      "grid_column": null,
      "grid_gap": null,
      "grid_row": null,
      "grid_template_areas": null,
      "grid_template_columns": null,
      "grid_template_rows": null,
      "height": null,
      "justify_content": null,
      "justify_items": null,
      "left": null,
      "margin": null,
      "max_height": null,
      "max_width": null,
      "min_height": null,
      "min_width": null,
      "object_fit": null,
      "object_position": null,
      "order": null,
      "overflow": null,
      "overflow_x": null,
      "overflow_y": null,
      "padding": null,
      "right": null,
      "top": null,
      "visibility": null,
      "width": null
     }
    },
    "a79918717684443bbf29351a7cb0ea4d": {
     "model_module": "@jupyter-widgets/controls",
     "model_module_version": "1.5.0",
     "model_name": "ProgressStyleModel",
     "state": {
      "_model_module": "@jupyter-widgets/controls",
      "_model_module_version": "1.5.0",
      "_model_name": "ProgressStyleModel",
      "_view_count": null,
      "_view_module": "@jupyter-widgets/base",
      "_view_module_version": "1.2.0",
      "_view_name": "StyleView",
      "bar_color": null,
      "description_width": ""
     }
    },
    "a8334610fc914c1583d5972ef62337be": {
     "model_module": "@jupyter-widgets/base",
     "model_module_version": "1.2.0",
     "model_name": "LayoutModel",
     "state": {
      "_model_module": "@jupyter-widgets/base",
      "_model_module_version": "1.2.0",
      "_model_name": "LayoutModel",
      "_view_count": null,
      "_view_module": "@jupyter-widgets/base",
      "_view_module_version": "1.2.0",
      "_view_name": "LayoutView",
      "align_content": null,
      "align_items": null,
      "align_self": null,
      "border": null,
      "bottom": null,
      "display": null,
      "flex": null,
      "flex_flow": null,
      "grid_area": null,
      "grid_auto_columns": null,
      "grid_auto_flow": null,
      "grid_auto_rows": null,
      "grid_column": null,
      "grid_gap": null,
      "grid_row": null,
      "grid_template_areas": null,
      "grid_template_columns": null,
      "grid_template_rows": null,
      "height": null,
      "justify_content": null,
      "justify_items": null,
      "left": null,
      "margin": null,
      "max_height": null,
      "max_width": null,
      "min_height": null,
      "min_width": null,
      "object_fit": null,
      "object_position": null,
      "order": null,
      "overflow": null,
      "overflow_x": null,
      "overflow_y": null,
      "padding": null,
      "right": null,
      "top": null,
      "visibility": null,
      "width": null
     }
    },
    "ad2a5fe4963141539807aa92ad2ba488": {
     "model_module": "@jupyter-widgets/controls",
     "model_module_version": "1.5.0",
     "model_name": "DescriptionStyleModel",
     "state": {
      "_model_module": "@jupyter-widgets/controls",
      "_model_module_version": "1.5.0",
      "_model_name": "DescriptionStyleModel",
      "_view_count": null,
      "_view_module": "@jupyter-widgets/base",
      "_view_module_version": "1.2.0",
      "_view_name": "StyleView",
      "description_width": ""
     }
    },
    "ad7639bc9d514887898fb70126f2d6d7": {
     "model_module": "@jupyter-widgets/controls",
     "model_module_version": "1.5.0",
     "model_name": "HTMLModel",
     "state": {
      "_dom_classes": [],
      "_model_module": "@jupyter-widgets/controls",
      "_model_module_version": "1.5.0",
      "_model_name": "HTMLModel",
      "_view_count": null,
      "_view_module": "@jupyter-widgets/controls",
      "_view_module_version": "1.5.0",
      "_view_name": "HTMLView",
      "description": "",
      "description_tooltip": null,
      "layout": "IPY_MODEL_d0570d80530c4056bc4503458c28dad6",
      "placeholder": "​",
      "style": "IPY_MODEL_4172a10e755d4ca6a0ae926c73f07687",
      "value": " 899k/899k [00:00&lt;00:00, 2.78MB/s]"
     }
    },
    "ad8318ef77e44702a143f9d7506617e8": {
     "model_module": "@jupyter-widgets/controls",
     "model_module_version": "1.5.0",
     "model_name": "HBoxModel",
     "state": {
      "_dom_classes": [],
      "_model_module": "@jupyter-widgets/controls",
      "_model_module_version": "1.5.0",
      "_model_name": "HBoxModel",
      "_view_count": null,
      "_view_module": "@jupyter-widgets/controls",
      "_view_module_version": "1.5.0",
      "_view_name": "HBoxView",
      "box_style": "",
      "children": [
       "IPY_MODEL_df388c767c214de2bc63c2417224401d",
       "IPY_MODEL_ba3170e97a8740bea641db00ae1c02c5",
       "IPY_MODEL_48824a1149cc4762a8d0215df696e0f7"
      ],
      "layout": "IPY_MODEL_cdd7505901db44afaeb81dba3b755282"
     }
    },
    "b030038552294669a3e02f0367907fa2": {
     "model_module": "@jupyter-widgets/controls",
     "model_module_version": "1.5.0",
     "model_name": "HTMLModel",
     "state": {
      "_dom_classes": [],
      "_model_module": "@jupyter-widgets/controls",
      "_model_module_version": "1.5.0",
      "_model_name": "HTMLModel",
      "_view_count": null,
      "_view_module": "@jupyter-widgets/controls",
      "_view_module_version": "1.5.0",
      "_view_name": "HTMLView",
      "description": "",
      "description_tooltip": null,
      "layout": "IPY_MODEL_98ce8126be9a4139ac4d56def58c506f",
      "placeholder": "​",
      "style": "IPY_MODEL_bc0ddf9711c84b66bb67305fae0a4213",
      "value": " 481/481 [00:00&lt;00:00, 43.6kB/s]"
     }
    },
    "b0e317a2900540adae99b4eae021763a": {
     "model_module": "@jupyter-widgets/base",
     "model_module_version": "1.2.0",
     "model_name": "LayoutModel",
     "state": {
      "_model_module": "@jupyter-widgets/base",
      "_model_module_version": "1.2.0",
      "_model_name": "LayoutModel",
      "_view_count": null,
      "_view_module": "@jupyter-widgets/base",
      "_view_module_version": "1.2.0",
      "_view_name": "LayoutView",
      "align_content": null,
      "align_items": null,
      "align_self": null,
      "border": null,
      "bottom": null,
      "display": null,
      "flex": null,
      "flex_flow": null,
      "grid_area": null,
      "grid_auto_columns": null,
      "grid_auto_flow": null,
      "grid_auto_rows": null,
      "grid_column": null,
      "grid_gap": null,
      "grid_row": null,
      "grid_template_areas": null,
      "grid_template_columns": null,
      "grid_template_rows": null,
      "height": null,
      "justify_content": null,
      "justify_items": null,
      "left": null,
      "margin": null,
      "max_height": null,
      "max_width": null,
      "min_height": null,
      "min_width": null,
      "object_fit": null,
      "object_position": null,
      "order": null,
      "overflow": null,
      "overflow_x": null,
      "overflow_y": null,
      "padding": null,
      "right": null,
      "top": null,
      "visibility": null,
      "width": null
     }
    },
    "b193582ca97a4e6e814a1bb2a78960af": {
     "model_module": "@jupyter-widgets/controls",
     "model_module_version": "1.5.0",
     "model_name": "HTMLModel",
     "state": {
      "_dom_classes": [],
      "_model_module": "@jupyter-widgets/controls",
      "_model_module_version": "1.5.0",
      "_model_name": "HTMLModel",
      "_view_count": null,
      "_view_module": "@jupyter-widgets/controls",
      "_view_module_version": "1.5.0",
      "_view_name": "HTMLView",
      "description": "",
      "description_tooltip": null,
      "layout": "IPY_MODEL_e9c04e44a9c042f584e1b2d7058f796e",
      "placeholder": "​",
      "style": "IPY_MODEL_ebd02a2b3a1b4e6b85fd85b934f1a486",
      "value": "vocab.json: 100%"
     }
    },
    "b579583c7b164ef9840ad24bf9380b62": {
     "model_module": "@jupyter-widgets/controls",
     "model_module_version": "1.5.0",
     "model_name": "HBoxModel",
     "state": {
      "_dom_classes": [],
      "_model_module": "@jupyter-widgets/controls",
      "_model_module_version": "1.5.0",
      "_model_name": "HBoxModel",
      "_view_count": null,
      "_view_module": "@jupyter-widgets/controls",
      "_view_module_version": "1.5.0",
      "_view_name": "HBoxView",
      "box_style": "",
      "children": [
       "IPY_MODEL_96c5a59b21d44979ab59e1ce7b482cd5",
       "IPY_MODEL_20f431bdaec44f8c9a2fb5f93d14e52b",
       "IPY_MODEL_b9918d33efaf45a6b60248aa30458f40"
      ],
      "layout": "IPY_MODEL_5c915ed456564abbafca2c2b5a29c29c"
     }
    },
    "b8104c55b6b546ebbfb6025acbcd7ed3": {
     "model_module": "@jupyter-widgets/base",
     "model_module_version": "1.2.0",
     "model_name": "LayoutModel",
     "state": {
      "_model_module": "@jupyter-widgets/base",
      "_model_module_version": "1.2.0",
      "_model_name": "LayoutModel",
      "_view_count": null,
      "_view_module": "@jupyter-widgets/base",
      "_view_module_version": "1.2.0",
      "_view_name": "LayoutView",
      "align_content": null,
      "align_items": null,
      "align_self": null,
      "border": null,
      "bottom": null,
      "display": null,
      "flex": null,
      "flex_flow": null,
      "grid_area": null,
      "grid_auto_columns": null,
      "grid_auto_flow": null,
      "grid_auto_rows": null,
      "grid_column": null,
      "grid_gap": null,
      "grid_row": null,
      "grid_template_areas": null,
      "grid_template_columns": null,
      "grid_template_rows": null,
      "height": null,
      "justify_content": null,
      "justify_items": null,
      "left": null,
      "margin": null,
      "max_height": null,
      "max_width": null,
      "min_height": null,
      "min_width": null,
      "object_fit": null,
      "object_position": null,
      "order": null,
      "overflow": null,
      "overflow_x": null,
      "overflow_y": null,
      "padding": null,
      "right": null,
      "top": null,
      "visibility": null,
      "width": null
     }
    },
    "b9918d33efaf45a6b60248aa30458f40": {
     "model_module": "@jupyter-widgets/controls",
     "model_module_version": "1.5.0",
     "model_name": "HTMLModel",
     "state": {
      "_dom_classes": [],
      "_model_module": "@jupyter-widgets/controls",
      "_model_module_version": "1.5.0",
      "_model_name": "HTMLModel",
      "_view_count": null,
      "_view_module": "@jupyter-widgets/controls",
      "_view_module_version": "1.5.0",
      "_view_name": "HTMLView",
      "description": "",
      "description_tooltip": null,
      "layout": "IPY_MODEL_29682c88753f4224acef5321c78cb951",
      "placeholder": "​",
      "style": "IPY_MODEL_8066bc3b957d407cab97d6ecbd2474a5",
      "value": " 456k/456k [00:00&lt;00:00, 1.89MB/s]"
     }
    },
    "ba2e2ab44d6a432f803a4db02de7474f": {
     "model_module": "@jupyter-widgets/controls",
     "model_module_version": "1.5.0",
     "model_name": "FloatProgressModel",
     "state": {
      "_dom_classes": [],
      "_model_module": "@jupyter-widgets/controls",
      "_model_module_version": "1.5.0",
      "_model_name": "FloatProgressModel",
      "_view_count": null,
      "_view_module": "@jupyter-widgets/controls",
      "_view_module_version": "1.5.0",
      "_view_name": "ProgressView",
      "bar_style": "success",
      "description": "",
      "description_tooltip": null,
      "layout": "IPY_MODEL_be56bc2ddf574a1fa698e1c99fce4b1b",
      "max": 498818054,
      "min": 0,
      "orientation": "horizontal",
      "style": "IPY_MODEL_fe6708cb05b249f89de16c8dc46c8216",
      "value": 498818054
     }
    },
    "ba3170e97a8740bea641db00ae1c02c5": {
     "model_module": "@jupyter-widgets/controls",
     "model_module_version": "1.5.0",
     "model_name": "FloatProgressModel",
     "state": {
      "_dom_classes": [],
      "_model_module": "@jupyter-widgets/controls",
      "_model_module_version": "1.5.0",
      "_model_name": "FloatProgressModel",
      "_view_count": null,
      "_view_module": "@jupyter-widgets/controls",
      "_view_module_version": "1.5.0",
      "_view_name": "ProgressView",
      "bar_style": "success",
      "description": "",
      "description_tooltip": null,
      "layout": "IPY_MODEL_170ce8d70e2e434a957a204fef958d0e",
      "max": 371146213,
      "min": 0,
      "orientation": "horizontal",
      "style": "IPY_MODEL_8d33e380d03e407aa60aff281f0b0afd",
      "value": 371146213
     }
    },
    "bc0ddf9711c84b66bb67305fae0a4213": {
     "model_module": "@jupyter-widgets/controls",
     "model_module_version": "1.5.0",
     "model_name": "DescriptionStyleModel",
     "state": {
      "_model_module": "@jupyter-widgets/controls",
      "_model_module_version": "1.5.0",
      "_model_name": "DescriptionStyleModel",
      "_view_count": null,
      "_view_module": "@jupyter-widgets/base",
      "_view_module_version": "1.2.0",
      "_view_name": "StyleView",
      "description_width": ""
     }
    },
    "bcd8dc198b2c48e6af3b175826679cb5": {
     "model_module": "@jupyter-widgets/controls",
     "model_module_version": "1.5.0",
     "model_name": "DescriptionStyleModel",
     "state": {
      "_model_module": "@jupyter-widgets/controls",
      "_model_module_version": "1.5.0",
      "_model_name": "DescriptionStyleModel",
      "_view_count": null,
      "_view_module": "@jupyter-widgets/base",
      "_view_module_version": "1.2.0",
      "_view_name": "StyleView",
      "description_width": ""
     }
    },
    "be56bc2ddf574a1fa698e1c99fce4b1b": {
     "model_module": "@jupyter-widgets/base",
     "model_module_version": "1.2.0",
     "model_name": "LayoutModel",
     "state": {
      "_model_module": "@jupyter-widgets/base",
      "_model_module_version": "1.2.0",
      "_model_name": "LayoutModel",
      "_view_count": null,
      "_view_module": "@jupyter-widgets/base",
      "_view_module_version": "1.2.0",
      "_view_name": "LayoutView",
      "align_content": null,
      "align_items": null,
      "align_self": null,
      "border": null,
      "bottom": null,
      "display": null,
      "flex": null,
      "flex_flow": null,
      "grid_area": null,
      "grid_auto_columns": null,
      "grid_auto_flow": null,
      "grid_auto_rows": null,
      "grid_column": null,
      "grid_gap": null,
      "grid_row": null,
      "grid_template_areas": null,
      "grid_template_columns": null,
      "grid_template_rows": null,
      "height": null,
      "justify_content": null,
      "justify_items": null,
      "left": null,
      "margin": null,
      "max_height": null,
      "max_width": null,
      "min_height": null,
      "min_width": null,
      "object_fit": null,
      "object_position": null,
      "order": null,
      "overflow": null,
      "overflow_x": null,
      "overflow_y": null,
      "padding": null,
      "right": null,
      "top": null,
      "visibility": null,
      "width": null
     }
    },
    "bf68f5b870bc4eceb97d46ed88c262b3": {
     "model_module": "@jupyter-widgets/controls",
     "model_module_version": "1.5.0",
     "model_name": "HTMLModel",
     "state": {
      "_dom_classes": [],
      "_model_module": "@jupyter-widgets/controls",
      "_model_module_version": "1.5.0",
      "_model_name": "HTMLModel",
      "_view_count": null,
      "_view_module": "@jupyter-widgets/controls",
      "_view_module_version": "1.5.0",
      "_view_name": "HTMLView",
      "description": "",
      "description_tooltip": null,
      "layout": "IPY_MODEL_7a4a77d1eae041ffbaeb3657db8ba4b7",
      "placeholder": "​",
      "style": "IPY_MODEL_12912dfee48c44d2b226070e88cc85ec",
      "value": "spm.model: 100%"
     }
    },
    "c215edb6e4c5437f93f19a190f800830": {
     "model_module": "@jupyter-widgets/base",
     "model_module_version": "1.2.0",
     "model_name": "LayoutModel",
     "state": {
      "_model_module": "@jupyter-widgets/base",
      "_model_module_version": "1.2.0",
      "_model_name": "LayoutModel",
      "_view_count": null,
      "_view_module": "@jupyter-widgets/base",
      "_view_module_version": "1.2.0",
      "_view_name": "LayoutView",
      "align_content": null,
      "align_items": null,
      "align_self": null,
      "border": null,
      "bottom": null,
      "display": null,
      "flex": null,
      "flex_flow": null,
      "grid_area": null,
      "grid_auto_columns": null,
      "grid_auto_flow": null,
      "grid_auto_rows": null,
      "grid_column": null,
      "grid_gap": null,
      "grid_row": null,
      "grid_template_areas": null,
      "grid_template_columns": null,
      "grid_template_rows": null,
      "height": null,
      "justify_content": null,
      "justify_items": null,
      "left": null,
      "margin": null,
      "max_height": null,
      "max_width": null,
      "min_height": null,
      "min_width": null,
      "object_fit": null,
      "object_position": null,
      "order": null,
      "overflow": null,
      "overflow_x": null,
      "overflow_y": null,
      "padding": null,
      "right": null,
      "top": null,
      "visibility": null,
      "width": null
     }
    },
    "cbab1927e600400dbc132a380c2de847": {
     "model_module": "@jupyter-widgets/controls",
     "model_module_version": "1.5.0",
     "model_name": "HBoxModel",
     "state": {
      "_dom_classes": [],
      "_model_module": "@jupyter-widgets/controls",
      "_model_module_version": "1.5.0",
      "_model_name": "HBoxModel",
      "_view_count": null,
      "_view_module": "@jupyter-widgets/controls",
      "_view_module_version": "1.5.0",
      "_view_name": "HBoxView",
      "box_style": "",
      "children": [
       "IPY_MODEL_0541d50a27c04fb687b8c5b637623ac8",
       "IPY_MODEL_ba2e2ab44d6a432f803a4db02de7474f",
       "IPY_MODEL_f3972e00b4ea4e44b38c17045f44d1e4"
      ],
      "layout": "IPY_MODEL_6e43ee6969db441492b4cc20bd4770a3"
     }
    },
    "cdd7505901db44afaeb81dba3b755282": {
     "model_module": "@jupyter-widgets/base",
     "model_module_version": "1.2.0",
     "model_name": "LayoutModel",
     "state": {
      "_model_module": "@jupyter-widgets/base",
      "_model_module_version": "1.2.0",
      "_model_name": "LayoutModel",
      "_view_count": null,
      "_view_module": "@jupyter-widgets/base",
      "_view_module_version": "1.2.0",
      "_view_name": "LayoutView",
      "align_content": null,
      "align_items": null,
      "align_self": null,
      "border": null,
      "bottom": null,
      "display": null,
      "flex": null,
      "flex_flow": null,
      "grid_area": null,
      "grid_auto_columns": null,
      "grid_auto_flow": null,
      "grid_auto_rows": null,
      "grid_column": null,
      "grid_gap": null,
      "grid_row": null,
      "grid_template_areas": null,
      "grid_template_columns": null,
      "grid_template_rows": null,
      "height": null,
      "justify_content": null,
      "justify_items": null,
      "left": null,
      "margin": null,
      "max_height": null,
      "max_width": null,
      "min_height": null,
      "min_width": null,
      "object_fit": null,
      "object_position": null,
      "order": null,
      "overflow": null,
      "overflow_x": null,
      "overflow_y": null,
      "padding": null,
      "right": null,
      "top": null,
      "visibility": null,
      "width": null
     }
    },
    "d0249adb7fc14cf0b61f7df5ed3c49f8": {
     "model_module": "@jupyter-widgets/base",
     "model_module_version": "1.2.0",
     "model_name": "LayoutModel",
     "state": {
      "_model_module": "@jupyter-widgets/base",
      "_model_module_version": "1.2.0",
      "_model_name": "LayoutModel",
      "_view_count": null,
      "_view_module": "@jupyter-widgets/base",
      "_view_module_version": "1.2.0",
      "_view_name": "LayoutView",
      "align_content": null,
      "align_items": null,
      "align_self": null,
      "border": null,
      "bottom": null,
      "display": null,
      "flex": null,
      "flex_flow": null,
      "grid_area": null,
      "grid_auto_columns": null,
      "grid_auto_flow": null,
      "grid_auto_rows": null,
      "grid_column": null,
      "grid_gap": null,
      "grid_row": null,
      "grid_template_areas": null,
      "grid_template_columns": null,
      "grid_template_rows": null,
      "height": null,
      "justify_content": null,
      "justify_items": null,
      "left": null,
      "margin": null,
      "max_height": null,
      "max_width": null,
      "min_height": null,
      "min_width": null,
      "object_fit": null,
      "object_position": null,
      "order": null,
      "overflow": null,
      "overflow_x": null,
      "overflow_y": null,
      "padding": null,
      "right": null,
      "top": null,
      "visibility": null,
      "width": null
     }
    },
    "d0570d80530c4056bc4503458c28dad6": {
     "model_module": "@jupyter-widgets/base",
     "model_module_version": "1.2.0",
     "model_name": "LayoutModel",
     "state": {
      "_model_module": "@jupyter-widgets/base",
      "_model_module_version": "1.2.0",
      "_model_name": "LayoutModel",
      "_view_count": null,
      "_view_module": "@jupyter-widgets/base",
      "_view_module_version": "1.2.0",
      "_view_name": "LayoutView",
      "align_content": null,
      "align_items": null,
      "align_self": null,
      "border": null,
      "bottom": null,
      "display": null,
      "flex": null,
      "flex_flow": null,
      "grid_area": null,
      "grid_auto_columns": null,
      "grid_auto_flow": null,
      "grid_auto_rows": null,
      "grid_column": null,
      "grid_gap": null,
      "grid_row": null,
      "grid_template_areas": null,
      "grid_template_columns": null,
      "grid_template_rows": null,
      "height": null,
      "justify_content": null,
      "justify_items": null,
      "left": null,
      "margin": null,
      "max_height": null,
      "max_width": null,
      "min_height": null,
      "min_width": null,
      "object_fit": null,
      "object_position": null,
      "order": null,
      "overflow": null,
      "overflow_x": null,
      "overflow_y": null,
      "padding": null,
      "right": null,
      "top": null,
      "visibility": null,
      "width": null
     }
    },
    "d0c580f7f01048809d75098819369eb1": {
     "model_module": "@jupyter-widgets/base",
     "model_module_version": "1.2.0",
     "model_name": "LayoutModel",
     "state": {
      "_model_module": "@jupyter-widgets/base",
      "_model_module_version": "1.2.0",
      "_model_name": "LayoutModel",
      "_view_count": null,
      "_view_module": "@jupyter-widgets/base",
      "_view_module_version": "1.2.0",
      "_view_name": "LayoutView",
      "align_content": null,
      "align_items": null,
      "align_self": null,
      "border": null,
      "bottom": null,
      "display": null,
      "flex": null,
      "flex_flow": null,
      "grid_area": null,
      "grid_auto_columns": null,
      "grid_auto_flow": null,
      "grid_auto_rows": null,
      "grid_column": null,
      "grid_gap": null,
      "grid_row": null,
      "grid_template_areas": null,
      "grid_template_columns": null,
      "grid_template_rows": null,
      "height": null,
      "justify_content": null,
      "justify_items": null,
      "left": null,
      "margin": null,
      "max_height": null,
      "max_width": null,
      "min_height": null,
      "min_width": null,
      "object_fit": null,
      "object_position": null,
      "order": null,
      "overflow": null,
      "overflow_x": null,
      "overflow_y": null,
      "padding": null,
      "right": null,
      "top": null,
      "visibility": null,
      "width": null
     }
    },
    "d65750bc40384b1baaf8e1afb6ead097": {
     "model_module": "@jupyter-widgets/controls",
     "model_module_version": "1.5.0",
     "model_name": "HTMLModel",
     "state": {
      "_dom_classes": [],
      "_model_module": "@jupyter-widgets/controls",
      "_model_module_version": "1.5.0",
      "_model_name": "HTMLModel",
      "_view_count": null,
      "_view_module": "@jupyter-widgets/controls",
      "_view_module_version": "1.5.0",
      "_view_name": "HTMLView",
      "description": "",
      "description_tooltip": null,
      "layout": "IPY_MODEL_fda3bc52a832454d8e4e887ae0944681",
      "placeholder": "​",
      "style": "IPY_MODEL_19b664cb659b4281addeacb6c8af421b",
      "value": " 52.0/52.0 [00:00&lt;00:00, 4.34kB/s]"
     }
    },
    "d769756c12f140668ce7cebaf28afd00": {
     "model_module": "@jupyter-widgets/controls",
     "model_module_version": "1.5.0",
     "model_name": "FloatProgressModel",
     "state": {
      "_dom_classes": [],
      "_model_module": "@jupyter-widgets/controls",
      "_model_module_version": "1.5.0",
      "_model_name": "FloatProgressModel",
      "_view_count": null,
      "_view_module": "@jupyter-widgets/controls",
      "_view_module_version": "1.5.0",
      "_view_name": "ProgressView",
      "bar_style": "success",
      "description": "",
      "description_tooltip": null,
      "layout": "IPY_MODEL_d0249adb7fc14cf0b61f7df5ed3c49f8",
      "max": 2464616,
      "min": 0,
      "orientation": "horizontal",
      "style": "IPY_MODEL_1699193a8e204677b2f6b7f3fb4188fb",
      "value": 2464616
     }
    },
    "d8405598ccfa4498a9db2e4ec5aa8526": {
     "model_module": "@jupyter-widgets/base",
     "model_module_version": "1.2.0",
     "model_name": "LayoutModel",
     "state": {
      "_model_module": "@jupyter-widgets/base",
      "_model_module_version": "1.2.0",
      "_model_name": "LayoutModel",
      "_view_count": null,
      "_view_module": "@jupyter-widgets/base",
      "_view_module_version": "1.2.0",
      "_view_name": "LayoutView",
      "align_content": null,
      "align_items": null,
      "align_self": null,
      "border": null,
      "bottom": null,
      "display": null,
      "flex": null,
      "flex_flow": null,
      "grid_area": null,
      "grid_auto_columns": null,
      "grid_auto_flow": null,
      "grid_auto_rows": null,
      "grid_column": null,
      "grid_gap": null,
      "grid_row": null,
      "grid_template_areas": null,
      "grid_template_columns": null,
      "grid_template_rows": null,
      "height": null,
      "justify_content": null,
      "justify_items": null,
      "left": null,
      "margin": null,
      "max_height": null,
      "max_width": null,
      "min_height": null,
      "min_width": null,
      "object_fit": null,
      "object_position": null,
      "order": null,
      "overflow": null,
      "overflow_x": null,
      "overflow_y": null,
      "padding": null,
      "right": null,
      "top": null,
      "visibility": null,
      "width": null
     }
    },
    "da66a6f5af904c6da1bd2789672b84d3": {
     "model_module": "@jupyter-widgets/controls",
     "model_module_version": "1.5.0",
     "model_name": "DescriptionStyleModel",
     "state": {
      "_model_module": "@jupyter-widgets/controls",
      "_model_module_version": "1.5.0",
      "_model_name": "DescriptionStyleModel",
      "_view_count": null,
      "_view_module": "@jupyter-widgets/base",
      "_view_module_version": "1.2.0",
      "_view_name": "StyleView",
      "description_width": ""
     }
    },
    "dddcd10048964534897885a07ab75356": {
     "model_module": "@jupyter-widgets/base",
     "model_module_version": "1.2.0",
     "model_name": "LayoutModel",
     "state": {
      "_model_module": "@jupyter-widgets/base",
      "_model_module_version": "1.2.0",
      "_model_name": "LayoutModel",
      "_view_count": null,
      "_view_module": "@jupyter-widgets/base",
      "_view_module_version": "1.2.0",
      "_view_name": "LayoutView",
      "align_content": null,
      "align_items": null,
      "align_self": null,
      "border": null,
      "bottom": null,
      "display": null,
      "flex": null,
      "flex_flow": null,
      "grid_area": null,
      "grid_auto_columns": null,
      "grid_auto_flow": null,
      "grid_auto_rows": null,
      "grid_column": null,
      "grid_gap": null,
      "grid_row": null,
      "grid_template_areas": null,
      "grid_template_columns": null,
      "grid_template_rows": null,
      "height": null,
      "justify_content": null,
      "justify_items": null,
      "left": null,
      "margin": null,
      "max_height": null,
      "max_width": null,
      "min_height": null,
      "min_width": null,
      "object_fit": null,
      "object_position": null,
      "order": null,
      "overflow": null,
      "overflow_x": null,
      "overflow_y": null,
      "padding": null,
      "right": null,
      "top": null,
      "visibility": null,
      "width": null
     }
    },
    "df388c767c214de2bc63c2417224401d": {
     "model_module": "@jupyter-widgets/controls",
     "model_module_version": "1.5.0",
     "model_name": "HTMLModel",
     "state": {
      "_dom_classes": [],
      "_model_module": "@jupyter-widgets/controls",
      "_model_module_version": "1.5.0",
      "_model_name": "HTMLModel",
      "_view_count": null,
      "_view_module": "@jupyter-widgets/controls",
      "_view_module_version": "1.5.0",
      "_view_name": "HTMLView",
      "description": "",
      "description_tooltip": null,
      "layout": "IPY_MODEL_78b76b48c8804d9ea1695d1926073aaf",
      "placeholder": "​",
      "style": "IPY_MODEL_01f047b66b4a4d31bc3813d1e7b88635",
      "value": "pytorch_model.bin: 100%"
     }
    },
    "e857e6af9134469b83febc4eb1a7bf7e": {
     "model_module": "@jupyter-widgets/controls",
     "model_module_version": "1.5.0",
     "model_name": "HTMLModel",
     "state": {
      "_dom_classes": [],
      "_model_module": "@jupyter-widgets/controls",
      "_model_module_version": "1.5.0",
      "_model_name": "HTMLModel",
      "_view_count": null,
      "_view_module": "@jupyter-widgets/controls",
      "_view_module_version": "1.5.0",
      "_view_name": "HTMLView",
      "description": "",
      "description_tooltip": null,
      "layout": "IPY_MODEL_884b8e972da842bf9f071ff3d2219664",
      "placeholder": "​",
      "style": "IPY_MODEL_ad2a5fe4963141539807aa92ad2ba488",
      "value": " 1.36M/1.36M [00:00&lt;00:00, 4.10MB/s]"
     }
    },
    "e9c04e44a9c042f584e1b2d7058f796e": {
     "model_module": "@jupyter-widgets/base",
     "model_module_version": "1.2.0",
     "model_name": "LayoutModel",
     "state": {
      "_model_module": "@jupyter-widgets/base",
      "_model_module_version": "1.2.0",
      "_model_name": "LayoutModel",
      "_view_count": null,
      "_view_module": "@jupyter-widgets/base",
      "_view_module_version": "1.2.0",
      "_view_name": "LayoutView",
      "align_content": null,
      "align_items": null,
      "align_self": null,
      "border": null,
      "bottom": null,
      "display": null,
      "flex": null,
      "flex_flow": null,
      "grid_area": null,
      "grid_auto_columns": null,
      "grid_auto_flow": null,
      "grid_auto_rows": null,
      "grid_column": null,
      "grid_gap": null,
      "grid_row": null,
      "grid_template_areas": null,
      "grid_template_columns": null,
      "grid_template_rows": null,
      "height": null,
      "justify_content": null,
      "justify_items": null,
      "left": null,
      "margin": null,
      "max_height": null,
      "max_width": null,
      "min_height": null,
      "min_width": null,
      "object_fit": null,
      "object_position": null,
      "order": null,
      "overflow": null,
      "overflow_x": null,
      "overflow_y": null,
      "padding": null,
      "right": null,
      "top": null,
      "visibility": null,
      "width": null
     }
    },
    "ebd02a2b3a1b4e6b85fd85b934f1a486": {
     "model_module": "@jupyter-widgets/controls",
     "model_module_version": "1.5.0",
     "model_name": "DescriptionStyleModel",
     "state": {
      "_model_module": "@jupyter-widgets/controls",
      "_model_module_version": "1.5.0",
      "_model_name": "DescriptionStyleModel",
      "_view_count": null,
      "_view_module": "@jupyter-widgets/base",
      "_view_module_version": "1.2.0",
      "_view_name": "StyleView",
      "description_width": ""
     }
    },
    "ee6381137a6a45bf9cb7fc8d81c684a1": {
     "model_module": "@jupyter-widgets/base",
     "model_module_version": "1.2.0",
     "model_name": "LayoutModel",
     "state": {
      "_model_module": "@jupyter-widgets/base",
      "_model_module_version": "1.2.0",
      "_model_name": "LayoutModel",
      "_view_count": null,
      "_view_module": "@jupyter-widgets/base",
      "_view_module_version": "1.2.0",
      "_view_name": "LayoutView",
      "align_content": null,
      "align_items": null,
      "align_self": null,
      "border": null,
      "bottom": null,
      "display": null,
      "flex": null,
      "flex_flow": null,
      "grid_area": null,
      "grid_auto_columns": null,
      "grid_auto_flow": null,
      "grid_auto_rows": null,
      "grid_column": null,
      "grid_gap": null,
      "grid_row": null,
      "grid_template_areas": null,
      "grid_template_columns": null,
      "grid_template_rows": null,
      "height": null,
      "justify_content": null,
      "justify_items": null,
      "left": null,
      "margin": null,
      "max_height": null,
      "max_width": null,
      "min_height": null,
      "min_width": null,
      "object_fit": null,
      "object_position": null,
      "order": null,
      "overflow": null,
      "overflow_x": null,
      "overflow_y": null,
      "padding": null,
      "right": null,
      "top": null,
      "visibility": null,
      "width": null
     }
    },
    "f3972e00b4ea4e44b38c17045f44d1e4": {
     "model_module": "@jupyter-widgets/controls",
     "model_module_version": "1.5.0",
     "model_name": "HTMLModel",
     "state": {
      "_dom_classes": [],
      "_model_module": "@jupyter-widgets/controls",
      "_model_module_version": "1.5.0",
      "_model_name": "HTMLModel",
      "_view_count": null,
      "_view_module": "@jupyter-widgets/controls",
      "_view_module_version": "1.5.0",
      "_view_name": "HTMLView",
      "description": "",
      "description_tooltip": null,
      "layout": "IPY_MODEL_9ee54b7b42174eeeb4ec58fdf52bc6d3",
      "placeholder": "​",
      "style": "IPY_MODEL_291f141dfb0b450ba63bef953c90d85b",
      "value": " 499M/499M [00:01&lt;00:00, 353MB/s]"
     }
    },
    "f41254fce5714f47aa9d08dad526c492": {
     "model_module": "@jupyter-widgets/controls",
     "model_module_version": "1.5.0",
     "model_name": "HTMLModel",
     "state": {
      "_dom_classes": [],
      "_model_module": "@jupyter-widgets/controls",
      "_model_module_version": "1.5.0",
      "_model_name": "HTMLModel",
      "_view_count": null,
      "_view_module": "@jupyter-widgets/controls",
      "_view_module_version": "1.5.0",
      "_view_name": "HTMLView",
      "description": "",
      "description_tooltip": null,
      "layout": "IPY_MODEL_dddcd10048964534897885a07ab75356",
      "placeholder": "​",
      "style": "IPY_MODEL_8ac5ffc4b19d4ad7bfb614bdee42872e",
      "value": "tokenizer.json: 100%"
     }
    },
    "f69613034cbf479492a875bb861c0705": {
     "model_module": "@jupyter-widgets/controls",
     "model_module_version": "1.5.0",
     "model_name": "HBoxModel",
     "state": {
      "_dom_classes": [],
      "_model_module": "@jupyter-widgets/controls",
      "_model_module_version": "1.5.0",
      "_model_name": "HBoxModel",
      "_view_count": null,
      "_view_module": "@jupyter-widgets/controls",
      "_view_module_version": "1.5.0",
      "_view_name": "HBoxView",
      "box_style": "",
      "children": [
       "IPY_MODEL_4d11f5f9585e4e4a861048edbe98bce3",
       "IPY_MODEL_203440420d264cb68fd0b23967f325a1",
       "IPY_MODEL_d65750bc40384b1baaf8e1afb6ead097"
      ],
      "layout": "IPY_MODEL_7e620b6819984680bfb170253b97116d"
     }
    },
    "fb70e506c211493db39b115106db8c5c": {
     "model_module": "@jupyter-widgets/controls",
     "model_module_version": "1.5.0",
     "model_name": "DescriptionStyleModel",
     "state": {
      "_model_module": "@jupyter-widgets/controls",
      "_model_module_version": "1.5.0",
      "_model_name": "DescriptionStyleModel",
      "_view_count": null,
      "_view_module": "@jupyter-widgets/base",
      "_view_module_version": "1.2.0",
      "_view_name": "StyleView",
      "description_width": ""
     }
    },
    "fda3bc52a832454d8e4e887ae0944681": {
     "model_module": "@jupyter-widgets/base",
     "model_module_version": "1.2.0",
     "model_name": "LayoutModel",
     "state": {
      "_model_module": "@jupyter-widgets/base",
      "_model_module_version": "1.2.0",
      "_model_name": "LayoutModel",
      "_view_count": null,
      "_view_module": "@jupyter-widgets/base",
      "_view_module_version": "1.2.0",
      "_view_name": "LayoutView",
      "align_content": null,
      "align_items": null,
      "align_self": null,
      "border": null,
      "bottom": null,
      "display": null,
      "flex": null,
      "flex_flow": null,
      "grid_area": null,
      "grid_auto_columns": null,
      "grid_auto_flow": null,
      "grid_auto_rows": null,
      "grid_column": null,
      "grid_gap": null,
      "grid_row": null,
      "grid_template_areas": null,
      "grid_template_columns": null,
      "grid_template_rows": null,
      "height": null,
      "justify_content": null,
      "justify_items": null,
      "left": null,
      "margin": null,
      "max_height": null,
      "max_width": null,
      "min_height": null,
      "min_width": null,
      "object_fit": null,
      "object_position": null,
      "order": null,
      "overflow": null,
      "overflow_x": null,
      "overflow_y": null,
      "padding": null,
      "right": null,
      "top": null,
      "visibility": null,
      "width": null
     }
    },
    "fe6708cb05b249f89de16c8dc46c8216": {
     "model_module": "@jupyter-widgets/controls",
     "model_module_version": "1.5.0",
     "model_name": "ProgressStyleModel",
     "state": {
      "_model_module": "@jupyter-widgets/controls",
      "_model_module_version": "1.5.0",
      "_model_name": "ProgressStyleModel",
      "_view_count": null,
      "_view_module": "@jupyter-widgets/base",
      "_view_module_version": "1.2.0",
      "_view_name": "StyleView",
      "bar_color": null,
      "description_width": ""
     }
    }
   }
  }
 },
 "nbformat": 4,
 "nbformat_minor": 4
}
